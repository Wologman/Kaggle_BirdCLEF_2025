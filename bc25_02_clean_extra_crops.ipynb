{
 "cells": [
  {
   "cell_type": "markdown",
   "metadata": {},
   "source": [
    "## Interactive audio sample cleaning"
   ]
  },
  {
   "cell_type": "code",
   "execution_count": 198,
   "metadata": {},
   "outputs": [],
   "source": [
    "use_case = {\n",
    "            'experiment' : 1,\n",
    "            'project_root': '/home/olly/Desktop/Kaggle_BC25',\n",
    "            #'project_root': r'C:\\Users\\ollyp\\OneDrive\\Desktop\\Kaggle_BC25'\n",
    "            #'project_root': '/media/olly/Red_SSD/Kaggle_BC25'\n",
    "            }"
   ]
  },
  {
   "cell_type": "code",
   "execution_count": 199,
   "metadata": {
    "execution": {
     "iopub.execute_input": "2025-03-17T09:12:01.715695Z",
     "iopub.status.busy": "2025-03-17T09:12:01.715241Z",
     "iopub.status.idle": "2025-03-17T09:12:05.641574Z",
     "shell.execute_reply": "2025-03-17T09:12:05.640495Z",
     "shell.execute_reply.started": "2025-03-17T09:12:01.715652Z"
    },
    "trusted": true
   },
   "outputs": [],
   "source": [
    "import librosa\n",
    "import time\n",
    "from time import sleep\n",
    "import matplotlib.pyplot as plt\n",
    "import numpy as np\n",
    "import pandas as pd\n",
    "import torch\n",
    "from pathlib import Path\n",
    "from glob import glob\n",
    "from tqdm import tqdm\n",
    "import torchaudio\n",
    "import pickle\n",
    "import matplotlib.animation as animation\n",
    "import IPython.display as ipd\n",
    "import torchaudio.transforms as T\n",
    "from IPython.display import display, HTML, Audio  # Fixed deprecated import\n",
    "import librosa.display\n",
    "import time\n",
    "import IPython.display as ipd\n",
    "from joblib import Parallel, delayed\n",
    "#from IPython.core.display import display, HTML\n",
    "\n",
    "import ipywidgets as widgets\n",
    "button = widgets.Button(description=\"Continue\")\n",
    "output = widgets.Output()\n",
    "\n",
    "%matplotlib widget  \n",
    "torch.set_num_threads(1)"
   ]
  },
  {
   "cell_type": "code",
   "execution_count": 200,
   "metadata": {},
   "outputs": [],
   "source": [
    "class FilePaths:\n",
    "    def __init__(self, options=None):\n",
    "        _project_dir = Path(options['project_root'])\n",
    "        self.DATA_FOLDER = _project_dir / 'Data'\n",
    "        self.ORIGINAL_AUDIO = self.DATA_FOLDER / 'Original_Data/birdclef-2025/Extra_Samples'\n",
    "        self.KAGGLE_LABELS = self.DATA_FOLDER / 'Original_Data/birdclef-2025/train_extra.csv'\n",
    "        self.CROP_LABELS = self.DATA_FOLDER / 'Train_Metadata' / 'marked_labels.parquet'\n",
    "        self.OUTPUT_CSV_PATH = self.DATA_FOLDER / 'Train_Metadata/train.csv'\n",
    "        self.OUTPUT_NAMING_CSV_PATH = self.DATA_FOLDER / 'Train_Metadata/naming.csv'\n",
    "        self.OUTPUT_JSON_PATH = self.DATA_FOLDER / 'Train_Metadata/species_names.json'\n",
    "\n",
    "paths = FilePaths(use_case)"
   ]
  },
  {
   "cell_type": "code",
   "execution_count": 201,
   "metadata": {},
   "outputs": [],
   "source": [
    "class VoiceDetector():\n",
    "    def __init__(self, chunk_len, threshold=0.1, no_voice=0, voice=20):\n",
    "        model, (get_speech_timestamps, _, read_audio, _, _) = torch.hub.load(repo_or_dir='snakers4/silero-vad',\n",
    "                                                                 model='silero_vad', verbose=False)\n",
    "        self.model=model\n",
    "        self.chunk_len=chunk_len\n",
    "        self.threshold=threshold\n",
    "        self.get_stamps = get_speech_timestamps\n",
    "\n",
    "    def detect(self, np_wav):\n",
    "        speech_timestamps = self.get_stamps(torch.Tensor(np_wav), self.model, threshold=self.threshold)\n",
    "        voice_detect = np.zeros_like(np_wav)\n",
    "        for st in speech_timestamps:\n",
    "            voice_detect[st['start']: st['end']] = 20\n",
    "    \n",
    "        #downsample to match the power plot axis\n",
    "        voice_detect = np.pad(voice_detect, \n",
    "                            (0, int(np.ceil(len(voice_detect) / self.chunk_len) * self.chunk_len - len(voice_detect))))\n",
    "        voice_detect = voice_detect.reshape((-1, self.chunk_len)).max(axis=1)  # Use max to preserve speech detection\n",
    "        return voice_detect\n",
    "    \n",
    "def calc_signal_pwr(wav, chunk_len, sr=32000):\n",
    "    power = wav ** 2 \n",
    "    power = np.pad(power, (0, int(np.ceil(len(power) / chunk_len) * chunk_len - len(power))))\n",
    "    power = power.reshape((-1, chunk_len)).sum(axis=1)\n",
    "    return power\n",
    "\n",
    "class MelSpecMaker():\n",
    "    def __init__(self, sr=32000, n_mels=128, n_fft=2048, f_min = 20, f_max=14000):\n",
    "        self.sr = sr\n",
    "        self.n_mels = n_mels\n",
    "        self.n_fft = n_fft\n",
    "        self.f_min = f_min\n",
    "        self.f_max = f_max\n",
    "        self.mel_transform = T.MelSpectrogram(sample_rate=self.sr,\n",
    "                                              n_mels=self.n_mels,\n",
    "                                              f_min=self.f_min,\n",
    "                                              f_max=self.f_max,\n",
    "                                              n_fft=self.n_fft)\n",
    "\n",
    "    def create_melspec(self, waveform):\n",
    "        waveform = torch.tensor(waveform).unsqueeze(0)  #We need a channel-first Torch tensor\n",
    "        mel_spec = self.mel_transform(waveform)\n",
    "        mel_spec_db = torchaudio.functional.amplitude_to_DB(\n",
    "            mel_spec, \n",
    "            multiplier=10.0, \n",
    "            amin=1e-10,  \n",
    "            db_multiplier=0.0  \n",
    "        ).squeeze(0).numpy()\n",
    "\n",
    "        num_frames = mel_spec_db.shape[1]\n",
    "        duration = waveform.shape[1] / self.sr \n",
    "        time_axis = np.linspace(0, duration, num=num_frames)\n",
    "        mel_frequencies = librosa.mel_frequencies(n_mels=self.n_mels, fmin=20, fmax=14000)\n",
    "\n",
    "        return mel_spec_db, time_axis, mel_frequencies\n",
    "\n",
    "def interactive_plot(mel_spec_db,\n",
    "                     mel_frequencies,\n",
    "                     power,\n",
    "                     segmentation,\n",
    "                     chunk_duration,\n",
    "                     common_nm,\n",
    "                     zoo_cls):\n",
    "    \"\"\"Interactive plot with click-based marking, auto-spacing, and drag-to-mark functionality.\"\"\"\n",
    "    \n",
    "    duration = len(power) * chunk_duration\n",
    "    t_power = np.arange(len(power)) * chunk_duration\n",
    "    t_seg = np.arange(len(segmentation)) * chunk_duration\n",
    "    t_melspec = np.linspace(0, duration, num=mel_spec_db.shape[1])\n",
    "\n",
    "    marked_times = []\n",
    "    marked_lines = []\n",
    "    dragging = False\n",
    "    start_time = None\n",
    "    \n",
    "    fig, ax = plt.subplots(figsize=(8, 2))\n",
    "    ax.set_title(f'Recording of a {common_nm} ({zoo_cls})')\n",
    "\n",
    "    img = ax.imshow(mel_spec_db, aspect='auto', origin='lower', cmap='magma',\n",
    "                    extent=[t_melspec[0], t_melspec[-1], mel_frequencies[0], mel_frequencies[-1]],\n",
    "                    zorder=1)\n",
    "\n",
    "    ax.set_xlabel(\"Time (s)\")\n",
    "    ax.set_ylabel(\"Frequency (Hz)\", color='m')\n",
    "    ax.tick_params(axis='y', labelcolor='m')\n",
    "\n",
    "    ax2 = ax.twinx()\n",
    "    ax2.plot(t_power, 10 * np.log10(power), 'b', label='Power', zorder=2)  \n",
    "    ax2.plot(t_seg, segmentation, 'k', label='Voice', zorder=2)\n",
    "    ax2.set_ylabel(\"Power (dB) / Voice Detection\", color='b')\n",
    "    ax2.tick_params(axis='y', labelcolor='b')\n",
    "    ax2.legend(loc=\"upper right\")\n",
    "\n",
    "    def add_marker(time):\n",
    "        if time not in marked_times:\n",
    "            marked_times.append(time)\n",
    "            line1 = ax.axvline(time - 6, color='gray', linestyle='--', zorder=3)\n",
    "            line2 = ax.axvline(time + 6, color='gray', linestyle='--', zorder=3)\n",
    "            area = ax.axvspan(time - 6, time + 6, color='gray', alpha=0.5)\n",
    "            line3 = ax.axvline(time, color='g', linestyle='--', zorder=4)\n",
    "            marked_lines.append((line1, line2, line3, area))\n",
    "            fig.canvas.draw_idle()\n",
    "\n",
    "    def onclick(event):\n",
    "        nonlocal dragging, start_time\n",
    "        if event.inaxes is not None and event.button == 1:\n",
    "            dragging = True\n",
    "            start_time = round(event.xdata, 1)\n",
    "            add_marker(start_time)\n",
    "\n",
    "    def onmotion(event):\n",
    "        if dragging and event.inaxes is not None:\n",
    "            current_time = round(event.xdata, 1)\n",
    "            if current_time > start_time:\n",
    "                time_offset = current_time - start_time\n",
    "                next_marker = start_time + 12 * (time_offset // 12)\n",
    "                if next_marker <= duration and next_marker not in marked_times:\n",
    "                    add_marker(next_marker)\n",
    "\n",
    "    def onclick(event):\n",
    "        nonlocal dragging, start_time\n",
    "        if event.inaxes is not None:\n",
    "            if event.button == 1:  # Left click to add markers\n",
    "                dragging = True\n",
    "                start_time = round(event.xdata, 1)\n",
    "                add_marker(start_time)\n",
    "            elif event.button == 3:  # Right click to remove the most recent mark\n",
    "                if marked_times:\n",
    "                    marked_times.pop()\n",
    "                    line_set = marked_lines.pop()\n",
    "                    for line in line_set:\n",
    "                        line.remove()\n",
    "                    fig.canvas.draw_idle()\n",
    "\n",
    "    def onrelease(event):\n",
    "        nonlocal dragging\n",
    "        if event.button == 1:\n",
    "            dragging = False\n",
    "    \n",
    "    def onkeypress(event):\n",
    "        if event.key == 'a':\n",
    "            for line_set in marked_lines:\n",
    "                for line in line_set:\n",
    "                    line.remove()\n",
    "            marked_lines.clear()\n",
    "            marked_times.clear()\n",
    "            \n",
    "            end_buffer = 6\n",
    "            start_buffer= 6\n",
    "            max_spacing = 12\n",
    "            time_to_cover = max(0, duration - start_buffer - end_buffer)\n",
    "            num_spaces = time_to_cover // max_spacing + 1\n",
    "            spacing = time_to_cover / num_spaces\n",
    "            #spacing = time_to_cover/num_marks\n",
    "            time = start_buffer\n",
    "            while time <= (duration - end_buffer):\n",
    "                add_marker(round(time,1))\n",
    "                time += spacing\n",
    "        elif event.key == ' ':  # Spacebar to clear all\n",
    "            for line_set in marked_lines:\n",
    "                for line in line_set:\n",
    "                    line.remove()\n",
    "            marked_lines.clear()\n",
    "            marked_times.clear()\n",
    "        \n",
    "        fig.canvas.draw_idle()\n",
    "\n",
    "    fig.canvas.mpl_connect('button_press_event', onclick)\n",
    "    fig.canvas.mpl_connect('motion_notify_event', onmotion)\n",
    "    fig.canvas.mpl_connect('button_release_event', onrelease)\n",
    "    fig.canvas.mpl_connect('key_press_event', onkeypress)\n",
    "\n",
    "    plt.show()\n",
    "    return marked_times\n",
    "\n",
    "\n",
    "\n",
    "\n",
    "\n",
    "def mark_one_sample(filename, common_nm, zoo_cls):\n",
    "    wav, sr = librosa.load(filename, sr=None)  #returns a mono-channel NumPy array\n",
    "    chunk_duration = 0.1\n",
    "    chunk_len  = int(chunk_duration * sr)\n",
    "    specmaker = MelSpecMaker(sr=sr)\n",
    "    voice_detector = VoiceDetector(chunk_len)\n",
    "    mel_spec_db, time_axis, mel_frequencies = specmaker.create_melspec(wav)\n",
    "    power = calc_signal_pwr(wav, chunk_len)\n",
    "    voice_detections = voice_detector.detect(wav)\n",
    "    # Set the audio player width to match the plot width\n",
    "    display(HTML(\"<style>audio { width: 800px; margin-left: 35px; }</style>\"))\n",
    "    display(ipd.Audio(filename)) \n",
    "    marked_times = interactive_plot(mel_spec_db,\n",
    "                                    mel_frequencies,\n",
    "                                    power,\n",
    "                                    voice_detections,\n",
    "                                    chunk_duration,\n",
    "                                    common_nm=common_nm,\n",
    "                                    zoo_cls=zoo_cls,)\n",
    "    return marked_times\n",
    "\n",
    "def plot_duration_mix(df, threshold):\n",
    "    df['duration_category'] = df['duration'].apply(lambda x: f'< {threshold} s' if x < threshold else f'> {threshold} s')\n",
    "    df_counts = df.groupby(['primary_label', 'duration_category']).size().reset_index(name='count')\n",
    "    df_counts = df_counts.sort_values(by='count', ascending=False)\n",
    "    custom_colors = {f'< {threshold} s': 'blue', f'> {threshold} s': 'red'}\n",
    "\n",
    "    fig = px.bar(\n",
    "        df_counts, \n",
    "        x=\"primary_label\", \n",
    "        y=\"count\", \n",
    "        color=\"duration_category\",\n",
    "        title=\"Stacked Occurrences by Duration\",\n",
    "        labels={\"duration_category\": \"Duration\", \"count\": \"Occurrences\", \"primary_label\": \"Label\"},\n",
    "        barmode=\"stack\",\n",
    "        color_discrete_map=custom_colors,\n",
    "        opacity=1.0  # Ensure full opacity\n",
    "    )\n",
    "    fig.show()\n",
    "\n",
    "\n",
    "def get_audio_duration(filepath):\n",
    "    info = torchaudio.info(filepath)\n",
    "    return info.num_frames / info.sample_rate  # Duration in seconds\n",
    "\n",
    "def get_audio_duration(path):\n",
    "    try:\n",
    "        return torchaudio.info(path).num_frames / torchaudio.info(path).sample_rate\n",
    "    except Exception as e:\n",
    "        print(f\"Failed to read {path}: {e}\")\n",
    "        return None"
   ]
  },
  {
   "cell_type": "markdown",
   "metadata": {},
   "source": [
    "## Process Kaggle Samples\n",
    "Start by loading the auxiliary dataframe parquet with a 'duration' column produce by the EDA notebook"
   ]
  },
  {
   "cell_type": "code",
   "execution_count": 202,
   "metadata": {},
   "outputs": [
    {
     "data": {
      "text/html": [
       "<div>\n",
       "<style scoped>\n",
       "    .dataframe tbody tr th:only-of-type {\n",
       "        vertical-align: middle;\n",
       "    }\n",
       "\n",
       "    .dataframe tbody tr th {\n",
       "        vertical-align: top;\n",
       "    }\n",
       "\n",
       "    .dataframe thead th {\n",
       "        text-align: right;\n",
       "    }\n",
       "</style>\n",
       "<table border=\"1\" class=\"dataframe\">\n",
       "  <thead>\n",
       "    <tr style=\"text-align: right;\">\n",
       "      <th></th>\n",
       "      <th>filename</th>\n",
       "      <th>primary_label</th>\n",
       "      <th>url</th>\n",
       "      <th>class</th>\n",
       "      <th>common_name</th>\n",
       "      <th>License</th>\n",
       "    </tr>\n",
       "  </thead>\n",
       "  <tbody>\n",
       "    <tr>\n",
       "      <th>0</th>\n",
       "      <td>1139490/2391.wav</td>\n",
       "      <td>1139490</td>\n",
       "      <td>http://orthoptera.archive.speciesfile.org/Comm...</td>\n",
       "      <td>insecta</td>\n",
       "      <td>Ragoniella pulchella</td>\n",
       "      <td>CC-BY</td>\n",
       "    </tr>\n",
       "    <tr>\n",
       "      <th>1</th>\n",
       "      <td>42113/XC975063.wav</td>\n",
       "      <td>42113</td>\n",
       "      <td>https://xeno-canto.org/admin.php/975063/download</td>\n",
       "      <td>aves</td>\n",
       "      <td>Collared Peccary</td>\n",
       "      <td>Creative Commons Attribution-NonCommercial-Sha...</td>\n",
       "    </tr>\n",
       "    <tr>\n",
       "      <th>2</th>\n",
       "      <td>66016/vaillanti-escape1.mp3</td>\n",
       "      <td>66016</td>\n",
       "      <td>https://www.fonozoo.com/sonidos/Lithobates%20v...</td>\n",
       "      <td>amphibia</td>\n",
       "      <td>Vaillant's Frog</td>\n",
       "      <td>NaN</td>\n",
       "    </tr>\n",
       "  </tbody>\n",
       "</table>\n",
       "</div>"
      ],
      "text/plain": [
       "                      filename primary_label  \\\n",
       "0             1139490/2391.wav       1139490   \n",
       "1           42113/XC975063.wav         42113   \n",
       "2  66016/vaillanti-escape1.mp3         66016   \n",
       "\n",
       "                                                 url     class  \\\n",
       "0  http://orthoptera.archive.speciesfile.org/Comm...   insecta   \n",
       "1   https://xeno-canto.org/admin.php/975063/download      aves   \n",
       "2  https://www.fonozoo.com/sonidos/Lithobates%20v...  amphibia   \n",
       "\n",
       "            common_name                                            License  \n",
       "0  Ragoniella pulchella                                              CC-BY  \n",
       "1      Collared Peccary  Creative Commons Attribution-NonCommercial-Sha...  \n",
       "2       Vaillant's Frog                                                NaN  "
      ]
     },
     "execution_count": 202,
     "metadata": {},
     "output_type": "execute_result"
    }
   ],
   "source": [
    "#df = pd.read_parquet(paths.CROP_LABELS, engine=\"pyarrow\")\n",
    "df = pd.read_csv(paths.KAGGLE_LABELS)  #, sep=';'\n",
    "df.head(3)"
   ]
  },
  {
   "cell_type": "code",
   "execution_count": 203,
   "metadata": {},
   "outputs": [
    {
     "data": {
      "text/html": [
       "<div>\n",
       "<style scoped>\n",
       "    .dataframe tbody tr th:only-of-type {\n",
       "        vertical-align: middle;\n",
       "    }\n",
       "\n",
       "    .dataframe tbody tr th {\n",
       "        vertical-align: top;\n",
       "    }\n",
       "\n",
       "    .dataframe thead th {\n",
       "        text-align: right;\n",
       "    }\n",
       "</style>\n",
       "<table border=\"1\" class=\"dataframe\">\n",
       "  <thead>\n",
       "    <tr style=\"text-align: right;\">\n",
       "      <th></th>\n",
       "      <th>filename</th>\n",
       "      <th>primary_label</th>\n",
       "      <th>url</th>\n",
       "      <th>class</th>\n",
       "      <th>common_name</th>\n",
       "      <th>License</th>\n",
       "      <th>filepath</th>\n",
       "    </tr>\n",
       "  </thead>\n",
       "  <tbody>\n",
       "    <tr>\n",
       "      <th>0</th>\n",
       "      <td>1139490/2391.wav</td>\n",
       "      <td>1139490</td>\n",
       "      <td>http://orthoptera.archive.speciesfile.org/Comm...</td>\n",
       "      <td>insecta</td>\n",
       "      <td>Ragoniella pulchella</td>\n",
       "      <td>CC-BY</td>\n",
       "      <td>/home/olly/Desktop/Kaggle_BC25/Data/Original_D...</td>\n",
       "    </tr>\n",
       "    <tr>\n",
       "      <th>1</th>\n",
       "      <td>42113/XC975063.wav</td>\n",
       "      <td>42113</td>\n",
       "      <td>https://xeno-canto.org/admin.php/975063/download</td>\n",
       "      <td>aves</td>\n",
       "      <td>Collared Peccary</td>\n",
       "      <td>Creative Commons Attribution-NonCommercial-Sha...</td>\n",
       "      <td>/home/olly/Desktop/Kaggle_BC25/Data/Original_D...</td>\n",
       "    </tr>\n",
       "    <tr>\n",
       "      <th>2</th>\n",
       "      <td>66016/vaillanti-escape1.mp3</td>\n",
       "      <td>66016</td>\n",
       "      <td>https://www.fonozoo.com/sonidos/Lithobates%20v...</td>\n",
       "      <td>amphibia</td>\n",
       "      <td>Vaillant's Frog</td>\n",
       "      <td>NaN</td>\n",
       "      <td>/home/olly/Desktop/Kaggle_BC25/Data/Original_D...</td>\n",
       "    </tr>\n",
       "    <tr>\n",
       "      <th>3</th>\n",
       "      <td>66016/vaillanti-escape3.mp3</td>\n",
       "      <td>66016</td>\n",
       "      <td>https://www.fonozoo.com/sonidos/Lithobates%20v...</td>\n",
       "      <td>amphibia</td>\n",
       "      <td>Vaillant's Frog</td>\n",
       "      <td>NaN</td>\n",
       "      <td>/home/olly/Desktop/Kaggle_BC25/Data/Original_D...</td>\n",
       "    </tr>\n",
       "    <tr>\n",
       "      <th>4</th>\n",
       "      <td>66016/vaillanti-escape4.mp3</td>\n",
       "      <td>66016</td>\n",
       "      <td>https://www.fonozoo.com/sonidos/Lithobates%20v...</td>\n",
       "      <td>amphibia</td>\n",
       "      <td>Vaillant's Frog</td>\n",
       "      <td>NaN</td>\n",
       "      <td>/home/olly/Desktop/Kaggle_BC25/Data/Original_D...</td>\n",
       "    </tr>\n",
       "  </tbody>\n",
       "</table>\n",
       "</div>"
      ],
      "text/plain": [
       "                      filename primary_label  \\\n",
       "0             1139490/2391.wav       1139490   \n",
       "1           42113/XC975063.wav         42113   \n",
       "2  66016/vaillanti-escape1.mp3         66016   \n",
       "3  66016/vaillanti-escape3.mp3         66016   \n",
       "4  66016/vaillanti-escape4.mp3         66016   \n",
       "\n",
       "                                                 url     class  \\\n",
       "0  http://orthoptera.archive.speciesfile.org/Comm...   insecta   \n",
       "1   https://xeno-canto.org/admin.php/975063/download      aves   \n",
       "2  https://www.fonozoo.com/sonidos/Lithobates%20v...  amphibia   \n",
       "3  https://www.fonozoo.com/sonidos/Lithobates%20v...  amphibia   \n",
       "4  https://www.fonozoo.com/sonidos/Lithobates%20v...  amphibia   \n",
       "\n",
       "            common_name                                            License  \\\n",
       "0  Ragoniella pulchella                                              CC-BY   \n",
       "1      Collared Peccary  Creative Commons Attribution-NonCommercial-Sha...   \n",
       "2       Vaillant's Frog                                                NaN   \n",
       "3       Vaillant's Frog                                                NaN   \n",
       "4       Vaillant's Frog                                                NaN   \n",
       "\n",
       "                                            filepath  \n",
       "0  /home/olly/Desktop/Kaggle_BC25/Data/Original_D...  \n",
       "1  /home/olly/Desktop/Kaggle_BC25/Data/Original_D...  \n",
       "2  /home/olly/Desktop/Kaggle_BC25/Data/Original_D...  \n",
       "3  /home/olly/Desktop/Kaggle_BC25/Data/Original_D...  \n",
       "4  /home/olly/Desktop/Kaggle_BC25/Data/Original_D...  "
      ]
     },
     "execution_count": 203,
     "metadata": {},
     "output_type": "execute_result"
    }
   ],
   "source": [
    "df['filepath'] = str(paths.ORIGINAL_AUDIO) + '/' +  df['filename']\n",
    "df.head()"
   ]
  },
  {
   "cell_type": "code",
   "execution_count": 204,
   "metadata": {},
   "outputs": [
    {
     "name": "stderr",
     "output_type": "stream",
     "text": [
      "100%|██████████| 15/15 [00:01<00:00, 12.85it/s]\n"
     ]
    },
    {
     "name": "stdout",
     "output_type": "stream",
     "text": [
      "Failed to read /home/olly/Desktop/Kaggle_BC25/Data/Original_Data/birdclef-2025/Extra_Samples/turlvul/XC39894.mp3: Failed to open the input \"/home/olly/Desktop/Kaggle_BC25/Data/Original_Data/birdclef-2025/Extra_Samples/turlvul/XC39894.mp3\" (No such file or directory).\n",
      "Exception raised from get_input_format_context at /__w/_temp/conda_environment_8430229400/conda-bld/torchaudio_1711422726100/work/src/libtorio/ffmpeg/stream_reader/stream_reader.cpp:42 (most recent call first):\n",
      "frame #0: c10::Error::Error(c10::SourceLocation, std::string) + 0x57 (0x741d38180d87 in /home/olly/miniconda3/envs/bird_audio_ml/lib/python3.11/site-packages/torch/lib/libc10.so)\n",
      "frame #1: c10::detail::torchCheckFail(char const*, char const*, unsigned int, std::string const&) + 0x64 (0x741d3813175f in /home/olly/miniconda3/envs/bird_audio_ml/lib/python3.11/site-packages/torch/lib/libc10.so)\n",
      "frame #2: <unknown function> + 0x42904 (0x741ce25bf904 in /home/olly/miniconda3/envs/bird_audio_ml/lib/python3.11/site-packages/torio/lib/libtorio_ffmpeg6.so)\n",
      "frame #3: torio::io::StreamingMediaDecoder::StreamingMediaDecoder(std::string const&, std::optional<std::string> const&, std::optional<std::map<std::string, std::string, std::less<std::string>, std::allocator<std::pair<std::string const, std::string> > > > const&) + 0x14 (0x741ce25c2304 in /home/olly/miniconda3/envs/bird_audio_ml/lib/python3.11/site-packages/torio/lib/libtorio_ffmpeg6.so)\n",
      "frame #4: <unknown function> + 0x3ab5e (0x741c9093fb5e in /home/olly/miniconda3/envs/bird_audio_ml/lib/python3.11/site-packages/torio/lib/_torio_ffmpeg6.so)\n",
      "frame #5: <unknown function> + 0x32737 (0x741c90937737 in /home/olly/miniconda3/envs/bird_audio_ml/lib/python3.11/site-packages/torio/lib/_torio_ffmpeg6.so)\n",
      "frame #6: <unknown function> + 0x201b06 (0x5ec828f78b06 in /home/olly/miniconda3/envs/bird_audio_ml/bin/python)\n",
      "frame #7: _PyObject_MakeTpCall + 0x253 (0x5ec828f578b3 in /home/olly/miniconda3/envs/bird_audio_ml/bin/python)\n",
      "frame #8: <unknown function> + 0x2301b6 (0x5ec828fa71b6 in /home/olly/miniconda3/envs/bird_audio_ml/bin/python)\n",
      "frame #9: <unknown function> + 0x2190dc (0x5ec828f900dc in /home/olly/miniconda3/envs/bird_audio_ml/bin/python)\n",
      "frame #10: <unknown function> + 0x1e0be1 (0x5ec828f57be1 in /home/olly/miniconda3/envs/bird_audio_ml/bin/python)\n",
      "frame #11: <unknown function> + 0xf874 (0x741d428d7874 in /home/olly/miniconda3/envs/bird_audio_ml/lib/python3.11/site-packages/torchaudio/lib/_torchaudio.so)\n",
      "frame #12: _PyObject_MakeTpCall + 0x253 (0x5ec828f578b3 in /home/olly/miniconda3/envs/bird_audio_ml/bin/python)\n",
      "frame #13: _PyEval_EvalFrameDefault + 0x716 (0x5ec828f653b6 in /home/olly/miniconda3/envs/bird_audio_ml/bin/python)\n",
      "frame #14: _PyFunction_Vectorcall + 0x181 (0x5ec828f88981 in /home/olly/miniconda3/envs/bird_audio_ml/bin/python)\n",
      "frame #15: <unknown function> + 0x218d3c (0x5ec828f8fd3c in /home/olly/miniconda3/envs/bird_audio_ml/bin/python)\n",
      "frame #16: _PyObject_MakeTpCall + 0x233 (0x5ec828f57893 in /home/olly/miniconda3/envs/bird_audio_ml/bin/python)\n",
      "frame #17: _PyEval_EvalFrameDefault + 0x716 (0x5ec828f653b6 in /home/olly/miniconda3/envs/bird_audio_ml/bin/python)\n",
      "frame #18: _PyFunction_Vectorcall + 0x181 (0x5ec828f88981 in /home/olly/miniconda3/envs/bird_audio_ml/bin/python)\n",
      "frame #19: _PyEval_EvalFrameDefault + 0x4a44 (0x5ec828f696e4 in /home/olly/miniconda3/envs/bird_audio_ml/bin/python)\n",
      "frame #20: _PyFunction_Vectorcall + 0x181 (0x5ec828f88981 in /home/olly/miniconda3/envs/bird_audio_ml/bin/python)\n",
      "frame #21: _PyObject_FastCallDictTstate + 0x63 (0x5ec828f5c3a3 in /home/olly/miniconda3/envs/bird_audio_ml/bin/python)\n",
      "frame #22: _PyObject_Call_Prepend + 0x69 (0x5ec828f90399 in /home/olly/miniconda3/envs/bird_audio_ml/bin/python)\n",
      "frame #23: <unknown function> + 0x2eb108 (0x5ec829062108 in /home/olly/miniconda3/envs/bird_audio_ml/bin/python)\n",
      "frame #24: PyObject_Call + 0xbe (0x5ec828f9263e in /home/olly/miniconda3/envs/bird_audio_ml/bin/python)\n",
      "frame #25: _PyEval_EvalFrameDefault + 0x4a44 (0x5ec828f696e4 in /home/olly/miniconda3/envs/bird_audio_ml/bin/python)\n",
      "frame #26: _PyFunction_Vectorcall + 0x181 (0x5ec828f88981 in /home/olly/miniconda3/envs/bird_audio_ml/bin/python)\n",
      "frame #27: _PyObject_FastCallDictTstate + 0x63 (0x5ec828f5c3a3 in /home/olly/miniconda3/envs/bird_audio_ml/bin/python)\n",
      "frame #28: _PyObject_Call_Prepend + 0x69 (0x5ec828f90399 in /home/olly/miniconda3/envs/bird_audio_ml/bin/python)\n",
      "frame #29: <unknown function> + 0x2eb108 (0x5ec829062108 in /home/olly/miniconda3/envs/bird_audio_ml/bin/python)\n",
      "frame #30: _PyObject_MakeTpCall + 0x253 (0x5ec828f578b3 in /home/olly/miniconda3/envs/bird_audio_ml/bin/python)\n",
      "frame #31: _PyEval_EvalFrameDefault + 0x716 (0x5ec828f653b6 in /home/olly/miniconda3/envs/bird_audio_ml/bin/python)\n",
      "frame #32: _PyFunction_Vectorcall + 0x181 (0x5ec828f88981 in /home/olly/miniconda3/envs/bird_audio_ml/bin/python)\n",
      "frame #33: _PyEval_EvalFrameDefault + 0x4a44 (0x5ec828f696e4 in /home/olly/miniconda3/envs/bird_audio_ml/bin/python)\n",
      "frame #34: <unknown function> + 0x2a5a8d (0x5ec82901ca8d in /home/olly/miniconda3/envs/bird_audio_ml/bin/python)\n",
      "frame #35: PyEval_EvalCode + 0x9f (0x5ec82901c11f in /home/olly/miniconda3/envs/bird_audio_ml/bin/python)\n",
      "frame #36: <unknown function> + 0x2bc6ee (0x5ec8290336ee in /home/olly/miniconda3/envs/bird_audio_ml/bin/python)\n",
      "frame #37: <unknown function> + 0x1fafbf (0x5ec828f71fbf in /home/olly/miniconda3/envs/bird_audio_ml/bin/python)\n",
      "frame #38: PyObject_Vectorcall + 0x2c (0x5ec828f71eac in /home/olly/miniconda3/envs/bird_audio_ml/bin/python)\n",
      "frame #39: _PyEval_EvalFrameDefault + 0x716 (0x5ec828f653b6 in /home/olly/miniconda3/envs/bird_audio_ml/bin/python)\n",
      "frame #40: _PyFunction_Vectorcall + 0x181 (0x5ec828f88981 in /home/olly/miniconda3/envs/bird_audio_ml/bin/python)\n",
      "frame #41: <unknown function> + 0x2cf158 (0x5ec829046158 in /home/olly/miniconda3/envs/bird_audio_ml/bin/python)\n",
      "frame #42: Py_RunMain + 0x139 (0x5ec829045ad9 in /home/olly/miniconda3/envs/bird_audio_ml/bin/python)\n",
      "frame #43: Py_BytesMain + 0x37 (0x5ec82900c027 in /home/olly/miniconda3/envs/bird_audio_ml/bin/python)\n",
      "frame #44: <unknown function> + 0x2a1ca (0x741d43c2a1ca in /lib/x86_64-linux-gnu/libc.so.6)\n",
      "frame #45: __libc_start_main + 0x8b (0x741d43c2a28b in /lib/x86_64-linux-gnu/libc.so.6)\n",
      "frame #46: <unknown function> + 0x294ecd (0x5ec82900becd in /home/olly/miniconda3/envs/bird_audio_ml/bin/python)\n",
      "\n"
     ]
    }
   ],
   "source": [
    "filepaths = df['filepath'].to_list()\n",
    "df[\"duration\"] = Parallel(n_jobs=4)(\n",
    "    delayed(get_audio_duration)(fp) for fp in tqdm(filepaths))\n",
    "\n",
    "#/home/olly/Desktop/Kaggle_BC25/Data/Extra_Samples/turvul"
   ]
  },
  {
   "cell_type": "markdown",
   "metadata": {},
   "source": [
    "Let's look at the frequency of the duration column"
   ]
  },
  {
   "cell_type": "code",
   "execution_count": 205,
   "metadata": {},
   "outputs": [
    {
     "data": {
      "application/vnd.plotly.v1+json": {
       "config": {
        "plotlyServerURL": "https://plot.ly"
       },
       "data": [
        {
         "alignmentgroup": "True",
         "bingroup": "x",
         "hovertemplate": "duration=%{x}<br>count=%{y}<extra></extra>",
         "legendgroup": "",
         "marker": {
          "color": "#636efa",
          "pattern": {
           "shape": ""
          }
         },
         "name": "",
         "nbinsx": 30,
         "offsetgroup": "",
         "orientation": "v",
         "showlegend": false,
         "type": "histogram",
         "x": [
          86.14625850340136,
          8.5140625,
          1.123265306122449,
          1.1755102040816328,
          1.0448979591836736,
          56.42448979591837,
          8.18976,
          null,
          152.976,
          114.239,
          6.133582766439909,
          13.866009070294785,
          6.6696145124716555,
          34.833708333333334,
          27.299183673469386
         ],
         "xaxis": "x",
         "yaxis": "y"
        }
       ],
       "layout": {
        "barmode": "relative",
        "legend": {
         "tracegroupgap": 0
        },
        "margin": {
         "t": 60
        },
        "template": {
         "data": {
          "bar": [
           {
            "error_x": {
             "color": "#2a3f5f"
            },
            "error_y": {
             "color": "#2a3f5f"
            },
            "marker": {
             "line": {
              "color": "#E5ECF6",
              "width": 0.5
             },
             "pattern": {
              "fillmode": "overlay",
              "size": 10,
              "solidity": 0.2
             }
            },
            "type": "bar"
           }
          ],
          "barpolar": [
           {
            "marker": {
             "line": {
              "color": "#E5ECF6",
              "width": 0.5
             },
             "pattern": {
              "fillmode": "overlay",
              "size": 10,
              "solidity": 0.2
             }
            },
            "type": "barpolar"
           }
          ],
          "carpet": [
           {
            "aaxis": {
             "endlinecolor": "#2a3f5f",
             "gridcolor": "white",
             "linecolor": "white",
             "minorgridcolor": "white",
             "startlinecolor": "#2a3f5f"
            },
            "baxis": {
             "endlinecolor": "#2a3f5f",
             "gridcolor": "white",
             "linecolor": "white",
             "minorgridcolor": "white",
             "startlinecolor": "#2a3f5f"
            },
            "type": "carpet"
           }
          ],
          "choropleth": [
           {
            "colorbar": {
             "outlinewidth": 0,
             "ticks": ""
            },
            "type": "choropleth"
           }
          ],
          "contour": [
           {
            "colorbar": {
             "outlinewidth": 0,
             "ticks": ""
            },
            "colorscale": [
             [
              0,
              "#0d0887"
             ],
             [
              0.1111111111111111,
              "#46039f"
             ],
             [
              0.2222222222222222,
              "#7201a8"
             ],
             [
              0.3333333333333333,
              "#9c179e"
             ],
             [
              0.4444444444444444,
              "#bd3786"
             ],
             [
              0.5555555555555556,
              "#d8576b"
             ],
             [
              0.6666666666666666,
              "#ed7953"
             ],
             [
              0.7777777777777778,
              "#fb9f3a"
             ],
             [
              0.8888888888888888,
              "#fdca26"
             ],
             [
              1,
              "#f0f921"
             ]
            ],
            "type": "contour"
           }
          ],
          "contourcarpet": [
           {
            "colorbar": {
             "outlinewidth": 0,
             "ticks": ""
            },
            "type": "contourcarpet"
           }
          ],
          "heatmap": [
           {
            "colorbar": {
             "outlinewidth": 0,
             "ticks": ""
            },
            "colorscale": [
             [
              0,
              "#0d0887"
             ],
             [
              0.1111111111111111,
              "#46039f"
             ],
             [
              0.2222222222222222,
              "#7201a8"
             ],
             [
              0.3333333333333333,
              "#9c179e"
             ],
             [
              0.4444444444444444,
              "#bd3786"
             ],
             [
              0.5555555555555556,
              "#d8576b"
             ],
             [
              0.6666666666666666,
              "#ed7953"
             ],
             [
              0.7777777777777778,
              "#fb9f3a"
             ],
             [
              0.8888888888888888,
              "#fdca26"
             ],
             [
              1,
              "#f0f921"
             ]
            ],
            "type": "heatmap"
           }
          ],
          "heatmapgl": [
           {
            "colorbar": {
             "outlinewidth": 0,
             "ticks": ""
            },
            "colorscale": [
             [
              0,
              "#0d0887"
             ],
             [
              0.1111111111111111,
              "#46039f"
             ],
             [
              0.2222222222222222,
              "#7201a8"
             ],
             [
              0.3333333333333333,
              "#9c179e"
             ],
             [
              0.4444444444444444,
              "#bd3786"
             ],
             [
              0.5555555555555556,
              "#d8576b"
             ],
             [
              0.6666666666666666,
              "#ed7953"
             ],
             [
              0.7777777777777778,
              "#fb9f3a"
             ],
             [
              0.8888888888888888,
              "#fdca26"
             ],
             [
              1,
              "#f0f921"
             ]
            ],
            "type": "heatmapgl"
           }
          ],
          "histogram": [
           {
            "marker": {
             "pattern": {
              "fillmode": "overlay",
              "size": 10,
              "solidity": 0.2
             }
            },
            "type": "histogram"
           }
          ],
          "histogram2d": [
           {
            "colorbar": {
             "outlinewidth": 0,
             "ticks": ""
            },
            "colorscale": [
             [
              0,
              "#0d0887"
             ],
             [
              0.1111111111111111,
              "#46039f"
             ],
             [
              0.2222222222222222,
              "#7201a8"
             ],
             [
              0.3333333333333333,
              "#9c179e"
             ],
             [
              0.4444444444444444,
              "#bd3786"
             ],
             [
              0.5555555555555556,
              "#d8576b"
             ],
             [
              0.6666666666666666,
              "#ed7953"
             ],
             [
              0.7777777777777778,
              "#fb9f3a"
             ],
             [
              0.8888888888888888,
              "#fdca26"
             ],
             [
              1,
              "#f0f921"
             ]
            ],
            "type": "histogram2d"
           }
          ],
          "histogram2dcontour": [
           {
            "colorbar": {
             "outlinewidth": 0,
             "ticks": ""
            },
            "colorscale": [
             [
              0,
              "#0d0887"
             ],
             [
              0.1111111111111111,
              "#46039f"
             ],
             [
              0.2222222222222222,
              "#7201a8"
             ],
             [
              0.3333333333333333,
              "#9c179e"
             ],
             [
              0.4444444444444444,
              "#bd3786"
             ],
             [
              0.5555555555555556,
              "#d8576b"
             ],
             [
              0.6666666666666666,
              "#ed7953"
             ],
             [
              0.7777777777777778,
              "#fb9f3a"
             ],
             [
              0.8888888888888888,
              "#fdca26"
             ],
             [
              1,
              "#f0f921"
             ]
            ],
            "type": "histogram2dcontour"
           }
          ],
          "mesh3d": [
           {
            "colorbar": {
             "outlinewidth": 0,
             "ticks": ""
            },
            "type": "mesh3d"
           }
          ],
          "parcoords": [
           {
            "line": {
             "colorbar": {
              "outlinewidth": 0,
              "ticks": ""
             }
            },
            "type": "parcoords"
           }
          ],
          "pie": [
           {
            "automargin": true,
            "type": "pie"
           }
          ],
          "scatter": [
           {
            "fillpattern": {
             "fillmode": "overlay",
             "size": 10,
             "solidity": 0.2
            },
            "type": "scatter"
           }
          ],
          "scatter3d": [
           {
            "line": {
             "colorbar": {
              "outlinewidth": 0,
              "ticks": ""
             }
            },
            "marker": {
             "colorbar": {
              "outlinewidth": 0,
              "ticks": ""
             }
            },
            "type": "scatter3d"
           }
          ],
          "scattercarpet": [
           {
            "marker": {
             "colorbar": {
              "outlinewidth": 0,
              "ticks": ""
             }
            },
            "type": "scattercarpet"
           }
          ],
          "scattergeo": [
           {
            "marker": {
             "colorbar": {
              "outlinewidth": 0,
              "ticks": ""
             }
            },
            "type": "scattergeo"
           }
          ],
          "scattergl": [
           {
            "marker": {
             "colorbar": {
              "outlinewidth": 0,
              "ticks": ""
             }
            },
            "type": "scattergl"
           }
          ],
          "scattermapbox": [
           {
            "marker": {
             "colorbar": {
              "outlinewidth": 0,
              "ticks": ""
             }
            },
            "type": "scattermapbox"
           }
          ],
          "scatterpolar": [
           {
            "marker": {
             "colorbar": {
              "outlinewidth": 0,
              "ticks": ""
             }
            },
            "type": "scatterpolar"
           }
          ],
          "scatterpolargl": [
           {
            "marker": {
             "colorbar": {
              "outlinewidth": 0,
              "ticks": ""
             }
            },
            "type": "scatterpolargl"
           }
          ],
          "scatterternary": [
           {
            "marker": {
             "colorbar": {
              "outlinewidth": 0,
              "ticks": ""
             }
            },
            "type": "scatterternary"
           }
          ],
          "surface": [
           {
            "colorbar": {
             "outlinewidth": 0,
             "ticks": ""
            },
            "colorscale": [
             [
              0,
              "#0d0887"
             ],
             [
              0.1111111111111111,
              "#46039f"
             ],
             [
              0.2222222222222222,
              "#7201a8"
             ],
             [
              0.3333333333333333,
              "#9c179e"
             ],
             [
              0.4444444444444444,
              "#bd3786"
             ],
             [
              0.5555555555555556,
              "#d8576b"
             ],
             [
              0.6666666666666666,
              "#ed7953"
             ],
             [
              0.7777777777777778,
              "#fb9f3a"
             ],
             [
              0.8888888888888888,
              "#fdca26"
             ],
             [
              1,
              "#f0f921"
             ]
            ],
            "type": "surface"
           }
          ],
          "table": [
           {
            "cells": {
             "fill": {
              "color": "#EBF0F8"
             },
             "line": {
              "color": "white"
             }
            },
            "header": {
             "fill": {
              "color": "#C8D4E3"
             },
             "line": {
              "color": "white"
             }
            },
            "type": "table"
           }
          ]
         },
         "layout": {
          "annotationdefaults": {
           "arrowcolor": "#2a3f5f",
           "arrowhead": 0,
           "arrowwidth": 1
          },
          "autotypenumbers": "strict",
          "coloraxis": {
           "colorbar": {
            "outlinewidth": 0,
            "ticks": ""
           }
          },
          "colorscale": {
           "diverging": [
            [
             0,
             "#8e0152"
            ],
            [
             0.1,
             "#c51b7d"
            ],
            [
             0.2,
             "#de77ae"
            ],
            [
             0.3,
             "#f1b6da"
            ],
            [
             0.4,
             "#fde0ef"
            ],
            [
             0.5,
             "#f7f7f7"
            ],
            [
             0.6,
             "#e6f5d0"
            ],
            [
             0.7,
             "#b8e186"
            ],
            [
             0.8,
             "#7fbc41"
            ],
            [
             0.9,
             "#4d9221"
            ],
            [
             1,
             "#276419"
            ]
           ],
           "sequential": [
            [
             0,
             "#0d0887"
            ],
            [
             0.1111111111111111,
             "#46039f"
            ],
            [
             0.2222222222222222,
             "#7201a8"
            ],
            [
             0.3333333333333333,
             "#9c179e"
            ],
            [
             0.4444444444444444,
             "#bd3786"
            ],
            [
             0.5555555555555556,
             "#d8576b"
            ],
            [
             0.6666666666666666,
             "#ed7953"
            ],
            [
             0.7777777777777778,
             "#fb9f3a"
            ],
            [
             0.8888888888888888,
             "#fdca26"
            ],
            [
             1,
             "#f0f921"
            ]
           ],
           "sequentialminus": [
            [
             0,
             "#0d0887"
            ],
            [
             0.1111111111111111,
             "#46039f"
            ],
            [
             0.2222222222222222,
             "#7201a8"
            ],
            [
             0.3333333333333333,
             "#9c179e"
            ],
            [
             0.4444444444444444,
             "#bd3786"
            ],
            [
             0.5555555555555556,
             "#d8576b"
            ],
            [
             0.6666666666666666,
             "#ed7953"
            ],
            [
             0.7777777777777778,
             "#fb9f3a"
            ],
            [
             0.8888888888888888,
             "#fdca26"
            ],
            [
             1,
             "#f0f921"
            ]
           ]
          },
          "colorway": [
           "#636efa",
           "#EF553B",
           "#00cc96",
           "#ab63fa",
           "#FFA15A",
           "#19d3f3",
           "#FF6692",
           "#B6E880",
           "#FF97FF",
           "#FECB52"
          ],
          "font": {
           "color": "#2a3f5f"
          },
          "geo": {
           "bgcolor": "white",
           "lakecolor": "white",
           "landcolor": "#E5ECF6",
           "showlakes": true,
           "showland": true,
           "subunitcolor": "white"
          },
          "hoverlabel": {
           "align": "left"
          },
          "hovermode": "closest",
          "mapbox": {
           "style": "light"
          },
          "paper_bgcolor": "white",
          "plot_bgcolor": "#E5ECF6",
          "polar": {
           "angularaxis": {
            "gridcolor": "white",
            "linecolor": "white",
            "ticks": ""
           },
           "bgcolor": "#E5ECF6",
           "radialaxis": {
            "gridcolor": "white",
            "linecolor": "white",
            "ticks": ""
           }
          },
          "scene": {
           "xaxis": {
            "backgroundcolor": "#E5ECF6",
            "gridcolor": "white",
            "gridwidth": 2,
            "linecolor": "white",
            "showbackground": true,
            "ticks": "",
            "zerolinecolor": "white"
           },
           "yaxis": {
            "backgroundcolor": "#E5ECF6",
            "gridcolor": "white",
            "gridwidth": 2,
            "linecolor": "white",
            "showbackground": true,
            "ticks": "",
            "zerolinecolor": "white"
           },
           "zaxis": {
            "backgroundcolor": "#E5ECF6",
            "gridcolor": "white",
            "gridwidth": 2,
            "linecolor": "white",
            "showbackground": true,
            "ticks": "",
            "zerolinecolor": "white"
           }
          },
          "shapedefaults": {
           "line": {
            "color": "#2a3f5f"
           }
          },
          "ternary": {
           "aaxis": {
            "gridcolor": "white",
            "linecolor": "white",
            "ticks": ""
           },
           "baxis": {
            "gridcolor": "white",
            "linecolor": "white",
            "ticks": ""
           },
           "bgcolor": "#E5ECF6",
           "caxis": {
            "gridcolor": "white",
            "linecolor": "white",
            "ticks": ""
           }
          },
          "title": {
           "x": 0.05
          },
          "xaxis": {
           "automargin": true,
           "gridcolor": "white",
           "linecolor": "white",
           "ticks": "",
           "title": {
            "standoff": 15
           },
           "zerolinecolor": "white",
           "zerolinewidth": 2
          },
          "yaxis": {
           "automargin": true,
           "gridcolor": "white",
           "linecolor": "white",
           "ticks": "",
           "title": {
            "standoff": 15
           },
           "zerolinecolor": "white",
           "zerolinewidth": 2
          }
         }
        },
        "title": {
         "text": "Histogram of Duration"
        },
        "xaxis": {
         "anchor": "y",
         "domain": [
          0,
          1
         ],
         "title": {
          "text": "Duration"
         }
        },
        "yaxis": {
         "anchor": "x",
         "domain": [
          0,
          1
         ],
         "title": {
          "text": "Frequency"
         }
        }
       }
      }
     },
     "metadata": {},
     "output_type": "display_data"
    }
   ],
   "source": [
    "import plotly.express as px\n",
    "\n",
    "fig = px.histogram(df, x='duration', nbins=30)\n",
    "fig.update_layout(title='Histogram of Duration', xaxis_title='Duration', yaxis_title='Frequency')\n",
    "fig.show()"
   ]
  },
  {
   "cell_type": "code",
   "execution_count": 206,
   "metadata": {},
   "outputs": [
    {
     "data": {
      "application/vnd.plotly.v1+json": {
       "config": {
        "plotlyServerURL": "https://plot.ly"
       },
       "data": [
        {
         "hovertemplate": "Duration Threshold=%{x}<br>Count > Threshold=%{y}<extra></extra>",
         "legendgroup": "",
         "line": {
          "color": "#636efa",
          "dash": "solid"
         },
         "marker": {
          "symbol": "circle"
         },
         "mode": "lines+markers",
         "name": "",
         "orientation": "v",
         "showlegend": false,
         "type": "scatter",
         "x": [
          5,
          10,
          12,
          20,
          30,
          40,
          60,
          120
         ],
         "xaxis": "x",
         "y": [
          11,
          7,
          7,
          6,
          5,
          4,
          3,
          1
         ],
         "yaxis": "y"
        }
       ],
       "layout": {
        "legend": {
         "tracegroupgap": 0
        },
        "template": {
         "data": {
          "bar": [
           {
            "error_x": {
             "color": "#2a3f5f"
            },
            "error_y": {
             "color": "#2a3f5f"
            },
            "marker": {
             "line": {
              "color": "#E5ECF6",
              "width": 0.5
             },
             "pattern": {
              "fillmode": "overlay",
              "size": 10,
              "solidity": 0.2
             }
            },
            "type": "bar"
           }
          ],
          "barpolar": [
           {
            "marker": {
             "line": {
              "color": "#E5ECF6",
              "width": 0.5
             },
             "pattern": {
              "fillmode": "overlay",
              "size": 10,
              "solidity": 0.2
             }
            },
            "type": "barpolar"
           }
          ],
          "carpet": [
           {
            "aaxis": {
             "endlinecolor": "#2a3f5f",
             "gridcolor": "white",
             "linecolor": "white",
             "minorgridcolor": "white",
             "startlinecolor": "#2a3f5f"
            },
            "baxis": {
             "endlinecolor": "#2a3f5f",
             "gridcolor": "white",
             "linecolor": "white",
             "minorgridcolor": "white",
             "startlinecolor": "#2a3f5f"
            },
            "type": "carpet"
           }
          ],
          "choropleth": [
           {
            "colorbar": {
             "outlinewidth": 0,
             "ticks": ""
            },
            "type": "choropleth"
           }
          ],
          "contour": [
           {
            "colorbar": {
             "outlinewidth": 0,
             "ticks": ""
            },
            "colorscale": [
             [
              0,
              "#0d0887"
             ],
             [
              0.1111111111111111,
              "#46039f"
             ],
             [
              0.2222222222222222,
              "#7201a8"
             ],
             [
              0.3333333333333333,
              "#9c179e"
             ],
             [
              0.4444444444444444,
              "#bd3786"
             ],
             [
              0.5555555555555556,
              "#d8576b"
             ],
             [
              0.6666666666666666,
              "#ed7953"
             ],
             [
              0.7777777777777778,
              "#fb9f3a"
             ],
             [
              0.8888888888888888,
              "#fdca26"
             ],
             [
              1,
              "#f0f921"
             ]
            ],
            "type": "contour"
           }
          ],
          "contourcarpet": [
           {
            "colorbar": {
             "outlinewidth": 0,
             "ticks": ""
            },
            "type": "contourcarpet"
           }
          ],
          "heatmap": [
           {
            "colorbar": {
             "outlinewidth": 0,
             "ticks": ""
            },
            "colorscale": [
             [
              0,
              "#0d0887"
             ],
             [
              0.1111111111111111,
              "#46039f"
             ],
             [
              0.2222222222222222,
              "#7201a8"
             ],
             [
              0.3333333333333333,
              "#9c179e"
             ],
             [
              0.4444444444444444,
              "#bd3786"
             ],
             [
              0.5555555555555556,
              "#d8576b"
             ],
             [
              0.6666666666666666,
              "#ed7953"
             ],
             [
              0.7777777777777778,
              "#fb9f3a"
             ],
             [
              0.8888888888888888,
              "#fdca26"
             ],
             [
              1,
              "#f0f921"
             ]
            ],
            "type": "heatmap"
           }
          ],
          "heatmapgl": [
           {
            "colorbar": {
             "outlinewidth": 0,
             "ticks": ""
            },
            "colorscale": [
             [
              0,
              "#0d0887"
             ],
             [
              0.1111111111111111,
              "#46039f"
             ],
             [
              0.2222222222222222,
              "#7201a8"
             ],
             [
              0.3333333333333333,
              "#9c179e"
             ],
             [
              0.4444444444444444,
              "#bd3786"
             ],
             [
              0.5555555555555556,
              "#d8576b"
             ],
             [
              0.6666666666666666,
              "#ed7953"
             ],
             [
              0.7777777777777778,
              "#fb9f3a"
             ],
             [
              0.8888888888888888,
              "#fdca26"
             ],
             [
              1,
              "#f0f921"
             ]
            ],
            "type": "heatmapgl"
           }
          ],
          "histogram": [
           {
            "marker": {
             "pattern": {
              "fillmode": "overlay",
              "size": 10,
              "solidity": 0.2
             }
            },
            "type": "histogram"
           }
          ],
          "histogram2d": [
           {
            "colorbar": {
             "outlinewidth": 0,
             "ticks": ""
            },
            "colorscale": [
             [
              0,
              "#0d0887"
             ],
             [
              0.1111111111111111,
              "#46039f"
             ],
             [
              0.2222222222222222,
              "#7201a8"
             ],
             [
              0.3333333333333333,
              "#9c179e"
             ],
             [
              0.4444444444444444,
              "#bd3786"
             ],
             [
              0.5555555555555556,
              "#d8576b"
             ],
             [
              0.6666666666666666,
              "#ed7953"
             ],
             [
              0.7777777777777778,
              "#fb9f3a"
             ],
             [
              0.8888888888888888,
              "#fdca26"
             ],
             [
              1,
              "#f0f921"
             ]
            ],
            "type": "histogram2d"
           }
          ],
          "histogram2dcontour": [
           {
            "colorbar": {
             "outlinewidth": 0,
             "ticks": ""
            },
            "colorscale": [
             [
              0,
              "#0d0887"
             ],
             [
              0.1111111111111111,
              "#46039f"
             ],
             [
              0.2222222222222222,
              "#7201a8"
             ],
             [
              0.3333333333333333,
              "#9c179e"
             ],
             [
              0.4444444444444444,
              "#bd3786"
             ],
             [
              0.5555555555555556,
              "#d8576b"
             ],
             [
              0.6666666666666666,
              "#ed7953"
             ],
             [
              0.7777777777777778,
              "#fb9f3a"
             ],
             [
              0.8888888888888888,
              "#fdca26"
             ],
             [
              1,
              "#f0f921"
             ]
            ],
            "type": "histogram2dcontour"
           }
          ],
          "mesh3d": [
           {
            "colorbar": {
             "outlinewidth": 0,
             "ticks": ""
            },
            "type": "mesh3d"
           }
          ],
          "parcoords": [
           {
            "line": {
             "colorbar": {
              "outlinewidth": 0,
              "ticks": ""
             }
            },
            "type": "parcoords"
           }
          ],
          "pie": [
           {
            "automargin": true,
            "type": "pie"
           }
          ],
          "scatter": [
           {
            "fillpattern": {
             "fillmode": "overlay",
             "size": 10,
             "solidity": 0.2
            },
            "type": "scatter"
           }
          ],
          "scatter3d": [
           {
            "line": {
             "colorbar": {
              "outlinewidth": 0,
              "ticks": ""
             }
            },
            "marker": {
             "colorbar": {
              "outlinewidth": 0,
              "ticks": ""
             }
            },
            "type": "scatter3d"
           }
          ],
          "scattercarpet": [
           {
            "marker": {
             "colorbar": {
              "outlinewidth": 0,
              "ticks": ""
             }
            },
            "type": "scattercarpet"
           }
          ],
          "scattergeo": [
           {
            "marker": {
             "colorbar": {
              "outlinewidth": 0,
              "ticks": ""
             }
            },
            "type": "scattergeo"
           }
          ],
          "scattergl": [
           {
            "marker": {
             "colorbar": {
              "outlinewidth": 0,
              "ticks": ""
             }
            },
            "type": "scattergl"
           }
          ],
          "scattermapbox": [
           {
            "marker": {
             "colorbar": {
              "outlinewidth": 0,
              "ticks": ""
             }
            },
            "type": "scattermapbox"
           }
          ],
          "scatterpolar": [
           {
            "marker": {
             "colorbar": {
              "outlinewidth": 0,
              "ticks": ""
             }
            },
            "type": "scatterpolar"
           }
          ],
          "scatterpolargl": [
           {
            "marker": {
             "colorbar": {
              "outlinewidth": 0,
              "ticks": ""
             }
            },
            "type": "scatterpolargl"
           }
          ],
          "scatterternary": [
           {
            "marker": {
             "colorbar": {
              "outlinewidth": 0,
              "ticks": ""
             }
            },
            "type": "scatterternary"
           }
          ],
          "surface": [
           {
            "colorbar": {
             "outlinewidth": 0,
             "ticks": ""
            },
            "colorscale": [
             [
              0,
              "#0d0887"
             ],
             [
              0.1111111111111111,
              "#46039f"
             ],
             [
              0.2222222222222222,
              "#7201a8"
             ],
             [
              0.3333333333333333,
              "#9c179e"
             ],
             [
              0.4444444444444444,
              "#bd3786"
             ],
             [
              0.5555555555555556,
              "#d8576b"
             ],
             [
              0.6666666666666666,
              "#ed7953"
             ],
             [
              0.7777777777777778,
              "#fb9f3a"
             ],
             [
              0.8888888888888888,
              "#fdca26"
             ],
             [
              1,
              "#f0f921"
             ]
            ],
            "type": "surface"
           }
          ],
          "table": [
           {
            "cells": {
             "fill": {
              "color": "#EBF0F8"
             },
             "line": {
              "color": "white"
             }
            },
            "header": {
             "fill": {
              "color": "#C8D4E3"
             },
             "line": {
              "color": "white"
             }
            },
            "type": "table"
           }
          ]
         },
         "layout": {
          "annotationdefaults": {
           "arrowcolor": "#2a3f5f",
           "arrowhead": 0,
           "arrowwidth": 1
          },
          "autotypenumbers": "strict",
          "coloraxis": {
           "colorbar": {
            "outlinewidth": 0,
            "ticks": ""
           }
          },
          "colorscale": {
           "diverging": [
            [
             0,
             "#8e0152"
            ],
            [
             0.1,
             "#c51b7d"
            ],
            [
             0.2,
             "#de77ae"
            ],
            [
             0.3,
             "#f1b6da"
            ],
            [
             0.4,
             "#fde0ef"
            ],
            [
             0.5,
             "#f7f7f7"
            ],
            [
             0.6,
             "#e6f5d0"
            ],
            [
             0.7,
             "#b8e186"
            ],
            [
             0.8,
             "#7fbc41"
            ],
            [
             0.9,
             "#4d9221"
            ],
            [
             1,
             "#276419"
            ]
           ],
           "sequential": [
            [
             0,
             "#0d0887"
            ],
            [
             0.1111111111111111,
             "#46039f"
            ],
            [
             0.2222222222222222,
             "#7201a8"
            ],
            [
             0.3333333333333333,
             "#9c179e"
            ],
            [
             0.4444444444444444,
             "#bd3786"
            ],
            [
             0.5555555555555556,
             "#d8576b"
            ],
            [
             0.6666666666666666,
             "#ed7953"
            ],
            [
             0.7777777777777778,
             "#fb9f3a"
            ],
            [
             0.8888888888888888,
             "#fdca26"
            ],
            [
             1,
             "#f0f921"
            ]
           ],
           "sequentialminus": [
            [
             0,
             "#0d0887"
            ],
            [
             0.1111111111111111,
             "#46039f"
            ],
            [
             0.2222222222222222,
             "#7201a8"
            ],
            [
             0.3333333333333333,
             "#9c179e"
            ],
            [
             0.4444444444444444,
             "#bd3786"
            ],
            [
             0.5555555555555556,
             "#d8576b"
            ],
            [
             0.6666666666666666,
             "#ed7953"
            ],
            [
             0.7777777777777778,
             "#fb9f3a"
            ],
            [
             0.8888888888888888,
             "#fdca26"
            ],
            [
             1,
             "#f0f921"
            ]
           ]
          },
          "colorway": [
           "#636efa",
           "#EF553B",
           "#00cc96",
           "#ab63fa",
           "#FFA15A",
           "#19d3f3",
           "#FF6692",
           "#B6E880",
           "#FF97FF",
           "#FECB52"
          ],
          "font": {
           "color": "#2a3f5f"
          },
          "geo": {
           "bgcolor": "white",
           "lakecolor": "white",
           "landcolor": "#E5ECF6",
           "showlakes": true,
           "showland": true,
           "subunitcolor": "white"
          },
          "hoverlabel": {
           "align": "left"
          },
          "hovermode": "closest",
          "mapbox": {
           "style": "light"
          },
          "paper_bgcolor": "white",
          "plot_bgcolor": "#E5ECF6",
          "polar": {
           "angularaxis": {
            "gridcolor": "white",
            "linecolor": "white",
            "ticks": ""
           },
           "bgcolor": "#E5ECF6",
           "radialaxis": {
            "gridcolor": "white",
            "linecolor": "white",
            "ticks": ""
           }
          },
          "scene": {
           "xaxis": {
            "backgroundcolor": "#E5ECF6",
            "gridcolor": "white",
            "gridwidth": 2,
            "linecolor": "white",
            "showbackground": true,
            "ticks": "",
            "zerolinecolor": "white"
           },
           "yaxis": {
            "backgroundcolor": "#E5ECF6",
            "gridcolor": "white",
            "gridwidth": 2,
            "linecolor": "white",
            "showbackground": true,
            "ticks": "",
            "zerolinecolor": "white"
           },
           "zaxis": {
            "backgroundcolor": "#E5ECF6",
            "gridcolor": "white",
            "gridwidth": 2,
            "linecolor": "white",
            "showbackground": true,
            "ticks": "",
            "zerolinecolor": "white"
           }
          },
          "shapedefaults": {
           "line": {
            "color": "#2a3f5f"
           }
          },
          "ternary": {
           "aaxis": {
            "gridcolor": "white",
            "linecolor": "white",
            "ticks": ""
           },
           "baxis": {
            "gridcolor": "white",
            "linecolor": "white",
            "ticks": ""
           },
           "bgcolor": "#E5ECF6",
           "caxis": {
            "gridcolor": "white",
            "linecolor": "white",
            "ticks": ""
           }
          },
          "title": {
           "x": 0.05
          },
          "xaxis": {
           "automargin": true,
           "gridcolor": "white",
           "linecolor": "white",
           "ticks": "",
           "title": {
            "standoff": 15
           },
           "zerolinecolor": "white",
           "zerolinewidth": 2
          },
          "yaxis": {
           "automargin": true,
           "gridcolor": "white",
           "linecolor": "white",
           "ticks": "",
           "title": {
            "standoff": 15
           },
           "zerolinecolor": "white",
           "zerolinewidth": 2
          }
         }
        },
        "title": {
         "text": "Reverse Cumulative Histogram of Duration"
        },
        "xaxis": {
         "anchor": "y",
         "domain": [
          0,
          1
         ],
         "title": {
          "text": "Duration"
         }
        },
        "yaxis": {
         "anchor": "x",
         "domain": [
          0,
          1
         ],
         "title": {
          "text": "Count of Values > Threshold"
         }
        }
       }
      }
     },
     "metadata": {},
     "output_type": "display_data"
    }
   ],
   "source": [
    "bins = [5, 10, 12, 20, 30, 40, 60, 120]\n",
    "counts = [(df['duration'] > b).sum() for b in bins]\n",
    "df_counts = pd.DataFrame({'Duration Threshold': bins, 'Count > Threshold': counts})\n",
    "fig = px.line(df_counts, x='Duration Threshold', y='Count > Threshold', markers=True, title='Reverse Cumulative Histogram of Duration')\n",
    "fig.update_layout(xaxis_title='Duration', yaxis_title='Count of Values > Threshold')\n",
    "fig.show()"
   ]
  },
  {
   "cell_type": "markdown",
   "metadata": {},
   "source": [
    "So in total we have 20,255 samples with length over 12 seconds.  Let's take a closer look at a few of these rows"
   ]
  },
  {
   "cell_type": "code",
   "execution_count": 207,
   "metadata": {},
   "outputs": [
    {
     "data": {
      "text/html": [
       "<div>\n",
       "<style scoped>\n",
       "    .dataframe tbody tr th:only-of-type {\n",
       "        vertical-align: middle;\n",
       "    }\n",
       "\n",
       "    .dataframe tbody tr th {\n",
       "        vertical-align: top;\n",
       "    }\n",
       "\n",
       "    .dataframe thead th {\n",
       "        text-align: right;\n",
       "    }\n",
       "</style>\n",
       "<table border=\"1\" class=\"dataframe\">\n",
       "  <thead>\n",
       "    <tr style=\"text-align: right;\">\n",
       "      <th></th>\n",
       "      <th>filename</th>\n",
       "      <th>primary_label</th>\n",
       "      <th>url</th>\n",
       "      <th>class</th>\n",
       "      <th>common_name</th>\n",
       "      <th>License</th>\n",
       "      <th>filepath</th>\n",
       "      <th>duration</th>\n",
       "    </tr>\n",
       "  </thead>\n",
       "  <tbody>\n",
       "    <tr>\n",
       "      <th>8</th>\n",
       "      <td>turvul/XC381486.mp3</td>\n",
       "      <td>turvul</td>\n",
       "      <td>https://xeno-canto.org/381486</td>\n",
       "      <td>aves</td>\n",
       "      <td>Turkey Vulture</td>\n",
       "      <td>Creative Commons Attribution-NonCommercial-NoD...</td>\n",
       "      <td>/home/olly/Desktop/Kaggle_BC25/Data/Original_D...</td>\n",
       "      <td>152.976000</td>\n",
       "    </tr>\n",
       "    <tr>\n",
       "      <th>9</th>\n",
       "      <td>turvul/XC520288.mp3</td>\n",
       "      <td>turvul</td>\n",
       "      <td>https://xeno-canto.org/520288</td>\n",
       "      <td>aves</td>\n",
       "      <td>Turkey Vulture</td>\n",
       "      <td>Creative Commons Attribution-NonCommercial-Sha...</td>\n",
       "      <td>/home/olly/Desktop/Kaggle_BC25/Data/Original_D...</td>\n",
       "      <td>114.239000</td>\n",
       "    </tr>\n",
       "    <tr>\n",
       "      <th>0</th>\n",
       "      <td>1139490/2391.wav</td>\n",
       "      <td>1139490</td>\n",
       "      <td>http://orthoptera.archive.speciesfile.org/Comm...</td>\n",
       "      <td>insecta</td>\n",
       "      <td>Ragoniella pulchella</td>\n",
       "      <td>CC-BY</td>\n",
       "      <td>/home/olly/Desktop/Kaggle_BC25/Data/Original_D...</td>\n",
       "      <td>86.146259</td>\n",
       "    </tr>\n",
       "    <tr>\n",
       "      <th>5</th>\n",
       "      <td>66578/Pristimantis_bogotensis15.wav</td>\n",
       "      <td>66578</td>\n",
       "      <td>https://amphibiaweb.org/sounds/Pristimantis_bo...</td>\n",
       "      <td>amphibia</td>\n",
       "      <td>Bogota Robber Frog</td>\n",
       "      <td>CC-BY-NC</td>\n",
       "      <td>/home/olly/Desktop/Kaggle_BC25/Data/Original_D...</td>\n",
       "      <td>56.424490</td>\n",
       "    </tr>\n",
       "    <tr>\n",
       "      <th>13</th>\n",
       "      <td>turvul/XC780516.wav</td>\n",
       "      <td>turvul</td>\n",
       "      <td>https://xeno-canto.org/780516</td>\n",
       "      <td>aves</td>\n",
       "      <td>Turkey Vulture</td>\n",
       "      <td>Creative Commons Attribution-NonCommercial-Sha...</td>\n",
       "      <td>/home/olly/Desktop/Kaggle_BC25/Data/Original_D...</td>\n",
       "      <td>34.833708</td>\n",
       "    </tr>\n",
       "    <tr>\n",
       "      <th>14</th>\n",
       "      <td>turvul/XC904279.wav</td>\n",
       "      <td>turvul</td>\n",
       "      <td>https://xeno-canto.org/904279</td>\n",
       "      <td>aves</td>\n",
       "      <td>Turkey Vulture</td>\n",
       "      <td>Creative Commons Attribution-NonCommercial-Sha...</td>\n",
       "      <td>/home/olly/Desktop/Kaggle_BC25/Data/Original_D...</td>\n",
       "      <td>27.299184</td>\n",
       "    </tr>\n",
       "    <tr>\n",
       "      <th>11</th>\n",
       "      <td>turvul/XC748979.mp3</td>\n",
       "      <td>turvul</td>\n",
       "      <td>https://xeno-canto.org/748979</td>\n",
       "      <td>aves</td>\n",
       "      <td>Turkey Vulture</td>\n",
       "      <td>Creative Commons Attribution-NonCommercial-Sha...</td>\n",
       "      <td>/home/olly/Desktop/Kaggle_BC25/Data/Original_D...</td>\n",
       "      <td>13.866009</td>\n",
       "    </tr>\n",
       "    <tr>\n",
       "      <th>1</th>\n",
       "      <td>42113/XC975063.wav</td>\n",
       "      <td>42113</td>\n",
       "      <td>https://xeno-canto.org/admin.php/975063/download</td>\n",
       "      <td>aves</td>\n",
       "      <td>Collared Peccary</td>\n",
       "      <td>Creative Commons Attribution-NonCommercial-Sha...</td>\n",
       "      <td>/home/olly/Desktop/Kaggle_BC25/Data/Original_D...</td>\n",
       "      <td>8.514062</td>\n",
       "    </tr>\n",
       "    <tr>\n",
       "      <th>6</th>\n",
       "      <td>868458/2388.WAV</td>\n",
       "      <td>868458</td>\n",
       "      <td>http://orthoptera.archive.speciesfile.org/Comm...</td>\n",
       "      <td>insecta</td>\n",
       "      <td>Typophyllum inflatum</td>\n",
       "      <td>CC-BY</td>\n",
       "      <td>/home/olly/Desktop/Kaggle_BC25/Data/Original_D...</td>\n",
       "      <td>8.189760</td>\n",
       "    </tr>\n",
       "    <tr>\n",
       "      <th>12</th>\n",
       "      <td>turvul/XC764680.wav</td>\n",
       "      <td>turvul</td>\n",
       "      <td>https://xeno-canto.org/764680</td>\n",
       "      <td>aves</td>\n",
       "      <td>Turkey Vulture</td>\n",
       "      <td>Creative Commons Attribution-NonCommercial-NoD...</td>\n",
       "      <td>/home/olly/Desktop/Kaggle_BC25/Data/Original_D...</td>\n",
       "      <td>6.669615</td>\n",
       "    </tr>\n",
       "    <tr>\n",
       "      <th>10</th>\n",
       "      <td>turvul/XC552488.mp3</td>\n",
       "      <td>turvul</td>\n",
       "      <td>https://xeno-canto.org/552488</td>\n",
       "      <td>aves</td>\n",
       "      <td>Turkey Vulture</td>\n",
       "      <td>Creative Commons Attribution-NonCommercial-NoD...</td>\n",
       "      <td>/home/olly/Desktop/Kaggle_BC25/Data/Original_D...</td>\n",
       "      <td>6.133583</td>\n",
       "    </tr>\n",
       "    <tr>\n",
       "      <th>3</th>\n",
       "      <td>66016/vaillanti-escape3.mp3</td>\n",
       "      <td>66016</td>\n",
       "      <td>https://www.fonozoo.com/sonidos/Lithobates%20v...</td>\n",
       "      <td>amphibia</td>\n",
       "      <td>Vaillant's Frog</td>\n",
       "      <td>NaN</td>\n",
       "      <td>/home/olly/Desktop/Kaggle_BC25/Data/Original_D...</td>\n",
       "      <td>1.175510</td>\n",
       "    </tr>\n",
       "    <tr>\n",
       "      <th>2</th>\n",
       "      <td>66016/vaillanti-escape1.mp3</td>\n",
       "      <td>66016</td>\n",
       "      <td>https://www.fonozoo.com/sonidos/Lithobates%20v...</td>\n",
       "      <td>amphibia</td>\n",
       "      <td>Vaillant's Frog</td>\n",
       "      <td>NaN</td>\n",
       "      <td>/home/olly/Desktop/Kaggle_BC25/Data/Original_D...</td>\n",
       "      <td>1.123265</td>\n",
       "    </tr>\n",
       "    <tr>\n",
       "      <th>4</th>\n",
       "      <td>66016/vaillanti-escape4.mp3</td>\n",
       "      <td>66016</td>\n",
       "      <td>https://www.fonozoo.com/sonidos/Lithobates%20v...</td>\n",
       "      <td>amphibia</td>\n",
       "      <td>Vaillant's Frog</td>\n",
       "      <td>NaN</td>\n",
       "      <td>/home/olly/Desktop/Kaggle_BC25/Data/Original_D...</td>\n",
       "      <td>1.044898</td>\n",
       "    </tr>\n",
       "    <tr>\n",
       "      <th>7</th>\n",
       "      <td>turlvul/XC39894.mp3</td>\n",
       "      <td>turvul</td>\n",
       "      <td>https://xeno-canto.org/39894</td>\n",
       "      <td>aves</td>\n",
       "      <td>Turkey Vulture</td>\n",
       "      <td>Creative Commons Attribution-NonCommercial-NoD...</td>\n",
       "      <td>/home/olly/Desktop/Kaggle_BC25/Data/Original_D...</td>\n",
       "      <td>NaN</td>\n",
       "    </tr>\n",
       "  </tbody>\n",
       "</table>\n",
       "</div>"
      ],
      "text/plain": [
       "                               filename primary_label  \\\n",
       "8                   turvul/XC381486.mp3        turvul   \n",
       "9                   turvul/XC520288.mp3        turvul   \n",
       "0                      1139490/2391.wav       1139490   \n",
       "5   66578/Pristimantis_bogotensis15.wav         66578   \n",
       "13                  turvul/XC780516.wav        turvul   \n",
       "14                  turvul/XC904279.wav        turvul   \n",
       "11                  turvul/XC748979.mp3        turvul   \n",
       "1                    42113/XC975063.wav         42113   \n",
       "6                       868458/2388.WAV        868458   \n",
       "12                  turvul/XC764680.wav        turvul   \n",
       "10                  turvul/XC552488.mp3        turvul   \n",
       "3           66016/vaillanti-escape3.mp3         66016   \n",
       "2           66016/vaillanti-escape1.mp3         66016   \n",
       "4           66016/vaillanti-escape4.mp3         66016   \n",
       "7                   turlvul/XC39894.mp3        turvul   \n",
       "\n",
       "                                                  url     class  \\\n",
       "8                       https://xeno-canto.org/381486      aves   \n",
       "9                       https://xeno-canto.org/520288      aves   \n",
       "0   http://orthoptera.archive.speciesfile.org/Comm...   insecta   \n",
       "5   https://amphibiaweb.org/sounds/Pristimantis_bo...  amphibia   \n",
       "13                      https://xeno-canto.org/780516      aves   \n",
       "14                      https://xeno-canto.org/904279      aves   \n",
       "11                      https://xeno-canto.org/748979      aves   \n",
       "1    https://xeno-canto.org/admin.php/975063/download      aves   \n",
       "6   http://orthoptera.archive.speciesfile.org/Comm...   insecta   \n",
       "12                      https://xeno-canto.org/764680      aves   \n",
       "10                      https://xeno-canto.org/552488      aves   \n",
       "3   https://www.fonozoo.com/sonidos/Lithobates%20v...  amphibia   \n",
       "2   https://www.fonozoo.com/sonidos/Lithobates%20v...  amphibia   \n",
       "4   https://www.fonozoo.com/sonidos/Lithobates%20v...  amphibia   \n",
       "7                        https://xeno-canto.org/39894      aves   \n",
       "\n",
       "             common_name                                            License  \\\n",
       "8         Turkey Vulture  Creative Commons Attribution-NonCommercial-NoD...   \n",
       "9         Turkey Vulture  Creative Commons Attribution-NonCommercial-Sha...   \n",
       "0   Ragoniella pulchella                                              CC-BY   \n",
       "5     Bogota Robber Frog                                           CC-BY-NC   \n",
       "13        Turkey Vulture  Creative Commons Attribution-NonCommercial-Sha...   \n",
       "14        Turkey Vulture  Creative Commons Attribution-NonCommercial-Sha...   \n",
       "11        Turkey Vulture  Creative Commons Attribution-NonCommercial-Sha...   \n",
       "1       Collared Peccary  Creative Commons Attribution-NonCommercial-Sha...   \n",
       "6   Typophyllum inflatum                                              CC-BY   \n",
       "12        Turkey Vulture  Creative Commons Attribution-NonCommercial-NoD...   \n",
       "10        Turkey Vulture  Creative Commons Attribution-NonCommercial-NoD...   \n",
       "3        Vaillant's Frog                                                NaN   \n",
       "2        Vaillant's Frog                                                NaN   \n",
       "4        Vaillant's Frog                                                NaN   \n",
       "7         Turkey Vulture  Creative Commons Attribution-NonCommercial-NoD...   \n",
       "\n",
       "                                             filepath    duration  \n",
       "8   /home/olly/Desktop/Kaggle_BC25/Data/Original_D...  152.976000  \n",
       "9   /home/olly/Desktop/Kaggle_BC25/Data/Original_D...  114.239000  \n",
       "0   /home/olly/Desktop/Kaggle_BC25/Data/Original_D...   86.146259  \n",
       "5   /home/olly/Desktop/Kaggle_BC25/Data/Original_D...   56.424490  \n",
       "13  /home/olly/Desktop/Kaggle_BC25/Data/Original_D...   34.833708  \n",
       "14  /home/olly/Desktop/Kaggle_BC25/Data/Original_D...   27.299184  \n",
       "11  /home/olly/Desktop/Kaggle_BC25/Data/Original_D...   13.866009  \n",
       "1   /home/olly/Desktop/Kaggle_BC25/Data/Original_D...    8.514062  \n",
       "6   /home/olly/Desktop/Kaggle_BC25/Data/Original_D...    8.189760  \n",
       "12  /home/olly/Desktop/Kaggle_BC25/Data/Original_D...    6.669615  \n",
       "10  /home/olly/Desktop/Kaggle_BC25/Data/Original_D...    6.133583  \n",
       "3   /home/olly/Desktop/Kaggle_BC25/Data/Original_D...    1.175510  \n",
       "2   /home/olly/Desktop/Kaggle_BC25/Data/Original_D...    1.123265  \n",
       "4   /home/olly/Desktop/Kaggle_BC25/Data/Original_D...    1.044898  \n",
       "7   /home/olly/Desktop/Kaggle_BC25/Data/Original_D...         NaN  "
      ]
     },
     "execution_count": 207,
     "metadata": {},
     "output_type": "execute_result"
    }
   ],
   "source": [
    "df = df.sort_values(by='duration', ascending=False)\n",
    "df.head(15)"
   ]
  },
  {
   "cell_type": "markdown",
   "metadata": {},
   "source": [
    "Let's get a new column with the count by primary label for later filtering."
   ]
  },
  {
   "cell_type": "code",
   "execution_count": 208,
   "metadata": {},
   "outputs": [
    {
     "data": {
      "text/html": [
       "<div>\n",
       "<style scoped>\n",
       "    .dataframe tbody tr th:only-of-type {\n",
       "        vertical-align: middle;\n",
       "    }\n",
       "\n",
       "    .dataframe tbody tr th {\n",
       "        vertical-align: top;\n",
       "    }\n",
       "\n",
       "    .dataframe thead th {\n",
       "        text-align: right;\n",
       "    }\n",
       "</style>\n",
       "<table border=\"1\" class=\"dataframe\">\n",
       "  <thead>\n",
       "    <tr style=\"text-align: right;\">\n",
       "      <th></th>\n",
       "      <th>filename</th>\n",
       "      <th>primary_label</th>\n",
       "      <th>url</th>\n",
       "      <th>class</th>\n",
       "      <th>common_name</th>\n",
       "      <th>License</th>\n",
       "      <th>filepath</th>\n",
       "      <th>duration</th>\n",
       "      <th>label_count</th>\n",
       "    </tr>\n",
       "  </thead>\n",
       "  <tbody>\n",
       "    <tr>\n",
       "      <th>8</th>\n",
       "      <td>turvul/XC381486.mp3</td>\n",
       "      <td>turvul</td>\n",
       "      <td>https://xeno-canto.org/381486</td>\n",
       "      <td>aves</td>\n",
       "      <td>Turkey Vulture</td>\n",
       "      <td>Creative Commons Attribution-NonCommercial-NoD...</td>\n",
       "      <td>/home/olly/Desktop/Kaggle_BC25/Data/Original_D...</td>\n",
       "      <td>152.976000</td>\n",
       "      <td>8</td>\n",
       "    </tr>\n",
       "    <tr>\n",
       "      <th>9</th>\n",
       "      <td>turvul/XC520288.mp3</td>\n",
       "      <td>turvul</td>\n",
       "      <td>https://xeno-canto.org/520288</td>\n",
       "      <td>aves</td>\n",
       "      <td>Turkey Vulture</td>\n",
       "      <td>Creative Commons Attribution-NonCommercial-Sha...</td>\n",
       "      <td>/home/olly/Desktop/Kaggle_BC25/Data/Original_D...</td>\n",
       "      <td>114.239000</td>\n",
       "      <td>8</td>\n",
       "    </tr>\n",
       "    <tr>\n",
       "      <th>0</th>\n",
       "      <td>1139490/2391.wav</td>\n",
       "      <td>1139490</td>\n",
       "      <td>http://orthoptera.archive.speciesfile.org/Comm...</td>\n",
       "      <td>insecta</td>\n",
       "      <td>Ragoniella pulchella</td>\n",
       "      <td>CC-BY</td>\n",
       "      <td>/home/olly/Desktop/Kaggle_BC25/Data/Original_D...</td>\n",
       "      <td>86.146259</td>\n",
       "      <td>1</td>\n",
       "    </tr>\n",
       "    <tr>\n",
       "      <th>5</th>\n",
       "      <td>66578/Pristimantis_bogotensis15.wav</td>\n",
       "      <td>66578</td>\n",
       "      <td>https://amphibiaweb.org/sounds/Pristimantis_bo...</td>\n",
       "      <td>amphibia</td>\n",
       "      <td>Bogota Robber Frog</td>\n",
       "      <td>CC-BY-NC</td>\n",
       "      <td>/home/olly/Desktop/Kaggle_BC25/Data/Original_D...</td>\n",
       "      <td>56.424490</td>\n",
       "      <td>1</td>\n",
       "    </tr>\n",
       "    <tr>\n",
       "      <th>13</th>\n",
       "      <td>turvul/XC780516.wav</td>\n",
       "      <td>turvul</td>\n",
       "      <td>https://xeno-canto.org/780516</td>\n",
       "      <td>aves</td>\n",
       "      <td>Turkey Vulture</td>\n",
       "      <td>Creative Commons Attribution-NonCommercial-Sha...</td>\n",
       "      <td>/home/olly/Desktop/Kaggle_BC25/Data/Original_D...</td>\n",
       "      <td>34.833708</td>\n",
       "      <td>8</td>\n",
       "    </tr>\n",
       "  </tbody>\n",
       "</table>\n",
       "</div>"
      ],
      "text/plain": [
       "                               filename primary_label  \\\n",
       "8                   turvul/XC381486.mp3        turvul   \n",
       "9                   turvul/XC520288.mp3        turvul   \n",
       "0                      1139490/2391.wav       1139490   \n",
       "5   66578/Pristimantis_bogotensis15.wav         66578   \n",
       "13                  turvul/XC780516.wav        turvul   \n",
       "\n",
       "                                                  url     class  \\\n",
       "8                       https://xeno-canto.org/381486      aves   \n",
       "9                       https://xeno-canto.org/520288      aves   \n",
       "0   http://orthoptera.archive.speciesfile.org/Comm...   insecta   \n",
       "5   https://amphibiaweb.org/sounds/Pristimantis_bo...  amphibia   \n",
       "13                      https://xeno-canto.org/780516      aves   \n",
       "\n",
       "             common_name                                            License  \\\n",
       "8         Turkey Vulture  Creative Commons Attribution-NonCommercial-NoD...   \n",
       "9         Turkey Vulture  Creative Commons Attribution-NonCommercial-Sha...   \n",
       "0   Ragoniella pulchella                                              CC-BY   \n",
       "5     Bogota Robber Frog                                           CC-BY-NC   \n",
       "13        Turkey Vulture  Creative Commons Attribution-NonCommercial-Sha...   \n",
       "\n",
       "                                             filepath    duration  label_count  \n",
       "8   /home/olly/Desktop/Kaggle_BC25/Data/Original_D...  152.976000            8  \n",
       "9   /home/olly/Desktop/Kaggle_BC25/Data/Original_D...  114.239000            8  \n",
       "0   /home/olly/Desktop/Kaggle_BC25/Data/Original_D...   86.146259            1  \n",
       "5   /home/olly/Desktop/Kaggle_BC25/Data/Original_D...   56.424490            1  \n",
       "13  /home/olly/Desktop/Kaggle_BC25/Data/Original_D...   34.833708            8  "
      ]
     },
     "execution_count": 208,
     "metadata": {},
     "output_type": "execute_result"
    }
   ],
   "source": [
    "df['label_count'] = df.groupby('primary_label')['primary_label'].transform('count')\n",
    "df.head()"
   ]
  },
  {
   "cell_type": "code",
   "execution_count": 209,
   "metadata": {},
   "outputs": [
    {
     "data": {
      "text/html": [
       "<div>\n",
       "<style scoped>\n",
       "    .dataframe tbody tr th:only-of-type {\n",
       "        vertical-align: middle;\n",
       "    }\n",
       "\n",
       "    .dataframe tbody tr th {\n",
       "        vertical-align: top;\n",
       "    }\n",
       "\n",
       "    .dataframe thead th {\n",
       "        text-align: right;\n",
       "    }\n",
       "</style>\n",
       "<table border=\"1\" class=\"dataframe\">\n",
       "  <thead>\n",
       "    <tr style=\"text-align: right;\">\n",
       "      <th></th>\n",
       "      <th>filename</th>\n",
       "      <th>primary_label</th>\n",
       "      <th>url</th>\n",
       "      <th>class</th>\n",
       "      <th>common_name</th>\n",
       "      <th>License</th>\n",
       "      <th>filepath</th>\n",
       "      <th>duration</th>\n",
       "      <th>label_count</th>\n",
       "    </tr>\n",
       "  </thead>\n",
       "  <tbody>\n",
       "    <tr>\n",
       "      <th>8</th>\n",
       "      <td>turvul/XC381486.mp3</td>\n",
       "      <td>turvul</td>\n",
       "      <td>https://xeno-canto.org/381486</td>\n",
       "      <td>aves</td>\n",
       "      <td>Turkey Vulture</td>\n",
       "      <td>Creative Commons Attribution-NonCommercial-NoD...</td>\n",
       "      <td>/home/olly/Desktop/Kaggle_BC25/Data/Original_D...</td>\n",
       "      <td>152.976000</td>\n",
       "      <td>8</td>\n",
       "    </tr>\n",
       "    <tr>\n",
       "      <th>9</th>\n",
       "      <td>turvul/XC520288.mp3</td>\n",
       "      <td>turvul</td>\n",
       "      <td>https://xeno-canto.org/520288</td>\n",
       "      <td>aves</td>\n",
       "      <td>Turkey Vulture</td>\n",
       "      <td>Creative Commons Attribution-NonCommercial-Sha...</td>\n",
       "      <td>/home/olly/Desktop/Kaggle_BC25/Data/Original_D...</td>\n",
       "      <td>114.239000</td>\n",
       "      <td>8</td>\n",
       "    </tr>\n",
       "    <tr>\n",
       "      <th>0</th>\n",
       "      <td>1139490/2391.wav</td>\n",
       "      <td>1139490</td>\n",
       "      <td>http://orthoptera.archive.speciesfile.org/Comm...</td>\n",
       "      <td>insecta</td>\n",
       "      <td>Ragoniella pulchella</td>\n",
       "      <td>CC-BY</td>\n",
       "      <td>/home/olly/Desktop/Kaggle_BC25/Data/Original_D...</td>\n",
       "      <td>86.146259</td>\n",
       "      <td>1</td>\n",
       "    </tr>\n",
       "    <tr>\n",
       "      <th>5</th>\n",
       "      <td>66578/Pristimantis_bogotensis15.wav</td>\n",
       "      <td>66578</td>\n",
       "      <td>https://amphibiaweb.org/sounds/Pristimantis_bo...</td>\n",
       "      <td>amphibia</td>\n",
       "      <td>Bogota Robber Frog</td>\n",
       "      <td>CC-BY-NC</td>\n",
       "      <td>/home/olly/Desktop/Kaggle_BC25/Data/Original_D...</td>\n",
       "      <td>56.424490</td>\n",
       "      <td>1</td>\n",
       "    </tr>\n",
       "    <tr>\n",
       "      <th>13</th>\n",
       "      <td>turvul/XC780516.wav</td>\n",
       "      <td>turvul</td>\n",
       "      <td>https://xeno-canto.org/780516</td>\n",
       "      <td>aves</td>\n",
       "      <td>Turkey Vulture</td>\n",
       "      <td>Creative Commons Attribution-NonCommercial-Sha...</td>\n",
       "      <td>/home/olly/Desktop/Kaggle_BC25/Data/Original_D...</td>\n",
       "      <td>34.833708</td>\n",
       "      <td>8</td>\n",
       "    </tr>\n",
       "  </tbody>\n",
       "</table>\n",
       "</div>"
      ],
      "text/plain": [
       "                               filename primary_label  \\\n",
       "8                   turvul/XC381486.mp3        turvul   \n",
       "9                   turvul/XC520288.mp3        turvul   \n",
       "0                      1139490/2391.wav       1139490   \n",
       "5   66578/Pristimantis_bogotensis15.wav         66578   \n",
       "13                  turvul/XC780516.wav        turvul   \n",
       "\n",
       "                                                  url     class  \\\n",
       "8                       https://xeno-canto.org/381486      aves   \n",
       "9                       https://xeno-canto.org/520288      aves   \n",
       "0   http://orthoptera.archive.speciesfile.org/Comm...   insecta   \n",
       "5   https://amphibiaweb.org/sounds/Pristimantis_bo...  amphibia   \n",
       "13                      https://xeno-canto.org/780516      aves   \n",
       "\n",
       "             common_name                                            License  \\\n",
       "8         Turkey Vulture  Creative Commons Attribution-NonCommercial-NoD...   \n",
       "9         Turkey Vulture  Creative Commons Attribution-NonCommercial-Sha...   \n",
       "0   Ragoniella pulchella                                              CC-BY   \n",
       "5     Bogota Robber Frog                                           CC-BY-NC   \n",
       "13        Turkey Vulture  Creative Commons Attribution-NonCommercial-Sha...   \n",
       "\n",
       "                                             filepath    duration  label_count  \n",
       "8   /home/olly/Desktop/Kaggle_BC25/Data/Original_D...  152.976000            8  \n",
       "9   /home/olly/Desktop/Kaggle_BC25/Data/Original_D...  114.239000            8  \n",
       "0   /home/olly/Desktop/Kaggle_BC25/Data/Original_D...   86.146259            1  \n",
       "5   /home/olly/Desktop/Kaggle_BC25/Data/Original_D...   56.424490            1  \n",
       "13  /home/olly/Desktop/Kaggle_BC25/Data/Original_D...   34.833708            8  "
      ]
     },
     "execution_count": 209,
     "metadata": {},
     "output_type": "execute_result"
    }
   ],
   "source": [
    "#common_df = df[df['label_count'] >= 400]\n",
    "df_gt_100 = df[df['label_count'] >= 100].copy()\n",
    "df_lt_100 = df[df['label_count'] <= 100].copy()\n",
    "df_lt_120 = df[df['label_count'] <= 120].copy()\n",
    "#df = df[(df['label_count'] <=500) | (df['duration'] <= 12)]\n",
    "df.head()"
   ]
  },
  {
   "cell_type": "code",
   "execution_count": 210,
   "metadata": {},
   "outputs": [
    {
     "data": {
      "application/vnd.plotly.v1+json": {
       "config": {
        "plotlyServerURL": "https://plot.ly"
       },
       "data": [
        {
         "hovertemplate": "Duration Threshold=%{x}<br>Count > Threshold=%{y}<extra></extra>",
         "legendgroup": "",
         "line": {
          "color": "#636efa",
          "dash": "solid"
         },
         "marker": {
          "symbol": "circle"
         },
         "mode": "lines+markers",
         "name": "",
         "orientation": "v",
         "showlegend": false,
         "type": "scatter",
         "x": [
          5,
          10,
          12,
          20,
          30,
          40,
          60,
          120
         ],
         "xaxis": "x",
         "y": [
          11,
          7,
          7,
          6,
          5,
          4,
          3,
          1
         ],
         "yaxis": "y"
        }
       ],
       "layout": {
        "legend": {
         "tracegroupgap": 0
        },
        "template": {
         "data": {
          "bar": [
           {
            "error_x": {
             "color": "#2a3f5f"
            },
            "error_y": {
             "color": "#2a3f5f"
            },
            "marker": {
             "line": {
              "color": "#E5ECF6",
              "width": 0.5
             },
             "pattern": {
              "fillmode": "overlay",
              "size": 10,
              "solidity": 0.2
             }
            },
            "type": "bar"
           }
          ],
          "barpolar": [
           {
            "marker": {
             "line": {
              "color": "#E5ECF6",
              "width": 0.5
             },
             "pattern": {
              "fillmode": "overlay",
              "size": 10,
              "solidity": 0.2
             }
            },
            "type": "barpolar"
           }
          ],
          "carpet": [
           {
            "aaxis": {
             "endlinecolor": "#2a3f5f",
             "gridcolor": "white",
             "linecolor": "white",
             "minorgridcolor": "white",
             "startlinecolor": "#2a3f5f"
            },
            "baxis": {
             "endlinecolor": "#2a3f5f",
             "gridcolor": "white",
             "linecolor": "white",
             "minorgridcolor": "white",
             "startlinecolor": "#2a3f5f"
            },
            "type": "carpet"
           }
          ],
          "choropleth": [
           {
            "colorbar": {
             "outlinewidth": 0,
             "ticks": ""
            },
            "type": "choropleth"
           }
          ],
          "contour": [
           {
            "colorbar": {
             "outlinewidth": 0,
             "ticks": ""
            },
            "colorscale": [
             [
              0,
              "#0d0887"
             ],
             [
              0.1111111111111111,
              "#46039f"
             ],
             [
              0.2222222222222222,
              "#7201a8"
             ],
             [
              0.3333333333333333,
              "#9c179e"
             ],
             [
              0.4444444444444444,
              "#bd3786"
             ],
             [
              0.5555555555555556,
              "#d8576b"
             ],
             [
              0.6666666666666666,
              "#ed7953"
             ],
             [
              0.7777777777777778,
              "#fb9f3a"
             ],
             [
              0.8888888888888888,
              "#fdca26"
             ],
             [
              1,
              "#f0f921"
             ]
            ],
            "type": "contour"
           }
          ],
          "contourcarpet": [
           {
            "colorbar": {
             "outlinewidth": 0,
             "ticks": ""
            },
            "type": "contourcarpet"
           }
          ],
          "heatmap": [
           {
            "colorbar": {
             "outlinewidth": 0,
             "ticks": ""
            },
            "colorscale": [
             [
              0,
              "#0d0887"
             ],
             [
              0.1111111111111111,
              "#46039f"
             ],
             [
              0.2222222222222222,
              "#7201a8"
             ],
             [
              0.3333333333333333,
              "#9c179e"
             ],
             [
              0.4444444444444444,
              "#bd3786"
             ],
             [
              0.5555555555555556,
              "#d8576b"
             ],
             [
              0.6666666666666666,
              "#ed7953"
             ],
             [
              0.7777777777777778,
              "#fb9f3a"
             ],
             [
              0.8888888888888888,
              "#fdca26"
             ],
             [
              1,
              "#f0f921"
             ]
            ],
            "type": "heatmap"
           }
          ],
          "heatmapgl": [
           {
            "colorbar": {
             "outlinewidth": 0,
             "ticks": ""
            },
            "colorscale": [
             [
              0,
              "#0d0887"
             ],
             [
              0.1111111111111111,
              "#46039f"
             ],
             [
              0.2222222222222222,
              "#7201a8"
             ],
             [
              0.3333333333333333,
              "#9c179e"
             ],
             [
              0.4444444444444444,
              "#bd3786"
             ],
             [
              0.5555555555555556,
              "#d8576b"
             ],
             [
              0.6666666666666666,
              "#ed7953"
             ],
             [
              0.7777777777777778,
              "#fb9f3a"
             ],
             [
              0.8888888888888888,
              "#fdca26"
             ],
             [
              1,
              "#f0f921"
             ]
            ],
            "type": "heatmapgl"
           }
          ],
          "histogram": [
           {
            "marker": {
             "pattern": {
              "fillmode": "overlay",
              "size": 10,
              "solidity": 0.2
             }
            },
            "type": "histogram"
           }
          ],
          "histogram2d": [
           {
            "colorbar": {
             "outlinewidth": 0,
             "ticks": ""
            },
            "colorscale": [
             [
              0,
              "#0d0887"
             ],
             [
              0.1111111111111111,
              "#46039f"
             ],
             [
              0.2222222222222222,
              "#7201a8"
             ],
             [
              0.3333333333333333,
              "#9c179e"
             ],
             [
              0.4444444444444444,
              "#bd3786"
             ],
             [
              0.5555555555555556,
              "#d8576b"
             ],
             [
              0.6666666666666666,
              "#ed7953"
             ],
             [
              0.7777777777777778,
              "#fb9f3a"
             ],
             [
              0.8888888888888888,
              "#fdca26"
             ],
             [
              1,
              "#f0f921"
             ]
            ],
            "type": "histogram2d"
           }
          ],
          "histogram2dcontour": [
           {
            "colorbar": {
             "outlinewidth": 0,
             "ticks": ""
            },
            "colorscale": [
             [
              0,
              "#0d0887"
             ],
             [
              0.1111111111111111,
              "#46039f"
             ],
             [
              0.2222222222222222,
              "#7201a8"
             ],
             [
              0.3333333333333333,
              "#9c179e"
             ],
             [
              0.4444444444444444,
              "#bd3786"
             ],
             [
              0.5555555555555556,
              "#d8576b"
             ],
             [
              0.6666666666666666,
              "#ed7953"
             ],
             [
              0.7777777777777778,
              "#fb9f3a"
             ],
             [
              0.8888888888888888,
              "#fdca26"
             ],
             [
              1,
              "#f0f921"
             ]
            ],
            "type": "histogram2dcontour"
           }
          ],
          "mesh3d": [
           {
            "colorbar": {
             "outlinewidth": 0,
             "ticks": ""
            },
            "type": "mesh3d"
           }
          ],
          "parcoords": [
           {
            "line": {
             "colorbar": {
              "outlinewidth": 0,
              "ticks": ""
             }
            },
            "type": "parcoords"
           }
          ],
          "pie": [
           {
            "automargin": true,
            "type": "pie"
           }
          ],
          "scatter": [
           {
            "fillpattern": {
             "fillmode": "overlay",
             "size": 10,
             "solidity": 0.2
            },
            "type": "scatter"
           }
          ],
          "scatter3d": [
           {
            "line": {
             "colorbar": {
              "outlinewidth": 0,
              "ticks": ""
             }
            },
            "marker": {
             "colorbar": {
              "outlinewidth": 0,
              "ticks": ""
             }
            },
            "type": "scatter3d"
           }
          ],
          "scattercarpet": [
           {
            "marker": {
             "colorbar": {
              "outlinewidth": 0,
              "ticks": ""
             }
            },
            "type": "scattercarpet"
           }
          ],
          "scattergeo": [
           {
            "marker": {
             "colorbar": {
              "outlinewidth": 0,
              "ticks": ""
             }
            },
            "type": "scattergeo"
           }
          ],
          "scattergl": [
           {
            "marker": {
             "colorbar": {
              "outlinewidth": 0,
              "ticks": ""
             }
            },
            "type": "scattergl"
           }
          ],
          "scattermapbox": [
           {
            "marker": {
             "colorbar": {
              "outlinewidth": 0,
              "ticks": ""
             }
            },
            "type": "scattermapbox"
           }
          ],
          "scatterpolar": [
           {
            "marker": {
             "colorbar": {
              "outlinewidth": 0,
              "ticks": ""
             }
            },
            "type": "scatterpolar"
           }
          ],
          "scatterpolargl": [
           {
            "marker": {
             "colorbar": {
              "outlinewidth": 0,
              "ticks": ""
             }
            },
            "type": "scatterpolargl"
           }
          ],
          "scatterternary": [
           {
            "marker": {
             "colorbar": {
              "outlinewidth": 0,
              "ticks": ""
             }
            },
            "type": "scatterternary"
           }
          ],
          "surface": [
           {
            "colorbar": {
             "outlinewidth": 0,
             "ticks": ""
            },
            "colorscale": [
             [
              0,
              "#0d0887"
             ],
             [
              0.1111111111111111,
              "#46039f"
             ],
             [
              0.2222222222222222,
              "#7201a8"
             ],
             [
              0.3333333333333333,
              "#9c179e"
             ],
             [
              0.4444444444444444,
              "#bd3786"
             ],
             [
              0.5555555555555556,
              "#d8576b"
             ],
             [
              0.6666666666666666,
              "#ed7953"
             ],
             [
              0.7777777777777778,
              "#fb9f3a"
             ],
             [
              0.8888888888888888,
              "#fdca26"
             ],
             [
              1,
              "#f0f921"
             ]
            ],
            "type": "surface"
           }
          ],
          "table": [
           {
            "cells": {
             "fill": {
              "color": "#EBF0F8"
             },
             "line": {
              "color": "white"
             }
            },
            "header": {
             "fill": {
              "color": "#C8D4E3"
             },
             "line": {
              "color": "white"
             }
            },
            "type": "table"
           }
          ]
         },
         "layout": {
          "annotationdefaults": {
           "arrowcolor": "#2a3f5f",
           "arrowhead": 0,
           "arrowwidth": 1
          },
          "autotypenumbers": "strict",
          "coloraxis": {
           "colorbar": {
            "outlinewidth": 0,
            "ticks": ""
           }
          },
          "colorscale": {
           "diverging": [
            [
             0,
             "#8e0152"
            ],
            [
             0.1,
             "#c51b7d"
            ],
            [
             0.2,
             "#de77ae"
            ],
            [
             0.3,
             "#f1b6da"
            ],
            [
             0.4,
             "#fde0ef"
            ],
            [
             0.5,
             "#f7f7f7"
            ],
            [
             0.6,
             "#e6f5d0"
            ],
            [
             0.7,
             "#b8e186"
            ],
            [
             0.8,
             "#7fbc41"
            ],
            [
             0.9,
             "#4d9221"
            ],
            [
             1,
             "#276419"
            ]
           ],
           "sequential": [
            [
             0,
             "#0d0887"
            ],
            [
             0.1111111111111111,
             "#46039f"
            ],
            [
             0.2222222222222222,
             "#7201a8"
            ],
            [
             0.3333333333333333,
             "#9c179e"
            ],
            [
             0.4444444444444444,
             "#bd3786"
            ],
            [
             0.5555555555555556,
             "#d8576b"
            ],
            [
             0.6666666666666666,
             "#ed7953"
            ],
            [
             0.7777777777777778,
             "#fb9f3a"
            ],
            [
             0.8888888888888888,
             "#fdca26"
            ],
            [
             1,
             "#f0f921"
            ]
           ],
           "sequentialminus": [
            [
             0,
             "#0d0887"
            ],
            [
             0.1111111111111111,
             "#46039f"
            ],
            [
             0.2222222222222222,
             "#7201a8"
            ],
            [
             0.3333333333333333,
             "#9c179e"
            ],
            [
             0.4444444444444444,
             "#bd3786"
            ],
            [
             0.5555555555555556,
             "#d8576b"
            ],
            [
             0.6666666666666666,
             "#ed7953"
            ],
            [
             0.7777777777777778,
             "#fb9f3a"
            ],
            [
             0.8888888888888888,
             "#fdca26"
            ],
            [
             1,
             "#f0f921"
            ]
           ]
          },
          "colorway": [
           "#636efa",
           "#EF553B",
           "#00cc96",
           "#ab63fa",
           "#FFA15A",
           "#19d3f3",
           "#FF6692",
           "#B6E880",
           "#FF97FF",
           "#FECB52"
          ],
          "font": {
           "color": "#2a3f5f"
          },
          "geo": {
           "bgcolor": "white",
           "lakecolor": "white",
           "landcolor": "#E5ECF6",
           "showlakes": true,
           "showland": true,
           "subunitcolor": "white"
          },
          "hoverlabel": {
           "align": "left"
          },
          "hovermode": "closest",
          "mapbox": {
           "style": "light"
          },
          "paper_bgcolor": "white",
          "plot_bgcolor": "#E5ECF6",
          "polar": {
           "angularaxis": {
            "gridcolor": "white",
            "linecolor": "white",
            "ticks": ""
           },
           "bgcolor": "#E5ECF6",
           "radialaxis": {
            "gridcolor": "white",
            "linecolor": "white",
            "ticks": ""
           }
          },
          "scene": {
           "xaxis": {
            "backgroundcolor": "#E5ECF6",
            "gridcolor": "white",
            "gridwidth": 2,
            "linecolor": "white",
            "showbackground": true,
            "ticks": "",
            "zerolinecolor": "white"
           },
           "yaxis": {
            "backgroundcolor": "#E5ECF6",
            "gridcolor": "white",
            "gridwidth": 2,
            "linecolor": "white",
            "showbackground": true,
            "ticks": "",
            "zerolinecolor": "white"
           },
           "zaxis": {
            "backgroundcolor": "#E5ECF6",
            "gridcolor": "white",
            "gridwidth": 2,
            "linecolor": "white",
            "showbackground": true,
            "ticks": "",
            "zerolinecolor": "white"
           }
          },
          "shapedefaults": {
           "line": {
            "color": "#2a3f5f"
           }
          },
          "ternary": {
           "aaxis": {
            "gridcolor": "white",
            "linecolor": "white",
            "ticks": ""
           },
           "baxis": {
            "gridcolor": "white",
            "linecolor": "white",
            "ticks": ""
           },
           "bgcolor": "#E5ECF6",
           "caxis": {
            "gridcolor": "white",
            "linecolor": "white",
            "ticks": ""
           }
          },
          "title": {
           "x": 0.05
          },
          "xaxis": {
           "automargin": true,
           "gridcolor": "white",
           "linecolor": "white",
           "ticks": "",
           "title": {
            "standoff": 15
           },
           "zerolinecolor": "white",
           "zerolinewidth": 2
          },
          "yaxis": {
           "automargin": true,
           "gridcolor": "white",
           "linecolor": "white",
           "ticks": "",
           "title": {
            "standoff": 15
           },
           "zerolinecolor": "white",
           "zerolinewidth": 2
          }
         }
        },
        "title": {
         "text": "Reverse Cumulative Histogram of Duration"
        },
        "xaxis": {
         "anchor": "y",
         "domain": [
          0,
          1
         ],
         "title": {
          "text": "Duration"
         }
        },
        "yaxis": {
         "anchor": "x",
         "domain": [
          0,
          1
         ],
         "title": {
          "text": "Count of Values > Threshold"
         }
        }
       }
      }
     },
     "metadata": {},
     "output_type": "display_data"
    }
   ],
   "source": [
    "bins = [5, 10, 12, 20, 30, 40, 60, 120]\n",
    "counts = [(df['duration'] > b).sum() for b in bins]\n",
    "\n",
    "df_counts = pd.DataFrame({'Duration Threshold': bins, 'Count > Threshold': counts})\n",
    "\n",
    "fig = px.line(df_counts, x='Duration Threshold', y='Count > Threshold', markers=True, title='Reverse Cumulative Histogram of Duration')\n",
    "fig.update_layout(xaxis_title='Duration', yaxis_title='Count of Values > Threshold')\n",
    "fig.show()"
   ]
  },
  {
   "cell_type": "code",
   "execution_count": 211,
   "metadata": {},
   "outputs": [
    {
     "data": {
      "text/plain": [
       "[11, 7, 7, 6, 5, 4, 3, 1]"
      ]
     },
     "execution_count": 211,
     "metadata": {},
     "output_type": "execute_result"
    }
   ],
   "source": [
    "counts"
   ]
  },
  {
   "cell_type": "code",
   "execution_count": 212,
   "metadata": {},
   "outputs": [
    {
     "data": {
      "application/vnd.plotly.v1+json": {
       "config": {
        "plotlyServerURL": "https://plot.ly"
       },
       "data": [
        {
         "alignmentgroup": "True",
         "hovertemplate": "Primary Label=%{x}<br>Count of Duration > 12=%{text}<extra></extra>",
         "legendgroup": "",
         "marker": {
          "color": "#636efa",
          "pattern": {
           "shape": ""
          }
         },
         "name": "",
         "offsetgroup": "",
         "orientation": "v",
         "showlegend": false,
         "text": [
          1,
          0,
          0,
          1,
          0,
          5
         ],
         "textposition": "auto",
         "type": "bar",
         "x": [
          "1139490",
          "42113",
          "66016",
          "66578",
          "868458",
          "turvul"
         ],
         "xaxis": "x",
         "y": [
          1,
          0,
          0,
          1,
          0,
          5
         ],
         "yaxis": "y"
        }
       ],
       "layout": {
        "barmode": "relative",
        "legend": {
         "tracegroupgap": 0
        },
        "template": {
         "data": {
          "bar": [
           {
            "error_x": {
             "color": "#2a3f5f"
            },
            "error_y": {
             "color": "#2a3f5f"
            },
            "marker": {
             "line": {
              "color": "#E5ECF6",
              "width": 0.5
             },
             "pattern": {
              "fillmode": "overlay",
              "size": 10,
              "solidity": 0.2
             }
            },
            "type": "bar"
           }
          ],
          "barpolar": [
           {
            "marker": {
             "line": {
              "color": "#E5ECF6",
              "width": 0.5
             },
             "pattern": {
              "fillmode": "overlay",
              "size": 10,
              "solidity": 0.2
             }
            },
            "type": "barpolar"
           }
          ],
          "carpet": [
           {
            "aaxis": {
             "endlinecolor": "#2a3f5f",
             "gridcolor": "white",
             "linecolor": "white",
             "minorgridcolor": "white",
             "startlinecolor": "#2a3f5f"
            },
            "baxis": {
             "endlinecolor": "#2a3f5f",
             "gridcolor": "white",
             "linecolor": "white",
             "minorgridcolor": "white",
             "startlinecolor": "#2a3f5f"
            },
            "type": "carpet"
           }
          ],
          "choropleth": [
           {
            "colorbar": {
             "outlinewidth": 0,
             "ticks": ""
            },
            "type": "choropleth"
           }
          ],
          "contour": [
           {
            "colorbar": {
             "outlinewidth": 0,
             "ticks": ""
            },
            "colorscale": [
             [
              0,
              "#0d0887"
             ],
             [
              0.1111111111111111,
              "#46039f"
             ],
             [
              0.2222222222222222,
              "#7201a8"
             ],
             [
              0.3333333333333333,
              "#9c179e"
             ],
             [
              0.4444444444444444,
              "#bd3786"
             ],
             [
              0.5555555555555556,
              "#d8576b"
             ],
             [
              0.6666666666666666,
              "#ed7953"
             ],
             [
              0.7777777777777778,
              "#fb9f3a"
             ],
             [
              0.8888888888888888,
              "#fdca26"
             ],
             [
              1,
              "#f0f921"
             ]
            ],
            "type": "contour"
           }
          ],
          "contourcarpet": [
           {
            "colorbar": {
             "outlinewidth": 0,
             "ticks": ""
            },
            "type": "contourcarpet"
           }
          ],
          "heatmap": [
           {
            "colorbar": {
             "outlinewidth": 0,
             "ticks": ""
            },
            "colorscale": [
             [
              0,
              "#0d0887"
             ],
             [
              0.1111111111111111,
              "#46039f"
             ],
             [
              0.2222222222222222,
              "#7201a8"
             ],
             [
              0.3333333333333333,
              "#9c179e"
             ],
             [
              0.4444444444444444,
              "#bd3786"
             ],
             [
              0.5555555555555556,
              "#d8576b"
             ],
             [
              0.6666666666666666,
              "#ed7953"
             ],
             [
              0.7777777777777778,
              "#fb9f3a"
             ],
             [
              0.8888888888888888,
              "#fdca26"
             ],
             [
              1,
              "#f0f921"
             ]
            ],
            "type": "heatmap"
           }
          ],
          "heatmapgl": [
           {
            "colorbar": {
             "outlinewidth": 0,
             "ticks": ""
            },
            "colorscale": [
             [
              0,
              "#0d0887"
             ],
             [
              0.1111111111111111,
              "#46039f"
             ],
             [
              0.2222222222222222,
              "#7201a8"
             ],
             [
              0.3333333333333333,
              "#9c179e"
             ],
             [
              0.4444444444444444,
              "#bd3786"
             ],
             [
              0.5555555555555556,
              "#d8576b"
             ],
             [
              0.6666666666666666,
              "#ed7953"
             ],
             [
              0.7777777777777778,
              "#fb9f3a"
             ],
             [
              0.8888888888888888,
              "#fdca26"
             ],
             [
              1,
              "#f0f921"
             ]
            ],
            "type": "heatmapgl"
           }
          ],
          "histogram": [
           {
            "marker": {
             "pattern": {
              "fillmode": "overlay",
              "size": 10,
              "solidity": 0.2
             }
            },
            "type": "histogram"
           }
          ],
          "histogram2d": [
           {
            "colorbar": {
             "outlinewidth": 0,
             "ticks": ""
            },
            "colorscale": [
             [
              0,
              "#0d0887"
             ],
             [
              0.1111111111111111,
              "#46039f"
             ],
             [
              0.2222222222222222,
              "#7201a8"
             ],
             [
              0.3333333333333333,
              "#9c179e"
             ],
             [
              0.4444444444444444,
              "#bd3786"
             ],
             [
              0.5555555555555556,
              "#d8576b"
             ],
             [
              0.6666666666666666,
              "#ed7953"
             ],
             [
              0.7777777777777778,
              "#fb9f3a"
             ],
             [
              0.8888888888888888,
              "#fdca26"
             ],
             [
              1,
              "#f0f921"
             ]
            ],
            "type": "histogram2d"
           }
          ],
          "histogram2dcontour": [
           {
            "colorbar": {
             "outlinewidth": 0,
             "ticks": ""
            },
            "colorscale": [
             [
              0,
              "#0d0887"
             ],
             [
              0.1111111111111111,
              "#46039f"
             ],
             [
              0.2222222222222222,
              "#7201a8"
             ],
             [
              0.3333333333333333,
              "#9c179e"
             ],
             [
              0.4444444444444444,
              "#bd3786"
             ],
             [
              0.5555555555555556,
              "#d8576b"
             ],
             [
              0.6666666666666666,
              "#ed7953"
             ],
             [
              0.7777777777777778,
              "#fb9f3a"
             ],
             [
              0.8888888888888888,
              "#fdca26"
             ],
             [
              1,
              "#f0f921"
             ]
            ],
            "type": "histogram2dcontour"
           }
          ],
          "mesh3d": [
           {
            "colorbar": {
             "outlinewidth": 0,
             "ticks": ""
            },
            "type": "mesh3d"
           }
          ],
          "parcoords": [
           {
            "line": {
             "colorbar": {
              "outlinewidth": 0,
              "ticks": ""
             }
            },
            "type": "parcoords"
           }
          ],
          "pie": [
           {
            "automargin": true,
            "type": "pie"
           }
          ],
          "scatter": [
           {
            "fillpattern": {
             "fillmode": "overlay",
             "size": 10,
             "solidity": 0.2
            },
            "type": "scatter"
           }
          ],
          "scatter3d": [
           {
            "line": {
             "colorbar": {
              "outlinewidth": 0,
              "ticks": ""
             }
            },
            "marker": {
             "colorbar": {
              "outlinewidth": 0,
              "ticks": ""
             }
            },
            "type": "scatter3d"
           }
          ],
          "scattercarpet": [
           {
            "marker": {
             "colorbar": {
              "outlinewidth": 0,
              "ticks": ""
             }
            },
            "type": "scattercarpet"
           }
          ],
          "scattergeo": [
           {
            "marker": {
             "colorbar": {
              "outlinewidth": 0,
              "ticks": ""
             }
            },
            "type": "scattergeo"
           }
          ],
          "scattergl": [
           {
            "marker": {
             "colorbar": {
              "outlinewidth": 0,
              "ticks": ""
             }
            },
            "type": "scattergl"
           }
          ],
          "scattermapbox": [
           {
            "marker": {
             "colorbar": {
              "outlinewidth": 0,
              "ticks": ""
             }
            },
            "type": "scattermapbox"
           }
          ],
          "scatterpolar": [
           {
            "marker": {
             "colorbar": {
              "outlinewidth": 0,
              "ticks": ""
             }
            },
            "type": "scatterpolar"
           }
          ],
          "scatterpolargl": [
           {
            "marker": {
             "colorbar": {
              "outlinewidth": 0,
              "ticks": ""
             }
            },
            "type": "scatterpolargl"
           }
          ],
          "scatterternary": [
           {
            "marker": {
             "colorbar": {
              "outlinewidth": 0,
              "ticks": ""
             }
            },
            "type": "scatterternary"
           }
          ],
          "surface": [
           {
            "colorbar": {
             "outlinewidth": 0,
             "ticks": ""
            },
            "colorscale": [
             [
              0,
              "#0d0887"
             ],
             [
              0.1111111111111111,
              "#46039f"
             ],
             [
              0.2222222222222222,
              "#7201a8"
             ],
             [
              0.3333333333333333,
              "#9c179e"
             ],
             [
              0.4444444444444444,
              "#bd3786"
             ],
             [
              0.5555555555555556,
              "#d8576b"
             ],
             [
              0.6666666666666666,
              "#ed7953"
             ],
             [
              0.7777777777777778,
              "#fb9f3a"
             ],
             [
              0.8888888888888888,
              "#fdca26"
             ],
             [
              1,
              "#f0f921"
             ]
            ],
            "type": "surface"
           }
          ],
          "table": [
           {
            "cells": {
             "fill": {
              "color": "#EBF0F8"
             },
             "line": {
              "color": "white"
             }
            },
            "header": {
             "fill": {
              "color": "#C8D4E3"
             },
             "line": {
              "color": "white"
             }
            },
            "type": "table"
           }
          ]
         },
         "layout": {
          "annotationdefaults": {
           "arrowcolor": "#2a3f5f",
           "arrowhead": 0,
           "arrowwidth": 1
          },
          "autotypenumbers": "strict",
          "coloraxis": {
           "colorbar": {
            "outlinewidth": 0,
            "ticks": ""
           }
          },
          "colorscale": {
           "diverging": [
            [
             0,
             "#8e0152"
            ],
            [
             0.1,
             "#c51b7d"
            ],
            [
             0.2,
             "#de77ae"
            ],
            [
             0.3,
             "#f1b6da"
            ],
            [
             0.4,
             "#fde0ef"
            ],
            [
             0.5,
             "#f7f7f7"
            ],
            [
             0.6,
             "#e6f5d0"
            ],
            [
             0.7,
             "#b8e186"
            ],
            [
             0.8,
             "#7fbc41"
            ],
            [
             0.9,
             "#4d9221"
            ],
            [
             1,
             "#276419"
            ]
           ],
           "sequential": [
            [
             0,
             "#0d0887"
            ],
            [
             0.1111111111111111,
             "#46039f"
            ],
            [
             0.2222222222222222,
             "#7201a8"
            ],
            [
             0.3333333333333333,
             "#9c179e"
            ],
            [
             0.4444444444444444,
             "#bd3786"
            ],
            [
             0.5555555555555556,
             "#d8576b"
            ],
            [
             0.6666666666666666,
             "#ed7953"
            ],
            [
             0.7777777777777778,
             "#fb9f3a"
            ],
            [
             0.8888888888888888,
             "#fdca26"
            ],
            [
             1,
             "#f0f921"
            ]
           ],
           "sequentialminus": [
            [
             0,
             "#0d0887"
            ],
            [
             0.1111111111111111,
             "#46039f"
            ],
            [
             0.2222222222222222,
             "#7201a8"
            ],
            [
             0.3333333333333333,
             "#9c179e"
            ],
            [
             0.4444444444444444,
             "#bd3786"
            ],
            [
             0.5555555555555556,
             "#d8576b"
            ],
            [
             0.6666666666666666,
             "#ed7953"
            ],
            [
             0.7777777777777778,
             "#fb9f3a"
            ],
            [
             0.8888888888888888,
             "#fdca26"
            ],
            [
             1,
             "#f0f921"
            ]
           ]
          },
          "colorway": [
           "#636efa",
           "#EF553B",
           "#00cc96",
           "#ab63fa",
           "#FFA15A",
           "#19d3f3",
           "#FF6692",
           "#B6E880",
           "#FF97FF",
           "#FECB52"
          ],
          "font": {
           "color": "#2a3f5f"
          },
          "geo": {
           "bgcolor": "white",
           "lakecolor": "white",
           "landcolor": "#E5ECF6",
           "showlakes": true,
           "showland": true,
           "subunitcolor": "white"
          },
          "hoverlabel": {
           "align": "left"
          },
          "hovermode": "closest",
          "mapbox": {
           "style": "light"
          },
          "paper_bgcolor": "white",
          "plot_bgcolor": "#E5ECF6",
          "polar": {
           "angularaxis": {
            "gridcolor": "white",
            "linecolor": "white",
            "ticks": ""
           },
           "bgcolor": "#E5ECF6",
           "radialaxis": {
            "gridcolor": "white",
            "linecolor": "white",
            "ticks": ""
           }
          },
          "scene": {
           "xaxis": {
            "backgroundcolor": "#E5ECF6",
            "gridcolor": "white",
            "gridwidth": 2,
            "linecolor": "white",
            "showbackground": true,
            "ticks": "",
            "zerolinecolor": "white"
           },
           "yaxis": {
            "backgroundcolor": "#E5ECF6",
            "gridcolor": "white",
            "gridwidth": 2,
            "linecolor": "white",
            "showbackground": true,
            "ticks": "",
            "zerolinecolor": "white"
           },
           "zaxis": {
            "backgroundcolor": "#E5ECF6",
            "gridcolor": "white",
            "gridwidth": 2,
            "linecolor": "white",
            "showbackground": true,
            "ticks": "",
            "zerolinecolor": "white"
           }
          },
          "shapedefaults": {
           "line": {
            "color": "#2a3f5f"
           }
          },
          "ternary": {
           "aaxis": {
            "gridcolor": "white",
            "linecolor": "white",
            "ticks": ""
           },
           "baxis": {
            "gridcolor": "white",
            "linecolor": "white",
            "ticks": ""
           },
           "bgcolor": "#E5ECF6",
           "caxis": {
            "gridcolor": "white",
            "linecolor": "white",
            "ticks": ""
           }
          },
          "title": {
           "x": 0.05
          },
          "xaxis": {
           "automargin": true,
           "gridcolor": "white",
           "linecolor": "white",
           "ticks": "",
           "title": {
            "standoff": 15
           },
           "zerolinecolor": "white",
           "zerolinewidth": 2
          },
          "yaxis": {
           "automargin": true,
           "gridcolor": "white",
           "linecolor": "white",
           "ticks": "",
           "title": {
            "standoff": 15
           },
           "zerolinecolor": "white",
           "zerolinewidth": 2
          }
         }
        },
        "title": {
         "text": "Count of Samples with Duration > 12 for Labels with < 100 Total Samples"
        },
        "xaxis": {
         "anchor": "y",
         "categoryorder": "total ascending",
         "domain": [
          0,
          1
         ],
         "tickangle": -45,
         "title": {
          "text": "Primary Label"
         }
        },
        "yaxis": {
         "anchor": "x",
         "domain": [
          0,
          1
         ],
         "title": {
          "text": "Count of Duration > 12"
         }
        }
       }
      }
     },
     "metadata": {},
     "output_type": "display_data"
    }
   ],
   "source": [
    "#filtered_df = df[df['label_count'] < 100]\n",
    "duration_counts = df_lt_100.groupby('primary_label')['duration'].apply(lambda x: (x > 12).sum()).reset_index()\n",
    "duration_counts.columns = ['primary_label', 'count_over_12']\n",
    "\n",
    "fig = px.bar(duration_counts, x='primary_label', y='count_over_12', \n",
    "             title='Count of Samples with Duration > 12 for Labels with < 100 Total Samples',\n",
    "             labels={'primary_label': 'Primary Label', 'count_over_12': 'Count of Duration > 12'},\n",
    "             text='count_over_12')\n",
    "\n",
    "fig.update_layout(xaxis={'categoryorder':'total ascending'}, xaxis_tickangle=-45)\n",
    "fig.show()\n"
   ]
  },
  {
   "cell_type": "code",
   "execution_count": 213,
   "metadata": {},
   "outputs": [
    {
     "data": {
      "text/plain": [
       "15"
      ]
     },
     "execution_count": 213,
     "metadata": {},
     "output_type": "execute_result"
    }
   ],
   "source": [
    "len(df_lt_100)"
   ]
  },
  {
   "cell_type": "code",
   "execution_count": 214,
   "metadata": {},
   "outputs": [
    {
     "data": {
      "text/plain": [
       "15"
      ]
     },
     "execution_count": 214,
     "metadata": {},
     "output_type": "execute_result"
    }
   ],
   "source": [
    "len(df_lt_120)"
   ]
  },
  {
   "cell_type": "code",
   "execution_count": 215,
   "metadata": {},
   "outputs": [
    {
     "data": {
      "text/plain": [
       "6"
      ]
     },
     "execution_count": 215,
     "metadata": {},
     "output_type": "execute_result"
    }
   ],
   "source": [
    "df_lt_100['primary_label'].nunique()"
   ]
  },
  {
   "cell_type": "code",
   "execution_count": 216,
   "metadata": {},
   "outputs": [
    {
     "data": {
      "text/plain": [
       "6"
      ]
     },
     "execution_count": 216,
     "metadata": {},
     "output_type": "execute_result"
    }
   ],
   "source": [
    "df_lt_120['primary_label'].nunique()"
   ]
  },
  {
   "cell_type": "markdown",
   "metadata": {},
   "source": [
    "So if I marked up all 4,159 samples from classes rarest first I would have 118 classes fully marked with up to 100 samples.  The question is what to do with the rest of the classes.  What proportion of these are over 12 seconds?"
   ]
  },
  {
   "cell_type": "code",
   "execution_count": 217,
   "metadata": {},
   "outputs": [
    {
     "data": {
      "text/html": [
       "<div>\n",
       "<style scoped>\n",
       "    .dataframe tbody tr th:only-of-type {\n",
       "        vertical-align: middle;\n",
       "    }\n",
       "\n",
       "    .dataframe tbody tr th {\n",
       "        vertical-align: top;\n",
       "    }\n",
       "\n",
       "    .dataframe thead th {\n",
       "        text-align: right;\n",
       "    }\n",
       "</style>\n",
       "<table border=\"1\" class=\"dataframe\">\n",
       "  <thead>\n",
       "    <tr style=\"text-align: right;\">\n",
       "      <th></th>\n",
       "      <th>filename</th>\n",
       "      <th>primary_label</th>\n",
       "      <th>url</th>\n",
       "      <th>class</th>\n",
       "      <th>common_name</th>\n",
       "      <th>License</th>\n",
       "      <th>filepath</th>\n",
       "      <th>duration</th>\n",
       "      <th>label_count</th>\n",
       "    </tr>\n",
       "  </thead>\n",
       "  <tbody>\n",
       "  </tbody>\n",
       "</table>\n",
       "</div>"
      ],
      "text/plain": [
       "Empty DataFrame\n",
       "Columns: [filename, primary_label, url, class, common_name, License, filepath, duration, label_count]\n",
       "Index: []"
      ]
     },
     "execution_count": 217,
     "metadata": {},
     "output_type": "execute_result"
    }
   ],
   "source": [
    "df_gt_100.head()"
   ]
  },
  {
   "cell_type": "code",
   "execution_count": 218,
   "metadata": {},
   "outputs": [
    {
     "data": {
      "application/vnd.plotly.v1+json": {
       "config": {
        "plotlyServerURL": "https://plot.ly"
       },
       "data": [
        {
         "alignmentgroup": "True",
         "hovertemplate": "Label=%{x}<br>Occurrences=%{y}<br>Duration=%{marker.color}<extra></extra>",
         "legendgroup": "",
         "marker": {
          "color": [],
          "coloraxis": "coloraxis",
          "opacity": 1,
          "pattern": {
           "shape": ""
          }
         },
         "name": "",
         "offsetgroup": "",
         "orientation": "v",
         "showlegend": false,
         "textposition": "auto",
         "type": "bar",
         "x": [],
         "xaxis": "x",
         "y": [],
         "yaxis": "y"
        }
       ],
       "layout": {
        "barmode": "stack",
        "coloraxis": {
         "colorbar": {
          "title": {
           "text": "Duration"
          }
         },
         "colorscale": [
          [
           0,
           "#0d0887"
          ],
          [
           0.1111111111111111,
           "#46039f"
          ],
          [
           0.2222222222222222,
           "#7201a8"
          ],
          [
           0.3333333333333333,
           "#9c179e"
          ],
          [
           0.4444444444444444,
           "#bd3786"
          ],
          [
           0.5555555555555556,
           "#d8576b"
          ],
          [
           0.6666666666666666,
           "#ed7953"
          ],
          [
           0.7777777777777778,
           "#fb9f3a"
          ],
          [
           0.8888888888888888,
           "#fdca26"
          ],
          [
           1,
           "#f0f921"
          ]
         ]
        },
        "legend": {
         "tracegroupgap": 0
        },
        "template": {
         "data": {
          "bar": [
           {
            "error_x": {
             "color": "#2a3f5f"
            },
            "error_y": {
             "color": "#2a3f5f"
            },
            "marker": {
             "line": {
              "color": "#E5ECF6",
              "width": 0.5
             },
             "pattern": {
              "fillmode": "overlay",
              "size": 10,
              "solidity": 0.2
             }
            },
            "type": "bar"
           }
          ],
          "barpolar": [
           {
            "marker": {
             "line": {
              "color": "#E5ECF6",
              "width": 0.5
             },
             "pattern": {
              "fillmode": "overlay",
              "size": 10,
              "solidity": 0.2
             }
            },
            "type": "barpolar"
           }
          ],
          "carpet": [
           {
            "aaxis": {
             "endlinecolor": "#2a3f5f",
             "gridcolor": "white",
             "linecolor": "white",
             "minorgridcolor": "white",
             "startlinecolor": "#2a3f5f"
            },
            "baxis": {
             "endlinecolor": "#2a3f5f",
             "gridcolor": "white",
             "linecolor": "white",
             "minorgridcolor": "white",
             "startlinecolor": "#2a3f5f"
            },
            "type": "carpet"
           }
          ],
          "choropleth": [
           {
            "colorbar": {
             "outlinewidth": 0,
             "ticks": ""
            },
            "type": "choropleth"
           }
          ],
          "contour": [
           {
            "colorbar": {
             "outlinewidth": 0,
             "ticks": ""
            },
            "colorscale": [
             [
              0,
              "#0d0887"
             ],
             [
              0.1111111111111111,
              "#46039f"
             ],
             [
              0.2222222222222222,
              "#7201a8"
             ],
             [
              0.3333333333333333,
              "#9c179e"
             ],
             [
              0.4444444444444444,
              "#bd3786"
             ],
             [
              0.5555555555555556,
              "#d8576b"
             ],
             [
              0.6666666666666666,
              "#ed7953"
             ],
             [
              0.7777777777777778,
              "#fb9f3a"
             ],
             [
              0.8888888888888888,
              "#fdca26"
             ],
             [
              1,
              "#f0f921"
             ]
            ],
            "type": "contour"
           }
          ],
          "contourcarpet": [
           {
            "colorbar": {
             "outlinewidth": 0,
             "ticks": ""
            },
            "type": "contourcarpet"
           }
          ],
          "heatmap": [
           {
            "colorbar": {
             "outlinewidth": 0,
             "ticks": ""
            },
            "colorscale": [
             [
              0,
              "#0d0887"
             ],
             [
              0.1111111111111111,
              "#46039f"
             ],
             [
              0.2222222222222222,
              "#7201a8"
             ],
             [
              0.3333333333333333,
              "#9c179e"
             ],
             [
              0.4444444444444444,
              "#bd3786"
             ],
             [
              0.5555555555555556,
              "#d8576b"
             ],
             [
              0.6666666666666666,
              "#ed7953"
             ],
             [
              0.7777777777777778,
              "#fb9f3a"
             ],
             [
              0.8888888888888888,
              "#fdca26"
             ],
             [
              1,
              "#f0f921"
             ]
            ],
            "type": "heatmap"
           }
          ],
          "heatmapgl": [
           {
            "colorbar": {
             "outlinewidth": 0,
             "ticks": ""
            },
            "colorscale": [
             [
              0,
              "#0d0887"
             ],
             [
              0.1111111111111111,
              "#46039f"
             ],
             [
              0.2222222222222222,
              "#7201a8"
             ],
             [
              0.3333333333333333,
              "#9c179e"
             ],
             [
              0.4444444444444444,
              "#bd3786"
             ],
             [
              0.5555555555555556,
              "#d8576b"
             ],
             [
              0.6666666666666666,
              "#ed7953"
             ],
             [
              0.7777777777777778,
              "#fb9f3a"
             ],
             [
              0.8888888888888888,
              "#fdca26"
             ],
             [
              1,
              "#f0f921"
             ]
            ],
            "type": "heatmapgl"
           }
          ],
          "histogram": [
           {
            "marker": {
             "pattern": {
              "fillmode": "overlay",
              "size": 10,
              "solidity": 0.2
             }
            },
            "type": "histogram"
           }
          ],
          "histogram2d": [
           {
            "colorbar": {
             "outlinewidth": 0,
             "ticks": ""
            },
            "colorscale": [
             [
              0,
              "#0d0887"
             ],
             [
              0.1111111111111111,
              "#46039f"
             ],
             [
              0.2222222222222222,
              "#7201a8"
             ],
             [
              0.3333333333333333,
              "#9c179e"
             ],
             [
              0.4444444444444444,
              "#bd3786"
             ],
             [
              0.5555555555555556,
              "#d8576b"
             ],
             [
              0.6666666666666666,
              "#ed7953"
             ],
             [
              0.7777777777777778,
              "#fb9f3a"
             ],
             [
              0.8888888888888888,
              "#fdca26"
             ],
             [
              1,
              "#f0f921"
             ]
            ],
            "type": "histogram2d"
           }
          ],
          "histogram2dcontour": [
           {
            "colorbar": {
             "outlinewidth": 0,
             "ticks": ""
            },
            "colorscale": [
             [
              0,
              "#0d0887"
             ],
             [
              0.1111111111111111,
              "#46039f"
             ],
             [
              0.2222222222222222,
              "#7201a8"
             ],
             [
              0.3333333333333333,
              "#9c179e"
             ],
             [
              0.4444444444444444,
              "#bd3786"
             ],
             [
              0.5555555555555556,
              "#d8576b"
             ],
             [
              0.6666666666666666,
              "#ed7953"
             ],
             [
              0.7777777777777778,
              "#fb9f3a"
             ],
             [
              0.8888888888888888,
              "#fdca26"
             ],
             [
              1,
              "#f0f921"
             ]
            ],
            "type": "histogram2dcontour"
           }
          ],
          "mesh3d": [
           {
            "colorbar": {
             "outlinewidth": 0,
             "ticks": ""
            },
            "type": "mesh3d"
           }
          ],
          "parcoords": [
           {
            "line": {
             "colorbar": {
              "outlinewidth": 0,
              "ticks": ""
             }
            },
            "type": "parcoords"
           }
          ],
          "pie": [
           {
            "automargin": true,
            "type": "pie"
           }
          ],
          "scatter": [
           {
            "fillpattern": {
             "fillmode": "overlay",
             "size": 10,
             "solidity": 0.2
            },
            "type": "scatter"
           }
          ],
          "scatter3d": [
           {
            "line": {
             "colorbar": {
              "outlinewidth": 0,
              "ticks": ""
             }
            },
            "marker": {
             "colorbar": {
              "outlinewidth": 0,
              "ticks": ""
             }
            },
            "type": "scatter3d"
           }
          ],
          "scattercarpet": [
           {
            "marker": {
             "colorbar": {
              "outlinewidth": 0,
              "ticks": ""
             }
            },
            "type": "scattercarpet"
           }
          ],
          "scattergeo": [
           {
            "marker": {
             "colorbar": {
              "outlinewidth": 0,
              "ticks": ""
             }
            },
            "type": "scattergeo"
           }
          ],
          "scattergl": [
           {
            "marker": {
             "colorbar": {
              "outlinewidth": 0,
              "ticks": ""
             }
            },
            "type": "scattergl"
           }
          ],
          "scattermapbox": [
           {
            "marker": {
             "colorbar": {
              "outlinewidth": 0,
              "ticks": ""
             }
            },
            "type": "scattermapbox"
           }
          ],
          "scatterpolar": [
           {
            "marker": {
             "colorbar": {
              "outlinewidth": 0,
              "ticks": ""
             }
            },
            "type": "scatterpolar"
           }
          ],
          "scatterpolargl": [
           {
            "marker": {
             "colorbar": {
              "outlinewidth": 0,
              "ticks": ""
             }
            },
            "type": "scatterpolargl"
           }
          ],
          "scatterternary": [
           {
            "marker": {
             "colorbar": {
              "outlinewidth": 0,
              "ticks": ""
             }
            },
            "type": "scatterternary"
           }
          ],
          "surface": [
           {
            "colorbar": {
             "outlinewidth": 0,
             "ticks": ""
            },
            "colorscale": [
             [
              0,
              "#0d0887"
             ],
             [
              0.1111111111111111,
              "#46039f"
             ],
             [
              0.2222222222222222,
              "#7201a8"
             ],
             [
              0.3333333333333333,
              "#9c179e"
             ],
             [
              0.4444444444444444,
              "#bd3786"
             ],
             [
              0.5555555555555556,
              "#d8576b"
             ],
             [
              0.6666666666666666,
              "#ed7953"
             ],
             [
              0.7777777777777778,
              "#fb9f3a"
             ],
             [
              0.8888888888888888,
              "#fdca26"
             ],
             [
              1,
              "#f0f921"
             ]
            ],
            "type": "surface"
           }
          ],
          "table": [
           {
            "cells": {
             "fill": {
              "color": "#EBF0F8"
             },
             "line": {
              "color": "white"
             }
            },
            "header": {
             "fill": {
              "color": "#C8D4E3"
             },
             "line": {
              "color": "white"
             }
            },
            "type": "table"
           }
          ]
         },
         "layout": {
          "annotationdefaults": {
           "arrowcolor": "#2a3f5f",
           "arrowhead": 0,
           "arrowwidth": 1
          },
          "autotypenumbers": "strict",
          "coloraxis": {
           "colorbar": {
            "outlinewidth": 0,
            "ticks": ""
           }
          },
          "colorscale": {
           "diverging": [
            [
             0,
             "#8e0152"
            ],
            [
             0.1,
             "#c51b7d"
            ],
            [
             0.2,
             "#de77ae"
            ],
            [
             0.3,
             "#f1b6da"
            ],
            [
             0.4,
             "#fde0ef"
            ],
            [
             0.5,
             "#f7f7f7"
            ],
            [
             0.6,
             "#e6f5d0"
            ],
            [
             0.7,
             "#b8e186"
            ],
            [
             0.8,
             "#7fbc41"
            ],
            [
             0.9,
             "#4d9221"
            ],
            [
             1,
             "#276419"
            ]
           ],
           "sequential": [
            [
             0,
             "#0d0887"
            ],
            [
             0.1111111111111111,
             "#46039f"
            ],
            [
             0.2222222222222222,
             "#7201a8"
            ],
            [
             0.3333333333333333,
             "#9c179e"
            ],
            [
             0.4444444444444444,
             "#bd3786"
            ],
            [
             0.5555555555555556,
             "#d8576b"
            ],
            [
             0.6666666666666666,
             "#ed7953"
            ],
            [
             0.7777777777777778,
             "#fb9f3a"
            ],
            [
             0.8888888888888888,
             "#fdca26"
            ],
            [
             1,
             "#f0f921"
            ]
           ],
           "sequentialminus": [
            [
             0,
             "#0d0887"
            ],
            [
             0.1111111111111111,
             "#46039f"
            ],
            [
             0.2222222222222222,
             "#7201a8"
            ],
            [
             0.3333333333333333,
             "#9c179e"
            ],
            [
             0.4444444444444444,
             "#bd3786"
            ],
            [
             0.5555555555555556,
             "#d8576b"
            ],
            [
             0.6666666666666666,
             "#ed7953"
            ],
            [
             0.7777777777777778,
             "#fb9f3a"
            ],
            [
             0.8888888888888888,
             "#fdca26"
            ],
            [
             1,
             "#f0f921"
            ]
           ]
          },
          "colorway": [
           "#636efa",
           "#EF553B",
           "#00cc96",
           "#ab63fa",
           "#FFA15A",
           "#19d3f3",
           "#FF6692",
           "#B6E880",
           "#FF97FF",
           "#FECB52"
          ],
          "font": {
           "color": "#2a3f5f"
          },
          "geo": {
           "bgcolor": "white",
           "lakecolor": "white",
           "landcolor": "#E5ECF6",
           "showlakes": true,
           "showland": true,
           "subunitcolor": "white"
          },
          "hoverlabel": {
           "align": "left"
          },
          "hovermode": "closest",
          "mapbox": {
           "style": "light"
          },
          "paper_bgcolor": "white",
          "plot_bgcolor": "#E5ECF6",
          "polar": {
           "angularaxis": {
            "gridcolor": "white",
            "linecolor": "white",
            "ticks": ""
           },
           "bgcolor": "#E5ECF6",
           "radialaxis": {
            "gridcolor": "white",
            "linecolor": "white",
            "ticks": ""
           }
          },
          "scene": {
           "xaxis": {
            "backgroundcolor": "#E5ECF6",
            "gridcolor": "white",
            "gridwidth": 2,
            "linecolor": "white",
            "showbackground": true,
            "ticks": "",
            "zerolinecolor": "white"
           },
           "yaxis": {
            "backgroundcolor": "#E5ECF6",
            "gridcolor": "white",
            "gridwidth": 2,
            "linecolor": "white",
            "showbackground": true,
            "ticks": "",
            "zerolinecolor": "white"
           },
           "zaxis": {
            "backgroundcolor": "#E5ECF6",
            "gridcolor": "white",
            "gridwidth": 2,
            "linecolor": "white",
            "showbackground": true,
            "ticks": "",
            "zerolinecolor": "white"
           }
          },
          "shapedefaults": {
           "line": {
            "color": "#2a3f5f"
           }
          },
          "ternary": {
           "aaxis": {
            "gridcolor": "white",
            "linecolor": "white",
            "ticks": ""
           },
           "baxis": {
            "gridcolor": "white",
            "linecolor": "white",
            "ticks": ""
           },
           "bgcolor": "#E5ECF6",
           "caxis": {
            "gridcolor": "white",
            "linecolor": "white",
            "ticks": ""
           }
          },
          "title": {
           "x": 0.05
          },
          "xaxis": {
           "automargin": true,
           "gridcolor": "white",
           "linecolor": "white",
           "ticks": "",
           "title": {
            "standoff": 15
           },
           "zerolinecolor": "white",
           "zerolinewidth": 2
          },
          "yaxis": {
           "automargin": true,
           "gridcolor": "white",
           "linecolor": "white",
           "ticks": "",
           "title": {
            "standoff": 15
           },
           "zerolinecolor": "white",
           "zerolinewidth": 2
          }
         }
        },
        "title": {
         "text": "Stacked Occurrences by Duration"
        },
        "xaxis": {
         "anchor": "y",
         "domain": [
          0,
          1
         ],
         "title": {
          "text": "Label"
         }
        },
        "yaxis": {
         "anchor": "x",
         "domain": [
          0,
          1
         ],
         "title": {
          "text": "Occurrences"
         }
        }
       }
      }
     },
     "metadata": {},
     "output_type": "display_data"
    }
   ],
   "source": [
    "plot_duration_mix(df_gt_100, 20)"
   ]
  },
  {
   "cell_type": "markdown",
   "metadata": {},
   "source": [
    "secfly1, strher & snoegr could be double in size if their long samples were included, and they only have approx 50 short samples.  But for the rest, the long samples could sensibly be filtered out for the purpose of having a clean dataset, and the loss of data would be small.  This should be tried as an experiment.\n",
    "\n",
    "Or maybe we throw away anything over 30 seconds?  A bit less clean, but a bit more data?   Or over 30 seconds up until there are 200 samples, then over 20 seconds up to 300 samples, then anything over 12 seconds after that?"
   ]
  },
  {
   "cell_type": "code",
   "execution_count": 219,
   "metadata": {},
   "outputs": [
    {
     "data": {
      "application/vnd.plotly.v1+json": {
       "config": {
        "plotlyServerURL": "https://plot.ly"
       },
       "data": [
        {
         "alignmentgroup": "True",
         "hovertemplate": "Label=%{x}<br>Occurrences=%{y}<br>Duration=%{marker.color}<extra></extra>",
         "legendgroup": "",
         "marker": {
          "color": [],
          "coloraxis": "coloraxis",
          "opacity": 1,
          "pattern": {
           "shape": ""
          }
         },
         "name": "",
         "offsetgroup": "",
         "orientation": "v",
         "showlegend": false,
         "textposition": "auto",
         "type": "bar",
         "x": [],
         "xaxis": "x",
         "y": [],
         "yaxis": "y"
        }
       ],
       "layout": {
        "barmode": "stack",
        "coloraxis": {
         "colorbar": {
          "title": {
           "text": "Duration"
          }
         },
         "colorscale": [
          [
           0,
           "#0d0887"
          ],
          [
           0.1111111111111111,
           "#46039f"
          ],
          [
           0.2222222222222222,
           "#7201a8"
          ],
          [
           0.3333333333333333,
           "#9c179e"
          ],
          [
           0.4444444444444444,
           "#bd3786"
          ],
          [
           0.5555555555555556,
           "#d8576b"
          ],
          [
           0.6666666666666666,
           "#ed7953"
          ],
          [
           0.7777777777777778,
           "#fb9f3a"
          ],
          [
           0.8888888888888888,
           "#fdca26"
          ],
          [
           1,
           "#f0f921"
          ]
         ]
        },
        "legend": {
         "tracegroupgap": 0
        },
        "template": {
         "data": {
          "bar": [
           {
            "error_x": {
             "color": "#2a3f5f"
            },
            "error_y": {
             "color": "#2a3f5f"
            },
            "marker": {
             "line": {
              "color": "#E5ECF6",
              "width": 0.5
             },
             "pattern": {
              "fillmode": "overlay",
              "size": 10,
              "solidity": 0.2
             }
            },
            "type": "bar"
           }
          ],
          "barpolar": [
           {
            "marker": {
             "line": {
              "color": "#E5ECF6",
              "width": 0.5
             },
             "pattern": {
              "fillmode": "overlay",
              "size": 10,
              "solidity": 0.2
             }
            },
            "type": "barpolar"
           }
          ],
          "carpet": [
           {
            "aaxis": {
             "endlinecolor": "#2a3f5f",
             "gridcolor": "white",
             "linecolor": "white",
             "minorgridcolor": "white",
             "startlinecolor": "#2a3f5f"
            },
            "baxis": {
             "endlinecolor": "#2a3f5f",
             "gridcolor": "white",
             "linecolor": "white",
             "minorgridcolor": "white",
             "startlinecolor": "#2a3f5f"
            },
            "type": "carpet"
           }
          ],
          "choropleth": [
           {
            "colorbar": {
             "outlinewidth": 0,
             "ticks": ""
            },
            "type": "choropleth"
           }
          ],
          "contour": [
           {
            "colorbar": {
             "outlinewidth": 0,
             "ticks": ""
            },
            "colorscale": [
             [
              0,
              "#0d0887"
             ],
             [
              0.1111111111111111,
              "#46039f"
             ],
             [
              0.2222222222222222,
              "#7201a8"
             ],
             [
              0.3333333333333333,
              "#9c179e"
             ],
             [
              0.4444444444444444,
              "#bd3786"
             ],
             [
              0.5555555555555556,
              "#d8576b"
             ],
             [
              0.6666666666666666,
              "#ed7953"
             ],
             [
              0.7777777777777778,
              "#fb9f3a"
             ],
             [
              0.8888888888888888,
              "#fdca26"
             ],
             [
              1,
              "#f0f921"
             ]
            ],
            "type": "contour"
           }
          ],
          "contourcarpet": [
           {
            "colorbar": {
             "outlinewidth": 0,
             "ticks": ""
            },
            "type": "contourcarpet"
           }
          ],
          "heatmap": [
           {
            "colorbar": {
             "outlinewidth": 0,
             "ticks": ""
            },
            "colorscale": [
             [
              0,
              "#0d0887"
             ],
             [
              0.1111111111111111,
              "#46039f"
             ],
             [
              0.2222222222222222,
              "#7201a8"
             ],
             [
              0.3333333333333333,
              "#9c179e"
             ],
             [
              0.4444444444444444,
              "#bd3786"
             ],
             [
              0.5555555555555556,
              "#d8576b"
             ],
             [
              0.6666666666666666,
              "#ed7953"
             ],
             [
              0.7777777777777778,
              "#fb9f3a"
             ],
             [
              0.8888888888888888,
              "#fdca26"
             ],
             [
              1,
              "#f0f921"
             ]
            ],
            "type": "heatmap"
           }
          ],
          "heatmapgl": [
           {
            "colorbar": {
             "outlinewidth": 0,
             "ticks": ""
            },
            "colorscale": [
             [
              0,
              "#0d0887"
             ],
             [
              0.1111111111111111,
              "#46039f"
             ],
             [
              0.2222222222222222,
              "#7201a8"
             ],
             [
              0.3333333333333333,
              "#9c179e"
             ],
             [
              0.4444444444444444,
              "#bd3786"
             ],
             [
              0.5555555555555556,
              "#d8576b"
             ],
             [
              0.6666666666666666,
              "#ed7953"
             ],
             [
              0.7777777777777778,
              "#fb9f3a"
             ],
             [
              0.8888888888888888,
              "#fdca26"
             ],
             [
              1,
              "#f0f921"
             ]
            ],
            "type": "heatmapgl"
           }
          ],
          "histogram": [
           {
            "marker": {
             "pattern": {
              "fillmode": "overlay",
              "size": 10,
              "solidity": 0.2
             }
            },
            "type": "histogram"
           }
          ],
          "histogram2d": [
           {
            "colorbar": {
             "outlinewidth": 0,
             "ticks": ""
            },
            "colorscale": [
             [
              0,
              "#0d0887"
             ],
             [
              0.1111111111111111,
              "#46039f"
             ],
             [
              0.2222222222222222,
              "#7201a8"
             ],
             [
              0.3333333333333333,
              "#9c179e"
             ],
             [
              0.4444444444444444,
              "#bd3786"
             ],
             [
              0.5555555555555556,
              "#d8576b"
             ],
             [
              0.6666666666666666,
              "#ed7953"
             ],
             [
              0.7777777777777778,
              "#fb9f3a"
             ],
             [
              0.8888888888888888,
              "#fdca26"
             ],
             [
              1,
              "#f0f921"
             ]
            ],
            "type": "histogram2d"
           }
          ],
          "histogram2dcontour": [
           {
            "colorbar": {
             "outlinewidth": 0,
             "ticks": ""
            },
            "colorscale": [
             [
              0,
              "#0d0887"
             ],
             [
              0.1111111111111111,
              "#46039f"
             ],
             [
              0.2222222222222222,
              "#7201a8"
             ],
             [
              0.3333333333333333,
              "#9c179e"
             ],
             [
              0.4444444444444444,
              "#bd3786"
             ],
             [
              0.5555555555555556,
              "#d8576b"
             ],
             [
              0.6666666666666666,
              "#ed7953"
             ],
             [
              0.7777777777777778,
              "#fb9f3a"
             ],
             [
              0.8888888888888888,
              "#fdca26"
             ],
             [
              1,
              "#f0f921"
             ]
            ],
            "type": "histogram2dcontour"
           }
          ],
          "mesh3d": [
           {
            "colorbar": {
             "outlinewidth": 0,
             "ticks": ""
            },
            "type": "mesh3d"
           }
          ],
          "parcoords": [
           {
            "line": {
             "colorbar": {
              "outlinewidth": 0,
              "ticks": ""
             }
            },
            "type": "parcoords"
           }
          ],
          "pie": [
           {
            "automargin": true,
            "type": "pie"
           }
          ],
          "scatter": [
           {
            "fillpattern": {
             "fillmode": "overlay",
             "size": 10,
             "solidity": 0.2
            },
            "type": "scatter"
           }
          ],
          "scatter3d": [
           {
            "line": {
             "colorbar": {
              "outlinewidth": 0,
              "ticks": ""
             }
            },
            "marker": {
             "colorbar": {
              "outlinewidth": 0,
              "ticks": ""
             }
            },
            "type": "scatter3d"
           }
          ],
          "scattercarpet": [
           {
            "marker": {
             "colorbar": {
              "outlinewidth": 0,
              "ticks": ""
             }
            },
            "type": "scattercarpet"
           }
          ],
          "scattergeo": [
           {
            "marker": {
             "colorbar": {
              "outlinewidth": 0,
              "ticks": ""
             }
            },
            "type": "scattergeo"
           }
          ],
          "scattergl": [
           {
            "marker": {
             "colorbar": {
              "outlinewidth": 0,
              "ticks": ""
             }
            },
            "type": "scattergl"
           }
          ],
          "scattermapbox": [
           {
            "marker": {
             "colorbar": {
              "outlinewidth": 0,
              "ticks": ""
             }
            },
            "type": "scattermapbox"
           }
          ],
          "scatterpolar": [
           {
            "marker": {
             "colorbar": {
              "outlinewidth": 0,
              "ticks": ""
             }
            },
            "type": "scatterpolar"
           }
          ],
          "scatterpolargl": [
           {
            "marker": {
             "colorbar": {
              "outlinewidth": 0,
              "ticks": ""
             }
            },
            "type": "scatterpolargl"
           }
          ],
          "scatterternary": [
           {
            "marker": {
             "colorbar": {
              "outlinewidth": 0,
              "ticks": ""
             }
            },
            "type": "scatterternary"
           }
          ],
          "surface": [
           {
            "colorbar": {
             "outlinewidth": 0,
             "ticks": ""
            },
            "colorscale": [
             [
              0,
              "#0d0887"
             ],
             [
              0.1111111111111111,
              "#46039f"
             ],
             [
              0.2222222222222222,
              "#7201a8"
             ],
             [
              0.3333333333333333,
              "#9c179e"
             ],
             [
              0.4444444444444444,
              "#bd3786"
             ],
             [
              0.5555555555555556,
              "#d8576b"
             ],
             [
              0.6666666666666666,
              "#ed7953"
             ],
             [
              0.7777777777777778,
              "#fb9f3a"
             ],
             [
              0.8888888888888888,
              "#fdca26"
             ],
             [
              1,
              "#f0f921"
             ]
            ],
            "type": "surface"
           }
          ],
          "table": [
           {
            "cells": {
             "fill": {
              "color": "#EBF0F8"
             },
             "line": {
              "color": "white"
             }
            },
            "header": {
             "fill": {
              "color": "#C8D4E3"
             },
             "line": {
              "color": "white"
             }
            },
            "type": "table"
           }
          ]
         },
         "layout": {
          "annotationdefaults": {
           "arrowcolor": "#2a3f5f",
           "arrowhead": 0,
           "arrowwidth": 1
          },
          "autotypenumbers": "strict",
          "coloraxis": {
           "colorbar": {
            "outlinewidth": 0,
            "ticks": ""
           }
          },
          "colorscale": {
           "diverging": [
            [
             0,
             "#8e0152"
            ],
            [
             0.1,
             "#c51b7d"
            ],
            [
             0.2,
             "#de77ae"
            ],
            [
             0.3,
             "#f1b6da"
            ],
            [
             0.4,
             "#fde0ef"
            ],
            [
             0.5,
             "#f7f7f7"
            ],
            [
             0.6,
             "#e6f5d0"
            ],
            [
             0.7,
             "#b8e186"
            ],
            [
             0.8,
             "#7fbc41"
            ],
            [
             0.9,
             "#4d9221"
            ],
            [
             1,
             "#276419"
            ]
           ],
           "sequential": [
            [
             0,
             "#0d0887"
            ],
            [
             0.1111111111111111,
             "#46039f"
            ],
            [
             0.2222222222222222,
             "#7201a8"
            ],
            [
             0.3333333333333333,
             "#9c179e"
            ],
            [
             0.4444444444444444,
             "#bd3786"
            ],
            [
             0.5555555555555556,
             "#d8576b"
            ],
            [
             0.6666666666666666,
             "#ed7953"
            ],
            [
             0.7777777777777778,
             "#fb9f3a"
            ],
            [
             0.8888888888888888,
             "#fdca26"
            ],
            [
             1,
             "#f0f921"
            ]
           ],
           "sequentialminus": [
            [
             0,
             "#0d0887"
            ],
            [
             0.1111111111111111,
             "#46039f"
            ],
            [
             0.2222222222222222,
             "#7201a8"
            ],
            [
             0.3333333333333333,
             "#9c179e"
            ],
            [
             0.4444444444444444,
             "#bd3786"
            ],
            [
             0.5555555555555556,
             "#d8576b"
            ],
            [
             0.6666666666666666,
             "#ed7953"
            ],
            [
             0.7777777777777778,
             "#fb9f3a"
            ],
            [
             0.8888888888888888,
             "#fdca26"
            ],
            [
             1,
             "#f0f921"
            ]
           ]
          },
          "colorway": [
           "#636efa",
           "#EF553B",
           "#00cc96",
           "#ab63fa",
           "#FFA15A",
           "#19d3f3",
           "#FF6692",
           "#B6E880",
           "#FF97FF",
           "#FECB52"
          ],
          "font": {
           "color": "#2a3f5f"
          },
          "geo": {
           "bgcolor": "white",
           "lakecolor": "white",
           "landcolor": "#E5ECF6",
           "showlakes": true,
           "showland": true,
           "subunitcolor": "white"
          },
          "hoverlabel": {
           "align": "left"
          },
          "hovermode": "closest",
          "mapbox": {
           "style": "light"
          },
          "paper_bgcolor": "white",
          "plot_bgcolor": "#E5ECF6",
          "polar": {
           "angularaxis": {
            "gridcolor": "white",
            "linecolor": "white",
            "ticks": ""
           },
           "bgcolor": "#E5ECF6",
           "radialaxis": {
            "gridcolor": "white",
            "linecolor": "white",
            "ticks": ""
           }
          },
          "scene": {
           "xaxis": {
            "backgroundcolor": "#E5ECF6",
            "gridcolor": "white",
            "gridwidth": 2,
            "linecolor": "white",
            "showbackground": true,
            "ticks": "",
            "zerolinecolor": "white"
           },
           "yaxis": {
            "backgroundcolor": "#E5ECF6",
            "gridcolor": "white",
            "gridwidth": 2,
            "linecolor": "white",
            "showbackground": true,
            "ticks": "",
            "zerolinecolor": "white"
           },
           "zaxis": {
            "backgroundcolor": "#E5ECF6",
            "gridcolor": "white",
            "gridwidth": 2,
            "linecolor": "white",
            "showbackground": true,
            "ticks": "",
            "zerolinecolor": "white"
           }
          },
          "shapedefaults": {
           "line": {
            "color": "#2a3f5f"
           }
          },
          "ternary": {
           "aaxis": {
            "gridcolor": "white",
            "linecolor": "white",
            "ticks": ""
           },
           "baxis": {
            "gridcolor": "white",
            "linecolor": "white",
            "ticks": ""
           },
           "bgcolor": "#E5ECF6",
           "caxis": {
            "gridcolor": "white",
            "linecolor": "white",
            "ticks": ""
           }
          },
          "title": {
           "x": 0.05
          },
          "xaxis": {
           "automargin": true,
           "gridcolor": "white",
           "linecolor": "white",
           "ticks": "",
           "title": {
            "standoff": 15
           },
           "zerolinecolor": "white",
           "zerolinewidth": 2
          },
          "yaxis": {
           "automargin": true,
           "gridcolor": "white",
           "linecolor": "white",
           "ticks": "",
           "title": {
            "standoff": 15
           },
           "zerolinecolor": "white",
           "zerolinewidth": 2
          }
         }
        },
        "title": {
         "text": "Stacked Occurrences by Duration"
        },
        "xaxis": {
         "anchor": "y",
         "domain": [
          0,
          1
         ],
         "title": {
          "text": "Label"
         }
        },
        "yaxis": {
         "anchor": "x",
         "domain": [
          0,
          1
         ],
         "title": {
          "text": "Occurrences"
         }
        }
       }
      }
     },
     "metadata": {},
     "output_type": "display_data"
    }
   ],
   "source": [
    "plot_duration_mix(df_gt_100, 30)"
   ]
  },
  {
   "cell_type": "markdown",
   "metadata": {},
   "source": [
    "#### Marking Strategy\n",
    "- Mark all 26 of Fabio Sierra's first, since they have a consistant voice-sample format\n",
    "- Mark the remaining 118 CSA samples\n",
    "- Mark the 4159 samples from the rarest 120 or so classes.\n",
    "- Mark as many of the remaining 17,000 samples over 12 seconds as I can, from rarest first.\n",
    "- Throw away any remaining samples over 20 seconds, and experiment later with a progressive duration/counts approach for this."
   ]
  },
  {
   "cell_type": "code",
   "execution_count": 220,
   "metadata": {},
   "outputs": [
    {
     "data": {
      "text/html": [
       "<div>\n",
       "<style scoped>\n",
       "    .dataframe tbody tr th:only-of-type {\n",
       "        vertical-align: middle;\n",
       "    }\n",
       "\n",
       "    .dataframe tbody tr th {\n",
       "        vertical-align: top;\n",
       "    }\n",
       "\n",
       "    .dataframe thead th {\n",
       "        text-align: right;\n",
       "    }\n",
       "</style>\n",
       "<table border=\"1\" class=\"dataframe\">\n",
       "  <thead>\n",
       "    <tr style=\"text-align: right;\">\n",
       "      <th></th>\n",
       "      <th>filename</th>\n",
       "      <th>primary_label</th>\n",
       "      <th>url</th>\n",
       "      <th>class</th>\n",
       "      <th>common_name</th>\n",
       "      <th>License</th>\n",
       "      <th>filepath</th>\n",
       "      <th>duration</th>\n",
       "      <th>label_count</th>\n",
       "    </tr>\n",
       "  </thead>\n",
       "  <tbody>\n",
       "    <tr>\n",
       "      <th>8</th>\n",
       "      <td>turvul/XC381486.mp3</td>\n",
       "      <td>turvul</td>\n",
       "      <td>https://xeno-canto.org/381486</td>\n",
       "      <td>aves</td>\n",
       "      <td>Turkey Vulture</td>\n",
       "      <td>Creative Commons Attribution-NonCommercial-NoD...</td>\n",
       "      <td>/home/olly/Desktop/Kaggle_BC25/Data/Original_D...</td>\n",
       "      <td>152.976000</td>\n",
       "      <td>8</td>\n",
       "    </tr>\n",
       "    <tr>\n",
       "      <th>9</th>\n",
       "      <td>turvul/XC520288.mp3</td>\n",
       "      <td>turvul</td>\n",
       "      <td>https://xeno-canto.org/520288</td>\n",
       "      <td>aves</td>\n",
       "      <td>Turkey Vulture</td>\n",
       "      <td>Creative Commons Attribution-NonCommercial-Sha...</td>\n",
       "      <td>/home/olly/Desktop/Kaggle_BC25/Data/Original_D...</td>\n",
       "      <td>114.239000</td>\n",
       "      <td>8</td>\n",
       "    </tr>\n",
       "    <tr>\n",
       "      <th>0</th>\n",
       "      <td>1139490/2391.wav</td>\n",
       "      <td>1139490</td>\n",
       "      <td>http://orthoptera.archive.speciesfile.org/Comm...</td>\n",
       "      <td>insecta</td>\n",
       "      <td>Ragoniella pulchella</td>\n",
       "      <td>CC-BY</td>\n",
       "      <td>/home/olly/Desktop/Kaggle_BC25/Data/Original_D...</td>\n",
       "      <td>86.146259</td>\n",
       "      <td>1</td>\n",
       "    </tr>\n",
       "    <tr>\n",
       "      <th>5</th>\n",
       "      <td>66578/Pristimantis_bogotensis15.wav</td>\n",
       "      <td>66578</td>\n",
       "      <td>https://amphibiaweb.org/sounds/Pristimantis_bo...</td>\n",
       "      <td>amphibia</td>\n",
       "      <td>Bogota Robber Frog</td>\n",
       "      <td>CC-BY-NC</td>\n",
       "      <td>/home/olly/Desktop/Kaggle_BC25/Data/Original_D...</td>\n",
       "      <td>56.424490</td>\n",
       "      <td>1</td>\n",
       "    </tr>\n",
       "    <tr>\n",
       "      <th>13</th>\n",
       "      <td>turvul/XC780516.wav</td>\n",
       "      <td>turvul</td>\n",
       "      <td>https://xeno-canto.org/780516</td>\n",
       "      <td>aves</td>\n",
       "      <td>Turkey Vulture</td>\n",
       "      <td>Creative Commons Attribution-NonCommercial-Sha...</td>\n",
       "      <td>/home/olly/Desktop/Kaggle_BC25/Data/Original_D...</td>\n",
       "      <td>34.833708</td>\n",
       "      <td>8</td>\n",
       "    </tr>\n",
       "  </tbody>\n",
       "</table>\n",
       "</div>"
      ],
      "text/plain": [
       "                               filename primary_label  \\\n",
       "8                   turvul/XC381486.mp3        turvul   \n",
       "9                   turvul/XC520288.mp3        turvul   \n",
       "0                      1139490/2391.wav       1139490   \n",
       "5   66578/Pristimantis_bogotensis15.wav         66578   \n",
       "13                  turvul/XC780516.wav        turvul   \n",
       "\n",
       "                                                  url     class  \\\n",
       "8                       https://xeno-canto.org/381486      aves   \n",
       "9                       https://xeno-canto.org/520288      aves   \n",
       "0   http://orthoptera.archive.speciesfile.org/Comm...   insecta   \n",
       "5   https://amphibiaweb.org/sounds/Pristimantis_bo...  amphibia   \n",
       "13                      https://xeno-canto.org/780516      aves   \n",
       "\n",
       "             common_name                                            License  \\\n",
       "8         Turkey Vulture  Creative Commons Attribution-NonCommercial-NoD...   \n",
       "9         Turkey Vulture  Creative Commons Attribution-NonCommercial-Sha...   \n",
       "0   Ragoniella pulchella                                              CC-BY   \n",
       "5     Bogota Robber Frog                                           CC-BY-NC   \n",
       "13        Turkey Vulture  Creative Commons Attribution-NonCommercial-Sha...   \n",
       "\n",
       "                                             filepath    duration  label_count  \n",
       "8   /home/olly/Desktop/Kaggle_BC25/Data/Original_D...  152.976000            8  \n",
       "9   /home/olly/Desktop/Kaggle_BC25/Data/Original_D...  114.239000            8  \n",
       "0   /home/olly/Desktop/Kaggle_BC25/Data/Original_D...   86.146259            1  \n",
       "5   /home/olly/Desktop/Kaggle_BC25/Data/Original_D...   56.424490            1  \n",
       "13  /home/olly/Desktop/Kaggle_BC25/Data/Original_D...   34.833708            8  "
      ]
     },
     "execution_count": 220,
     "metadata": {},
     "output_type": "execute_result"
    }
   ],
   "source": [
    "df.head()"
   ]
  },
  {
   "cell_type": "code",
   "execution_count": 221,
   "metadata": {},
   "outputs": [
    {
     "data": {
      "text/plain": [
       "15"
      ]
     },
     "execution_count": 221,
     "metadata": {},
     "output_type": "execute_result"
    }
   ],
   "source": [
    "len(df)"
   ]
  },
  {
   "cell_type": "code",
   "execution_count": 222,
   "metadata": {},
   "outputs": [
    {
     "data": {
      "text/plain": [
       "7"
      ]
     },
     "execution_count": 222,
     "metadata": {},
     "output_type": "execute_result"
    }
   ],
   "source": [
    "df=df[df['duration'] > 12]\n",
    "len(df)"
   ]
  },
  {
   "cell_type": "code",
   "execution_count": 223,
   "metadata": {},
   "outputs": [
    {
     "data": {
      "text/html": [
       "<div>\n",
       "<style scoped>\n",
       "    .dataframe tbody tr th:only-of-type {\n",
       "        vertical-align: middle;\n",
       "    }\n",
       "\n",
       "    .dataframe tbody tr th {\n",
       "        vertical-align: top;\n",
       "    }\n",
       "\n",
       "    .dataframe thead th {\n",
       "        text-align: right;\n",
       "    }\n",
       "</style>\n",
       "<table border=\"1\" class=\"dataframe\">\n",
       "  <thead>\n",
       "    <tr style=\"text-align: right;\">\n",
       "      <th></th>\n",
       "      <th>filename</th>\n",
       "      <th>primary_label</th>\n",
       "      <th>url</th>\n",
       "      <th>class</th>\n",
       "      <th>common_name</th>\n",
       "      <th>License</th>\n",
       "      <th>filepath</th>\n",
       "      <th>duration</th>\n",
       "      <th>label_count</th>\n",
       "      <th>centres</th>\n",
       "      <th>date_reviewed</th>\n",
       "    </tr>\n",
       "  </thead>\n",
       "  <tbody>\n",
       "    <tr>\n",
       "      <th>8</th>\n",
       "      <td>turvul/XC381486.mp3</td>\n",
       "      <td>turvul</td>\n",
       "      <td>https://xeno-canto.org/381486</td>\n",
       "      <td>aves</td>\n",
       "      <td>Turkey Vulture</td>\n",
       "      <td>Creative Commons Attribution-NonCommercial-NoD...</td>\n",
       "      <td>/home/olly/Desktop/Kaggle_BC25/Data/Original_D...</td>\n",
       "      <td>152.976000</td>\n",
       "      <td>8</td>\n",
       "      <td>[]</td>\n",
       "      <td>NaT</td>\n",
       "    </tr>\n",
       "    <tr>\n",
       "      <th>9</th>\n",
       "      <td>turvul/XC520288.mp3</td>\n",
       "      <td>turvul</td>\n",
       "      <td>https://xeno-canto.org/520288</td>\n",
       "      <td>aves</td>\n",
       "      <td>Turkey Vulture</td>\n",
       "      <td>Creative Commons Attribution-NonCommercial-Sha...</td>\n",
       "      <td>/home/olly/Desktop/Kaggle_BC25/Data/Original_D...</td>\n",
       "      <td>114.239000</td>\n",
       "      <td>8</td>\n",
       "      <td>[]</td>\n",
       "      <td>NaT</td>\n",
       "    </tr>\n",
       "    <tr>\n",
       "      <th>0</th>\n",
       "      <td>1139490/2391.wav</td>\n",
       "      <td>1139490</td>\n",
       "      <td>http://orthoptera.archive.speciesfile.org/Comm...</td>\n",
       "      <td>insecta</td>\n",
       "      <td>Ragoniella pulchella</td>\n",
       "      <td>CC-BY</td>\n",
       "      <td>/home/olly/Desktop/Kaggle_BC25/Data/Original_D...</td>\n",
       "      <td>86.146259</td>\n",
       "      <td>1</td>\n",
       "      <td>[]</td>\n",
       "      <td>NaT</td>\n",
       "    </tr>\n",
       "    <tr>\n",
       "      <th>5</th>\n",
       "      <td>66578/Pristimantis_bogotensis15.wav</td>\n",
       "      <td>66578</td>\n",
       "      <td>https://amphibiaweb.org/sounds/Pristimantis_bo...</td>\n",
       "      <td>amphibia</td>\n",
       "      <td>Bogota Robber Frog</td>\n",
       "      <td>CC-BY-NC</td>\n",
       "      <td>/home/olly/Desktop/Kaggle_BC25/Data/Original_D...</td>\n",
       "      <td>56.424490</td>\n",
       "      <td>1</td>\n",
       "      <td>[]</td>\n",
       "      <td>NaT</td>\n",
       "    </tr>\n",
       "    <tr>\n",
       "      <th>13</th>\n",
       "      <td>turvul/XC780516.wav</td>\n",
       "      <td>turvul</td>\n",
       "      <td>https://xeno-canto.org/780516</td>\n",
       "      <td>aves</td>\n",
       "      <td>Turkey Vulture</td>\n",
       "      <td>Creative Commons Attribution-NonCommercial-Sha...</td>\n",
       "      <td>/home/olly/Desktop/Kaggle_BC25/Data/Original_D...</td>\n",
       "      <td>34.833708</td>\n",
       "      <td>8</td>\n",
       "      <td>[]</td>\n",
       "      <td>NaT</td>\n",
       "    </tr>\n",
       "    <tr>\n",
       "      <th>14</th>\n",
       "      <td>turvul/XC904279.wav</td>\n",
       "      <td>turvul</td>\n",
       "      <td>https://xeno-canto.org/904279</td>\n",
       "      <td>aves</td>\n",
       "      <td>Turkey Vulture</td>\n",
       "      <td>Creative Commons Attribution-NonCommercial-Sha...</td>\n",
       "      <td>/home/olly/Desktop/Kaggle_BC25/Data/Original_D...</td>\n",
       "      <td>27.299184</td>\n",
       "      <td>8</td>\n",
       "      <td>[]</td>\n",
       "      <td>NaT</td>\n",
       "    </tr>\n",
       "    <tr>\n",
       "      <th>11</th>\n",
       "      <td>turvul/XC748979.mp3</td>\n",
       "      <td>turvul</td>\n",
       "      <td>https://xeno-canto.org/748979</td>\n",
       "      <td>aves</td>\n",
       "      <td>Turkey Vulture</td>\n",
       "      <td>Creative Commons Attribution-NonCommercial-Sha...</td>\n",
       "      <td>/home/olly/Desktop/Kaggle_BC25/Data/Original_D...</td>\n",
       "      <td>13.866009</td>\n",
       "      <td>8</td>\n",
       "      <td>[]</td>\n",
       "      <td>NaT</td>\n",
       "    </tr>\n",
       "  </tbody>\n",
       "</table>\n",
       "</div>"
      ],
      "text/plain": [
       "                               filename primary_label  \\\n",
       "8                   turvul/XC381486.mp3        turvul   \n",
       "9                   turvul/XC520288.mp3        turvul   \n",
       "0                      1139490/2391.wav       1139490   \n",
       "5   66578/Pristimantis_bogotensis15.wav         66578   \n",
       "13                  turvul/XC780516.wav        turvul   \n",
       "14                  turvul/XC904279.wav        turvul   \n",
       "11                  turvul/XC748979.mp3        turvul   \n",
       "\n",
       "                                                  url     class  \\\n",
       "8                       https://xeno-canto.org/381486      aves   \n",
       "9                       https://xeno-canto.org/520288      aves   \n",
       "0   http://orthoptera.archive.speciesfile.org/Comm...   insecta   \n",
       "5   https://amphibiaweb.org/sounds/Pristimantis_bo...  amphibia   \n",
       "13                      https://xeno-canto.org/780516      aves   \n",
       "14                      https://xeno-canto.org/904279      aves   \n",
       "11                      https://xeno-canto.org/748979      aves   \n",
       "\n",
       "             common_name                                            License  \\\n",
       "8         Turkey Vulture  Creative Commons Attribution-NonCommercial-NoD...   \n",
       "9         Turkey Vulture  Creative Commons Attribution-NonCommercial-Sha...   \n",
       "0   Ragoniella pulchella                                              CC-BY   \n",
       "5     Bogota Robber Frog                                           CC-BY-NC   \n",
       "13        Turkey Vulture  Creative Commons Attribution-NonCommercial-Sha...   \n",
       "14        Turkey Vulture  Creative Commons Attribution-NonCommercial-Sha...   \n",
       "11        Turkey Vulture  Creative Commons Attribution-NonCommercial-Sha...   \n",
       "\n",
       "                                             filepath    duration  \\\n",
       "8   /home/olly/Desktop/Kaggle_BC25/Data/Original_D...  152.976000   \n",
       "9   /home/olly/Desktop/Kaggle_BC25/Data/Original_D...  114.239000   \n",
       "0   /home/olly/Desktop/Kaggle_BC25/Data/Original_D...   86.146259   \n",
       "5   /home/olly/Desktop/Kaggle_BC25/Data/Original_D...   56.424490   \n",
       "13  /home/olly/Desktop/Kaggle_BC25/Data/Original_D...   34.833708   \n",
       "14  /home/olly/Desktop/Kaggle_BC25/Data/Original_D...   27.299184   \n",
       "11  /home/olly/Desktop/Kaggle_BC25/Data/Original_D...   13.866009   \n",
       "\n",
       "    label_count centres date_reviewed  \n",
       "8             8      []           NaT  \n",
       "9             8      []           NaT  \n",
       "0             1      []           NaT  \n",
       "5             1      []           NaT  \n",
       "13            8      []           NaT  \n",
       "14            8      []           NaT  \n",
       "11            8      []           NaT  "
      ]
     },
     "execution_count": 223,
     "metadata": {},
     "output_type": "execute_result"
    }
   ],
   "source": [
    "#df['sort_csa'] = df['collection'].eq('CSA')  # True if 'csa', else False\n",
    "#df['sort_fabio'] = df['author'].eq('Fabio A. Sarria-S')  # True if 'Fabio', else False\n",
    "#df = df.sort_values(by=[ 'sort_fabio', 'sort_csa','label_count',], ascending=[False, False, True])\n",
    "#df = df.drop(columns=['label_count', 'sort_csa', 'sort_fabio']).reset_index(drop=True)\n",
    "if 'centres' not in df.columns:\n",
    "    df['centres'] = [[] for _ in range(len(df))]\n",
    "if 'date_reviewed' not in df.columns:\n",
    "    df['date_reviewed'] = pd.NaT  # Assigns missing datetime values\n",
    "df.head(12)"
   ]
  },
  {
   "cell_type": "code",
   "execution_count": 224,
   "metadata": {},
   "outputs": [],
   "source": [
    "reviewed = df[~df['date_reviewed'].isna()].reset_index(drop=True).copy()\n",
    "not_reviewed = df[df['date_reviewed'].isna()].reset_index(drop=True).copy()"
   ]
  },
  {
   "cell_type": "code",
   "execution_count": 225,
   "metadata": {},
   "outputs": [
    {
     "data": {
      "text/html": [
       "<div>\n",
       "<style scoped>\n",
       "    .dataframe tbody tr th:only-of-type {\n",
       "        vertical-align: middle;\n",
       "    }\n",
       "\n",
       "    .dataframe tbody tr th {\n",
       "        vertical-align: top;\n",
       "    }\n",
       "\n",
       "    .dataframe thead th {\n",
       "        text-align: right;\n",
       "    }\n",
       "</style>\n",
       "<table border=\"1\" class=\"dataframe\">\n",
       "  <thead>\n",
       "    <tr style=\"text-align: right;\">\n",
       "      <th></th>\n",
       "      <th>filename</th>\n",
       "      <th>primary_label</th>\n",
       "      <th>url</th>\n",
       "      <th>class</th>\n",
       "      <th>common_name</th>\n",
       "      <th>License</th>\n",
       "      <th>filepath</th>\n",
       "      <th>duration</th>\n",
       "      <th>label_count</th>\n",
       "      <th>centres</th>\n",
       "      <th>date_reviewed</th>\n",
       "    </tr>\n",
       "  </thead>\n",
       "  <tbody>\n",
       "    <tr>\n",
       "      <th>0</th>\n",
       "      <td>turvul/XC381486.mp3</td>\n",
       "      <td>turvul</td>\n",
       "      <td>https://xeno-canto.org/381486</td>\n",
       "      <td>aves</td>\n",
       "      <td>Turkey Vulture</td>\n",
       "      <td>Creative Commons Attribution-NonCommercial-NoD...</td>\n",
       "      <td>/home/olly/Desktop/Kaggle_BC25/Data/Original_D...</td>\n",
       "      <td>152.976000</td>\n",
       "      <td>8</td>\n",
       "      <td>[]</td>\n",
       "      <td>NaT</td>\n",
       "    </tr>\n",
       "    <tr>\n",
       "      <th>1</th>\n",
       "      <td>turvul/XC520288.mp3</td>\n",
       "      <td>turvul</td>\n",
       "      <td>https://xeno-canto.org/520288</td>\n",
       "      <td>aves</td>\n",
       "      <td>Turkey Vulture</td>\n",
       "      <td>Creative Commons Attribution-NonCommercial-Sha...</td>\n",
       "      <td>/home/olly/Desktop/Kaggle_BC25/Data/Original_D...</td>\n",
       "      <td>114.239000</td>\n",
       "      <td>8</td>\n",
       "      <td>[]</td>\n",
       "      <td>NaT</td>\n",
       "    </tr>\n",
       "    <tr>\n",
       "      <th>2</th>\n",
       "      <td>1139490/2391.wav</td>\n",
       "      <td>1139490</td>\n",
       "      <td>http://orthoptera.archive.speciesfile.org/Comm...</td>\n",
       "      <td>insecta</td>\n",
       "      <td>Ragoniella pulchella</td>\n",
       "      <td>CC-BY</td>\n",
       "      <td>/home/olly/Desktop/Kaggle_BC25/Data/Original_D...</td>\n",
       "      <td>86.146259</td>\n",
       "      <td>1</td>\n",
       "      <td>[]</td>\n",
       "      <td>NaT</td>\n",
       "    </tr>\n",
       "  </tbody>\n",
       "</table>\n",
       "</div>"
      ],
      "text/plain": [
       "              filename primary_label  \\\n",
       "0  turvul/XC381486.mp3        turvul   \n",
       "1  turvul/XC520288.mp3        turvul   \n",
       "2     1139490/2391.wav       1139490   \n",
       "\n",
       "                                                 url    class  \\\n",
       "0                      https://xeno-canto.org/381486     aves   \n",
       "1                      https://xeno-canto.org/520288     aves   \n",
       "2  http://orthoptera.archive.speciesfile.org/Comm...  insecta   \n",
       "\n",
       "            common_name                                            License  \\\n",
       "0        Turkey Vulture  Creative Commons Attribution-NonCommercial-NoD...   \n",
       "1        Turkey Vulture  Creative Commons Attribution-NonCommercial-Sha...   \n",
       "2  Ragoniella pulchella                                              CC-BY   \n",
       "\n",
       "                                            filepath    duration  label_count  \\\n",
       "0  /home/olly/Desktop/Kaggle_BC25/Data/Original_D...  152.976000            8   \n",
       "1  /home/olly/Desktop/Kaggle_BC25/Data/Original_D...  114.239000            8   \n",
       "2  /home/olly/Desktop/Kaggle_BC25/Data/Original_D...   86.146259            1   \n",
       "\n",
       "  centres date_reviewed  \n",
       "0      []           NaT  \n",
       "1      []           NaT  \n",
       "2      []           NaT  "
      ]
     },
     "execution_count": 225,
     "metadata": {},
     "output_type": "execute_result"
    }
   ],
   "source": [
    "not_reviewed.head(3)"
   ]
  },
  {
   "cell_type": "code",
   "execution_count": 226,
   "metadata": {},
   "outputs": [
    {
     "name": "stdout",
     "output_type": "stream",
     "text": [
      "/home/olly/Desktop/Kaggle_BC25/Data/Original_Data/birdclef-2025/Extra_Samples/turvul/XC381486.mp3\n"
     ]
    },
    {
     "ename": "KeyError",
     "evalue": "'secondary_labels'",
     "output_type": "error",
     "traceback": [
      "\u001b[0;31m---------------------------------------------------------------------------\u001b[0m",
      "\u001b[0;31mKeyError\u001b[0m                                  Traceback (most recent call last)",
      "File \u001b[0;32m~/miniconda3/envs/bird_audio_ml/lib/python3.11/site-packages/pandas/core/indexes/base.py:3805\u001b[0m, in \u001b[0;36mIndex.get_loc\u001b[0;34m(self, key)\u001b[0m\n\u001b[1;32m   3804\u001b[0m \u001b[38;5;28;01mtry\u001b[39;00m:\n\u001b[0;32m-> 3805\u001b[0m     \u001b[38;5;28;01mreturn\u001b[39;00m \u001b[38;5;28;43mself\u001b[39;49m\u001b[38;5;241;43m.\u001b[39;49m\u001b[43m_engine\u001b[49m\u001b[38;5;241;43m.\u001b[39;49m\u001b[43mget_loc\u001b[49m\u001b[43m(\u001b[49m\u001b[43mcasted_key\u001b[49m\u001b[43m)\u001b[49m\n\u001b[1;32m   3806\u001b[0m \u001b[38;5;28;01mexcept\u001b[39;00m \u001b[38;5;167;01mKeyError\u001b[39;00m \u001b[38;5;28;01mas\u001b[39;00m err:\n",
      "File \u001b[0;32mindex.pyx:167\u001b[0m, in \u001b[0;36mpandas._libs.index.IndexEngine.get_loc\u001b[0;34m()\u001b[0m\n",
      "File \u001b[0;32mindex.pyx:196\u001b[0m, in \u001b[0;36mpandas._libs.index.IndexEngine.get_loc\u001b[0;34m()\u001b[0m\n",
      "File \u001b[0;32mpandas/_libs/hashtable_class_helper.pxi:7081\u001b[0m, in \u001b[0;36mpandas._libs.hashtable.PyObjectHashTable.get_item\u001b[0;34m()\u001b[0m\n",
      "File \u001b[0;32mpandas/_libs/hashtable_class_helper.pxi:7089\u001b[0m, in \u001b[0;36mpandas._libs.hashtable.PyObjectHashTable.get_item\u001b[0;34m()\u001b[0m\n",
      "\u001b[0;31mKeyError\u001b[0m: 'secondary_labels'",
      "\nThe above exception was the direct cause of the following exception:\n",
      "\u001b[0;31mKeyError\u001b[0m                                  Traceback (most recent call last)",
      "Cell \u001b[0;32mIn[226], line 6\u001b[0m\n\u001b[1;32m      4\u001b[0m common_name \u001b[38;5;241m=\u001b[39m not_reviewed\u001b[38;5;241m.\u001b[39mat[\u001b[38;5;241m0\u001b[39m, \u001b[38;5;124m'\u001b[39m\u001b[38;5;124mcommon_name\u001b[39m\u001b[38;5;124m'\u001b[39m]\n\u001b[1;32m      5\u001b[0m zoo_class \u001b[38;5;241m=\u001b[39m  not_reviewed\u001b[38;5;241m.\u001b[39mat[\u001b[38;5;241m0\u001b[39m, \u001b[38;5;124m'\u001b[39m\u001b[38;5;124mclass\u001b[39m\u001b[38;5;124m'\u001b[39m]\n\u001b[0;32m----> 6\u001b[0m secondary \u001b[38;5;241m=\u001b[39m \u001b[43mnot_reviewed\u001b[49m\u001b[38;5;241;43m.\u001b[39;49m\u001b[43mat\u001b[49m\u001b[43m[\u001b[49m\u001b[38;5;241;43m0\u001b[39;49m\u001b[43m,\u001b[49m\u001b[43m \u001b[49m\u001b[38;5;124;43m'\u001b[39;49m\u001b[38;5;124;43msecondary_labels\u001b[39;49m\u001b[38;5;124;43m'\u001b[39;49m\u001b[43m]\u001b[49m\n\u001b[1;32m      7\u001b[0m \u001b[38;5;28mprint\u001b[39m(\u001b[38;5;124mf\u001b[39m\u001b[38;5;124m'\u001b[39m\u001b[38;5;124mSecondary Labels: \u001b[39m\u001b[38;5;132;01m{\u001b[39;00msecondary\u001b[38;5;132;01m}\u001b[39;00m\u001b[38;5;124m'\u001b[39m)\n\u001b[1;32m      8\u001b[0m logged \u001b[38;5;241m=\u001b[39m \u001b[38;5;28;01mFalse\u001b[39;00m\n",
      "File \u001b[0;32m~/miniconda3/envs/bird_audio_ml/lib/python3.11/site-packages/pandas/core/indexing.py:2575\u001b[0m, in \u001b[0;36m_AtIndexer.__getitem__\u001b[0;34m(self, key)\u001b[0m\n\u001b[1;32m   2572\u001b[0m         \u001b[38;5;28;01mraise\u001b[39;00m \u001b[38;5;167;01mValueError\u001b[39;00m(\u001b[38;5;124m\"\u001b[39m\u001b[38;5;124mInvalid call for scalar access (getting)!\u001b[39m\u001b[38;5;124m\"\u001b[39m)\n\u001b[1;32m   2573\u001b[0m     \u001b[38;5;28;01mreturn\u001b[39;00m \u001b[38;5;28mself\u001b[39m\u001b[38;5;241m.\u001b[39mobj\u001b[38;5;241m.\u001b[39mloc[key]\n\u001b[0;32m-> 2575\u001b[0m \u001b[38;5;28;01mreturn\u001b[39;00m \u001b[38;5;28;43msuper\u001b[39;49m\u001b[43m(\u001b[49m\u001b[43m)\u001b[49m\u001b[38;5;241;43m.\u001b[39;49m\u001b[38;5;21;43m__getitem__\u001b[39;49m\u001b[43m(\u001b[49m\u001b[43mkey\u001b[49m\u001b[43m)\u001b[49m\n",
      "File \u001b[0;32m~/miniconda3/envs/bird_audio_ml/lib/python3.11/site-packages/pandas/core/indexing.py:2527\u001b[0m, in \u001b[0;36m_ScalarAccessIndexer.__getitem__\u001b[0;34m(self, key)\u001b[0m\n\u001b[1;32m   2524\u001b[0m         \u001b[38;5;28;01mraise\u001b[39;00m \u001b[38;5;167;01mValueError\u001b[39;00m(\u001b[38;5;124m\"\u001b[39m\u001b[38;5;124mInvalid call for scalar access (getting)!\u001b[39m\u001b[38;5;124m\"\u001b[39m)\n\u001b[1;32m   2526\u001b[0m key \u001b[38;5;241m=\u001b[39m \u001b[38;5;28mself\u001b[39m\u001b[38;5;241m.\u001b[39m_convert_key(key)\n\u001b[0;32m-> 2527\u001b[0m \u001b[38;5;28;01mreturn\u001b[39;00m \u001b[38;5;28;43mself\u001b[39;49m\u001b[38;5;241;43m.\u001b[39;49m\u001b[43mobj\u001b[49m\u001b[38;5;241;43m.\u001b[39;49m\u001b[43m_get_value\u001b[49m\u001b[43m(\u001b[49m\u001b[38;5;241;43m*\u001b[39;49m\u001b[43mkey\u001b[49m\u001b[43m,\u001b[49m\u001b[43m \u001b[49m\u001b[43mtakeable\u001b[49m\u001b[38;5;241;43m=\u001b[39;49m\u001b[38;5;28;43mself\u001b[39;49m\u001b[38;5;241;43m.\u001b[39;49m\u001b[43m_takeable\u001b[49m\u001b[43m)\u001b[49m\n",
      "File \u001b[0;32m~/miniconda3/envs/bird_audio_ml/lib/python3.11/site-packages/pandas/core/frame.py:4214\u001b[0m, in \u001b[0;36mDataFrame._get_value\u001b[0;34m(self, index, col, takeable)\u001b[0m\n\u001b[1;32m   4211\u001b[0m     series \u001b[38;5;241m=\u001b[39m \u001b[38;5;28mself\u001b[39m\u001b[38;5;241m.\u001b[39m_ixs(col, axis\u001b[38;5;241m=\u001b[39m\u001b[38;5;241m1\u001b[39m)\n\u001b[1;32m   4212\u001b[0m     \u001b[38;5;28;01mreturn\u001b[39;00m series\u001b[38;5;241m.\u001b[39m_values[index]\n\u001b[0;32m-> 4214\u001b[0m series \u001b[38;5;241m=\u001b[39m \u001b[38;5;28;43mself\u001b[39;49m\u001b[38;5;241;43m.\u001b[39;49m\u001b[43m_get_item_cache\u001b[49m\u001b[43m(\u001b[49m\u001b[43mcol\u001b[49m\u001b[43m)\u001b[49m\n\u001b[1;32m   4215\u001b[0m engine \u001b[38;5;241m=\u001b[39m \u001b[38;5;28mself\u001b[39m\u001b[38;5;241m.\u001b[39mindex\u001b[38;5;241m.\u001b[39m_engine\n\u001b[1;32m   4217\u001b[0m \u001b[38;5;28;01mif\u001b[39;00m \u001b[38;5;129;01mnot\u001b[39;00m \u001b[38;5;28misinstance\u001b[39m(\u001b[38;5;28mself\u001b[39m\u001b[38;5;241m.\u001b[39mindex, MultiIndex):\n\u001b[1;32m   4218\u001b[0m     \u001b[38;5;66;03m# CategoricalIndex: Trying to use the engine fastpath may give incorrect\u001b[39;00m\n\u001b[1;32m   4219\u001b[0m     \u001b[38;5;66;03m#  results if our categories are integers that dont match our codes\u001b[39;00m\n\u001b[1;32m   4220\u001b[0m     \u001b[38;5;66;03m# IntervalIndex: IntervalTree has no get_loc\u001b[39;00m\n",
      "File \u001b[0;32m~/miniconda3/envs/bird_audio_ml/lib/python3.11/site-packages/pandas/core/frame.py:4638\u001b[0m, in \u001b[0;36mDataFrame._get_item_cache\u001b[0;34m(self, item)\u001b[0m\n\u001b[1;32m   4633\u001b[0m res \u001b[38;5;241m=\u001b[39m cache\u001b[38;5;241m.\u001b[39mget(item)\n\u001b[1;32m   4634\u001b[0m \u001b[38;5;28;01mif\u001b[39;00m res \u001b[38;5;129;01mis\u001b[39;00m \u001b[38;5;28;01mNone\u001b[39;00m:\n\u001b[1;32m   4635\u001b[0m     \u001b[38;5;66;03m# All places that call _get_item_cache have unique columns,\u001b[39;00m\n\u001b[1;32m   4636\u001b[0m     \u001b[38;5;66;03m#  pending resolution of GH#33047\u001b[39;00m\n\u001b[0;32m-> 4638\u001b[0m     loc \u001b[38;5;241m=\u001b[39m \u001b[38;5;28;43mself\u001b[39;49m\u001b[38;5;241;43m.\u001b[39;49m\u001b[43mcolumns\u001b[49m\u001b[38;5;241;43m.\u001b[39;49m\u001b[43mget_loc\u001b[49m\u001b[43m(\u001b[49m\u001b[43mitem\u001b[49m\u001b[43m)\u001b[49m\n\u001b[1;32m   4639\u001b[0m     res \u001b[38;5;241m=\u001b[39m \u001b[38;5;28mself\u001b[39m\u001b[38;5;241m.\u001b[39m_ixs(loc, axis\u001b[38;5;241m=\u001b[39m\u001b[38;5;241m1\u001b[39m)\n\u001b[1;32m   4641\u001b[0m     cache[item] \u001b[38;5;241m=\u001b[39m res\n",
      "File \u001b[0;32m~/miniconda3/envs/bird_audio_ml/lib/python3.11/site-packages/pandas/core/indexes/base.py:3812\u001b[0m, in \u001b[0;36mIndex.get_loc\u001b[0;34m(self, key)\u001b[0m\n\u001b[1;32m   3807\u001b[0m     \u001b[38;5;28;01mif\u001b[39;00m \u001b[38;5;28misinstance\u001b[39m(casted_key, \u001b[38;5;28mslice\u001b[39m) \u001b[38;5;129;01mor\u001b[39;00m (\n\u001b[1;32m   3808\u001b[0m         \u001b[38;5;28misinstance\u001b[39m(casted_key, abc\u001b[38;5;241m.\u001b[39mIterable)\n\u001b[1;32m   3809\u001b[0m         \u001b[38;5;129;01mand\u001b[39;00m \u001b[38;5;28many\u001b[39m(\u001b[38;5;28misinstance\u001b[39m(x, \u001b[38;5;28mslice\u001b[39m) \u001b[38;5;28;01mfor\u001b[39;00m x \u001b[38;5;129;01min\u001b[39;00m casted_key)\n\u001b[1;32m   3810\u001b[0m     ):\n\u001b[1;32m   3811\u001b[0m         \u001b[38;5;28;01mraise\u001b[39;00m InvalidIndexError(key)\n\u001b[0;32m-> 3812\u001b[0m     \u001b[38;5;28;01mraise\u001b[39;00m \u001b[38;5;167;01mKeyError\u001b[39;00m(key) \u001b[38;5;28;01mfrom\u001b[39;00m \u001b[38;5;21;01merr\u001b[39;00m\n\u001b[1;32m   3813\u001b[0m \u001b[38;5;28;01mexcept\u001b[39;00m \u001b[38;5;167;01mTypeError\u001b[39;00m:\n\u001b[1;32m   3814\u001b[0m     \u001b[38;5;66;03m# If we have a listlike key, _check_indexing_error will raise\u001b[39;00m\n\u001b[1;32m   3815\u001b[0m     \u001b[38;5;66;03m#  InvalidIndexError. Otherwise we fall through and re-raise\u001b[39;00m\n\u001b[1;32m   3816\u001b[0m     \u001b[38;5;66;03m#  the TypeError.\u001b[39;00m\n\u001b[1;32m   3817\u001b[0m     \u001b[38;5;28mself\u001b[39m\u001b[38;5;241m.\u001b[39m_check_indexing_error(key)\n",
      "\u001b[0;31mKeyError\u001b[0m: 'secondary_labels'"
     ]
    }
   ],
   "source": [
    "#print(f\"Processing row with primary_label: {not_reviewed.at[0,'primary_label']}\")\n",
    "filepath = paths.ORIGINAL_AUDIO / not_reviewed.at[0,'filename'] #.iloc[0]\n",
    "print(filepath)\n",
    "common_name = not_reviewed.at[0, 'common_name']\n",
    "zoo_class =  not_reviewed.at[0, 'class']\n",
    "secondary = not_reviewed.at[0, 'secondary_labels']\n",
    "print(f'Secondary Labels: {secondary}')\n",
    "logged = False\n",
    "marked_times = False\n",
    "marked_times = mark_one_sample(filepath, common_name, zoo_class)"
   ]
  },
  {
   "cell_type": "code",
   "execution_count": null,
   "metadata": {},
   "outputs": [],
   "source": [
    "if marked_times and not logged:\n",
    "    not_reviewed.at[0, 'centres'] = marked_times\n",
    "    not_reviewed.at[0, 'date_reviewed'] = pd.Timestamp.now()\n",
    "    reviewed = pd.concat([reviewed, not_reviewed.iloc[[0]]], ignore_index=True)\n",
    "    not_reviewed = not_reviewed.iloc[1:].reset_index(drop=True)  # Drop first row and reset index\n",
    "    updated_df = pd.concat([reviewed, not_reviewed], ignore_index=True)\n",
    "    updated_df.to_parquet(paths.CROP_LABELS, engine=\"pyarrow\")\n",
    "    print(f'The following time centres getting added: {marked_times}')\n",
    "    plt.close()\n",
    "    logged=True"
   ]
  },
  {
   "cell_type": "code",
   "execution_count": null,
   "metadata": {},
   "outputs": [
    {
     "data": {
      "text/html": [
       "<div>\n",
       "<style scoped>\n",
       "    .dataframe tbody tr th:only-of-type {\n",
       "        vertical-align: middle;\n",
       "    }\n",
       "\n",
       "    .dataframe tbody tr th {\n",
       "        vertical-align: top;\n",
       "    }\n",
       "\n",
       "    .dataframe thead th {\n",
       "        text-align: right;\n",
       "    }\n",
       "</style>\n",
       "<table border=\"1\" class=\"dataframe\">\n",
       "  <thead>\n",
       "    <tr style=\"text-align: right;\">\n",
       "      <th></th>\n",
       "      <th>filename</th>\n",
       "      <th>primary_label</th>\n",
       "      <th>collection</th>\n",
       "      <th>author</th>\n",
       "      <th>common_name</th>\n",
       "      <th>class</th>\n",
       "      <th>secondary_labels</th>\n",
       "      <th>duration</th>\n",
       "      <th>centres</th>\n",
       "      <th>date_reviewed</th>\n",
       "    </tr>\n",
       "  </thead>\n",
       "  <tbody>\n",
       "    <tr>\n",
       "      <th>5613</th>\n",
       "      <td>strowl1/XC577721.ogg</td>\n",
       "      <td>strowl1</td>\n",
       "      <td>XC</td>\n",
       "      <td>JAYRSON ARAUJO DE OLIVEIRA</td>\n",
       "      <td>Striped Owl</td>\n",
       "      <td>aves</td>\n",
       "      <td>['']</td>\n",
       "      <td>350.955094</td>\n",
       "      <td>[6.0, 17.7, 29.4, 41.1, 52.8, 64.4, 76.1, 87.8...</td>\n",
       "      <td>2025-04-10 16:19:39.394977</td>\n",
       "    </tr>\n",
       "  </tbody>\n",
       "</table>\n",
       "</div>"
      ],
      "text/plain": [
       "                  filename primary_label collection  \\\n",
       "5613  strowl1/XC577721.ogg       strowl1         XC   \n",
       "\n",
       "                          author  common_name class secondary_labels  \\\n",
       "5613  JAYRSON ARAUJO DE OLIVEIRA  Striped Owl  aves             ['']   \n",
       "\n",
       "        duration                                            centres  \\\n",
       "5613  350.955094  [6.0, 17.7, 29.4, 41.1, 52.8, 64.4, 76.1, 87.8...   \n",
       "\n",
       "                  date_reviewed  \n",
       "5613 2025-04-10 16:19:39.394977  "
      ]
     },
     "execution_count": 32,
     "metadata": {},
     "output_type": "execute_result"
    }
   ],
   "source": [
    "reviewed.tail(1)"
   ]
  },
  {
   "cell_type": "markdown",
   "metadata": {},
   "source": [
    "rejects:  \n",
    "cargra1/iNat969137.ogg  \n",
    "41663/iNat181697.ogg  (actually I think it's the one after this, a racoon)  \n",
    "41663/iNat1187502.ogg  \n",
    "41663/iNat1001216.ogg  \n",
    "gybmar/XC277037.ogg  \n",
    "babwar/iNat399853.ogg\n",
    "babwar/iNat247468.ogg"
   ]
  }
 ],
 "metadata": {
  "kaggle": {
   "accelerator": "none",
   "dataSources": [
    {
     "databundleVersionId": 11361821,
     "sourceId": 91844,
     "sourceType": "competition"
    }
   ],
   "dockerImageVersionId": 30918,
   "isGpuEnabled": false,
   "isInternetEnabled": true,
   "language": "python",
   "sourceType": "notebook"
  },
  "kernelspec": {
   "display_name": "bird_audio_ml",
   "language": "python",
   "name": "python3"
  },
  "language_info": {
   "codemirror_mode": {
    "name": "ipython",
    "version": 3
   },
   "file_extension": ".py",
   "mimetype": "text/x-python",
   "name": "python",
   "nbconvert_exporter": "python",
   "pygments_lexer": "ipython3",
   "version": "3.11.9"
  }
 },
 "nbformat": 4,
 "nbformat_minor": 4
}
